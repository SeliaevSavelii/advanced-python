{
  "cells": [
    {
      "cell_type": "markdown",
      "id": "42289889-bd57-434e-9637-d3e354756316",
      "metadata": {
        "id": "42289889-bd57-434e-9637-d3e354756316"
      },
      "source": [
        "<center> <img src = https://raw.githubusercontent.com/AndreyRysistov/DatasetsForPandas/main/hh%20label.jpg alt=\"drawing\" style=\"width:400px;\">"
      ]
    },
    {
      "cell_type": "markdown",
      "id": "829cb75b-f14e-4ba8-9195-7ba929a7d656",
      "metadata": {
        "tags": [],
        "id": "829cb75b-f14e-4ba8-9195-7ba929a7d656"
      },
      "source": [
        "# <center> Проект: Анализ резюме из HeadHunter\n",
        "   "
      ]
    },
    {
      "cell_type": "code",
      "execution_count": 2,
      "id": "dccfde33-2452-43fb-a8a5-5c6ebc02a71d",
      "metadata": {
        "id": "dccfde33-2452-43fb-a8a5-5c6ebc02a71d"
      },
      "outputs": [],
      "source": [
        "import pandas as pd\n",
        "import numpy as np\n",
        "import matplotlib.pyplot as plt\n",
        "import seaborn as sns\n",
        "import plotly.express as px"
      ]
    },
    {
      "cell_type": "code",
      "source": [
        "from datetime import datetime"
      ],
      "metadata": {
        "id": "VIw6JC5QG01m"
      },
      "id": "VIw6JC5QG01m",
      "execution_count": 20,
      "outputs": []
    },
    {
      "cell_type": "markdown",
      "id": "0dc6476b-7a00-44f1-ac93-6e3baed33a29",
      "metadata": {
        "id": "0dc6476b-7a00-44f1-ac93-6e3baed33a29"
      },
      "source": [
        "# Исследование структуры данных"
      ]
    },
    {
      "cell_type": "markdown",
      "id": "889782b6-8d1c-410e-8920-e57f27917c64",
      "metadata": {
        "id": "889782b6-8d1c-410e-8920-e57f27917c64"
      },
      "source": [
        "1. Прочитайте данные с помощью библиотеки Pandas. Совет: перед чтением обратите внимание на разделитель внутри файла."
      ]
    },
    {
      "cell_type": "code",
      "execution_count": 3,
      "id": "bc39e68e-ed02-4ee2-9235-7258a2f867a8",
      "metadata": {
        "id": "bc39e68e-ed02-4ee2-9235-7258a2f867a8"
      },
      "outputs": [],
      "source": [
        "#ваш код здесь\n",
        "data = pd.read_csv('/content/dst-3.0_16_1_hh_database.csv', sep = ';')"
      ]
    },
    {
      "cell_type": "markdown",
      "id": "b583485d-1f9e-494e-ada4-80ffff7c53d6",
      "metadata": {
        "id": "b583485d-1f9e-494e-ada4-80ffff7c53d6"
      },
      "source": [
        "2. Выведите несколько первых (последних) строк таблицы, чтобы убедиться в том, что ваши данные не повреждены. Ознакомьтесь с признаками и их структурой."
      ]
    },
    {
      "cell_type": "code",
      "execution_count": 5,
      "id": "5408c52c-3407-4a63-b25b-1aafa2322d28",
      "metadata": {
        "colab": {
          "base_uri": "https://localhost:8080/",
          "height": 1000
        },
        "id": "5408c52c-3407-4a63-b25b-1aafa2322d28",
        "outputId": "bed40397-ae7e-4686-8137-426eb4cfcbf7"
      },
      "outputs": [
        {
          "output_type": "display_data",
          "data": {
            "text/plain": [
              "                                   Пол, возраст           ЗП  \\\n",
              "0    Мужчина ,  39 лет , родился 27 ноября 1979   29000 руб.   \n",
              "1     Мужчина ,  60 лет , родился 20 марта 1959   40000 руб.   \n",
              "2  Женщина ,  36 лет , родилась 12 августа 1982   20000 руб.   \n",
              "3      Мужчина ,  38 лет , родился 25 июня 1980  100000 руб.   \n",
              "4     Женщина ,  26 лет , родилась 3 марта 1993  140000 руб.   \n",
              "\n",
              "                           Ищет работу на должность:  \\\n",
              "0                            Системный администратор   \n",
              "1                               Технический писатель   \n",
              "2                                           Оператор   \n",
              "3  Веб-разработчик (HTML / CSS / JS / PHP / базы ...   \n",
              "4                  Региональный менеджер по продажам   \n",
              "\n",
              "                        Город, переезд, командировки  \\\n",
              "0  Советск (Калининградская область) , не готов к...   \n",
              "1  Королев , не готов к переезду , готов к редким...   \n",
              "2  Тверь , не готова к переезду , не готова к ком...   \n",
              "3  Саратов , не готов к переезду , готов к редким...   \n",
              "4  Москва , не готова к переезду , готова к коман...   \n",
              "\n",
              "                                           Занятость  \\\n",
              "0  частичная занятость, проектная работа, полная ...   \n",
              "1  частичная занятость, проектная работа, полная ...   \n",
              "2                                   полная занятость   \n",
              "3  частичная занятость, проектная работа, полная ...   \n",
              "4                                   полная занятость   \n",
              "\n",
              "                                              График  \\\n",
              "0  гибкий график, полный день, сменный график, ва...   \n",
              "1  гибкий график, полный день, сменный график, уд...   \n",
              "2                                        полный день   \n",
              "3                    гибкий график, удаленная работа   \n",
              "4                                        полный день   \n",
              "\n",
              "                                         Опыт работы  \\\n",
              "0  Опыт работы 16 лет 10 месяцев  Август 2010 — п...   \n",
              "1  Опыт работы 19 лет 5 месяцев  Январь 2000 — по...   \n",
              "2  Опыт работы 10 лет 3 месяца  Октябрь 2004 — Де...   \n",
              "3  Опыт работы 18 лет 9 месяцев  Август 2017 — Ап...   \n",
              "4  Опыт работы 5 лет 7 месяцев  Региональный мене...   \n",
              "\n",
              "  Последнее/нынешнее место работы  \\\n",
              "0         МАОУ \"СОШ № 1 г.Немана\"   \n",
              "1    Временный трудовой коллектив   \n",
              "2                    ПАО Сбербанк   \n",
              "3                        OpenSoft   \n",
              "4                        Мармелад   \n",
              "\n",
              "                       Последняя/нынешняя должность  \\\n",
              "0                           Системный администратор   \n",
              "1  Менеджер проекта, Аналитик, Технический писатель   \n",
              "2                               Кассир-операционист   \n",
              "3                               Инженер-программист   \n",
              "4                              Менеджер по продажам   \n",
              "\n",
              "                                   Образование и ВУЗ Обновление резюме  \\\n",
              "0  Неоконченное высшее образование 2000  Балтийск...  16.04.2019 15:59   \n",
              "1  Высшее образование 1981  Военно-космическая ак...  12.04.2019 08:42   \n",
              "2  Среднее специальное образование 2002 Профессио...  16.04.2019 08:35   \n",
              "3  Высшее образование 2002  Саратовский государст...  08.04.2019 14:23   \n",
              "4  Высшее образование 2015 Кгу Психологии и педаг...  22.04.2019 10:32   \n",
              "\n",
              "                             Авто  \n",
              "0  Имеется собственный автомобиль  \n",
              "1                      Не указано  \n",
              "2                      Не указано  \n",
              "3                      Не указано  \n",
              "4                      Не указано  "
            ],
            "text/html": [
              "\n",
              "  <div id=\"df-5741b9bb-88aa-4908-8f5f-6b2841060a5d\" class=\"colab-df-container\">\n",
              "    <div>\n",
              "<style scoped>\n",
              "    .dataframe tbody tr th:only-of-type {\n",
              "        vertical-align: middle;\n",
              "    }\n",
              "\n",
              "    .dataframe tbody tr th {\n",
              "        vertical-align: top;\n",
              "    }\n",
              "\n",
              "    .dataframe thead th {\n",
              "        text-align: right;\n",
              "    }\n",
              "</style>\n",
              "<table border=\"1\" class=\"dataframe\">\n",
              "  <thead>\n",
              "    <tr style=\"text-align: right;\">\n",
              "      <th></th>\n",
              "      <th>Пол, возраст</th>\n",
              "      <th>ЗП</th>\n",
              "      <th>Ищет работу на должность:</th>\n",
              "      <th>Город, переезд, командировки</th>\n",
              "      <th>Занятость</th>\n",
              "      <th>График</th>\n",
              "      <th>Опыт работы</th>\n",
              "      <th>Последнее/нынешнее место работы</th>\n",
              "      <th>Последняя/нынешняя должность</th>\n",
              "      <th>Образование и ВУЗ</th>\n",
              "      <th>Обновление резюме</th>\n",
              "      <th>Авто</th>\n",
              "    </tr>\n",
              "  </thead>\n",
              "  <tbody>\n",
              "    <tr>\n",
              "      <th>0</th>\n",
              "      <td>Мужчина ,  39 лет , родился 27 ноября 1979</td>\n",
              "      <td>29000 руб.</td>\n",
              "      <td>Системный администратор</td>\n",
              "      <td>Советск (Калининградская область) , не готов к...</td>\n",
              "      <td>частичная занятость, проектная работа, полная ...</td>\n",
              "      <td>гибкий график, полный день, сменный график, ва...</td>\n",
              "      <td>Опыт работы 16 лет 10 месяцев  Август 2010 — п...</td>\n",
              "      <td>МАОУ \"СОШ № 1 г.Немана\"</td>\n",
              "      <td>Системный администратор</td>\n",
              "      <td>Неоконченное высшее образование 2000  Балтийск...</td>\n",
              "      <td>16.04.2019 15:59</td>\n",
              "      <td>Имеется собственный автомобиль</td>\n",
              "    </tr>\n",
              "    <tr>\n",
              "      <th>1</th>\n",
              "      <td>Мужчина ,  60 лет , родился 20 марта 1959</td>\n",
              "      <td>40000 руб.</td>\n",
              "      <td>Технический писатель</td>\n",
              "      <td>Королев , не готов к переезду , готов к редким...</td>\n",
              "      <td>частичная занятость, проектная работа, полная ...</td>\n",
              "      <td>гибкий график, полный день, сменный график, уд...</td>\n",
              "      <td>Опыт работы 19 лет 5 месяцев  Январь 2000 — по...</td>\n",
              "      <td>Временный трудовой коллектив</td>\n",
              "      <td>Менеджер проекта, Аналитик, Технический писатель</td>\n",
              "      <td>Высшее образование 1981  Военно-космическая ак...</td>\n",
              "      <td>12.04.2019 08:42</td>\n",
              "      <td>Не указано</td>\n",
              "    </tr>\n",
              "    <tr>\n",
              "      <th>2</th>\n",
              "      <td>Женщина ,  36 лет , родилась 12 августа 1982</td>\n",
              "      <td>20000 руб.</td>\n",
              "      <td>Оператор</td>\n",
              "      <td>Тверь , не готова к переезду , не готова к ком...</td>\n",
              "      <td>полная занятость</td>\n",
              "      <td>полный день</td>\n",
              "      <td>Опыт работы 10 лет 3 месяца  Октябрь 2004 — Де...</td>\n",
              "      <td>ПАО Сбербанк</td>\n",
              "      <td>Кассир-операционист</td>\n",
              "      <td>Среднее специальное образование 2002 Профессио...</td>\n",
              "      <td>16.04.2019 08:35</td>\n",
              "      <td>Не указано</td>\n",
              "    </tr>\n",
              "    <tr>\n",
              "      <th>3</th>\n",
              "      <td>Мужчина ,  38 лет , родился 25 июня 1980</td>\n",
              "      <td>100000 руб.</td>\n",
              "      <td>Веб-разработчик (HTML / CSS / JS / PHP / базы ...</td>\n",
              "      <td>Саратов , не готов к переезду , готов к редким...</td>\n",
              "      <td>частичная занятость, проектная работа, полная ...</td>\n",
              "      <td>гибкий график, удаленная работа</td>\n",
              "      <td>Опыт работы 18 лет 9 месяцев  Август 2017 — Ап...</td>\n",
              "      <td>OpenSoft</td>\n",
              "      <td>Инженер-программист</td>\n",
              "      <td>Высшее образование 2002  Саратовский государст...</td>\n",
              "      <td>08.04.2019 14:23</td>\n",
              "      <td>Не указано</td>\n",
              "    </tr>\n",
              "    <tr>\n",
              "      <th>4</th>\n",
              "      <td>Женщина ,  26 лет , родилась 3 марта 1993</td>\n",
              "      <td>140000 руб.</td>\n",
              "      <td>Региональный менеджер по продажам</td>\n",
              "      <td>Москва , не готова к переезду , готова к коман...</td>\n",
              "      <td>полная занятость</td>\n",
              "      <td>полный день</td>\n",
              "      <td>Опыт работы 5 лет 7 месяцев  Региональный мене...</td>\n",
              "      <td>Мармелад</td>\n",
              "      <td>Менеджер по продажам</td>\n",
              "      <td>Высшее образование 2015 Кгу Психологии и педаг...</td>\n",
              "      <td>22.04.2019 10:32</td>\n",
              "      <td>Не указано</td>\n",
              "    </tr>\n",
              "  </tbody>\n",
              "</table>\n",
              "</div>\n",
              "    <div class=\"colab-df-buttons\">\n",
              "\n",
              "  <div class=\"colab-df-container\">\n",
              "    <button class=\"colab-df-convert\" onclick=\"convertToInteractive('df-5741b9bb-88aa-4908-8f5f-6b2841060a5d')\"\n",
              "            title=\"Convert this dataframe to an interactive table.\"\n",
              "            style=\"display:none;\">\n",
              "\n",
              "  <svg xmlns=\"http://www.w3.org/2000/svg\" height=\"24px\" viewBox=\"0 -960 960 960\">\n",
              "    <path d=\"M120-120v-720h720v720H120Zm60-500h600v-160H180v160Zm220 220h160v-160H400v160Zm0 220h160v-160H400v160ZM180-400h160v-160H180v160Zm440 0h160v-160H620v160ZM180-180h160v-160H180v160Zm440 0h160v-160H620v160Z\"/>\n",
              "  </svg>\n",
              "    </button>\n",
              "\n",
              "  <style>\n",
              "    .colab-df-container {\n",
              "      display:flex;\n",
              "      gap: 12px;\n",
              "    }\n",
              "\n",
              "    .colab-df-convert {\n",
              "      background-color: #E8F0FE;\n",
              "      border: none;\n",
              "      border-radius: 50%;\n",
              "      cursor: pointer;\n",
              "      display: none;\n",
              "      fill: #1967D2;\n",
              "      height: 32px;\n",
              "      padding: 0 0 0 0;\n",
              "      width: 32px;\n",
              "    }\n",
              "\n",
              "    .colab-df-convert:hover {\n",
              "      background-color: #E2EBFA;\n",
              "      box-shadow: 0px 1px 2px rgba(60, 64, 67, 0.3), 0px 1px 3px 1px rgba(60, 64, 67, 0.15);\n",
              "      fill: #174EA6;\n",
              "    }\n",
              "\n",
              "    .colab-df-buttons div {\n",
              "      margin-bottom: 4px;\n",
              "    }\n",
              "\n",
              "    [theme=dark] .colab-df-convert {\n",
              "      background-color: #3B4455;\n",
              "      fill: #D2E3FC;\n",
              "    }\n",
              "\n",
              "    [theme=dark] .colab-df-convert:hover {\n",
              "      background-color: #434B5C;\n",
              "      box-shadow: 0px 1px 3px 1px rgba(0, 0, 0, 0.15);\n",
              "      filter: drop-shadow(0px 1px 2px rgba(0, 0, 0, 0.3));\n",
              "      fill: #FFFFFF;\n",
              "    }\n",
              "  </style>\n",
              "\n",
              "    <script>\n",
              "      const buttonEl =\n",
              "        document.querySelector('#df-5741b9bb-88aa-4908-8f5f-6b2841060a5d button.colab-df-convert');\n",
              "      buttonEl.style.display =\n",
              "        google.colab.kernel.accessAllowed ? 'block' : 'none';\n",
              "\n",
              "      async function convertToInteractive(key) {\n",
              "        const element = document.querySelector('#df-5741b9bb-88aa-4908-8f5f-6b2841060a5d');\n",
              "        const dataTable =\n",
              "          await google.colab.kernel.invokeFunction('convertToInteractive',\n",
              "                                                    [key], {});\n",
              "        if (!dataTable) return;\n",
              "\n",
              "        const docLinkHtml = 'Like what you see? Visit the ' +\n",
              "          '<a target=\"_blank\" href=https://colab.research.google.com/notebooks/data_table.ipynb>data table notebook</a>'\n",
              "          + ' to learn more about interactive tables.';\n",
              "        element.innerHTML = '';\n",
              "        dataTable['output_type'] = 'display_data';\n",
              "        await google.colab.output.renderOutput(dataTable, element);\n",
              "        const docLink = document.createElement('div');\n",
              "        docLink.innerHTML = docLinkHtml;\n",
              "        element.appendChild(docLink);\n",
              "      }\n",
              "    </script>\n",
              "  </div>\n",
              "\n",
              "\n",
              "<div id=\"df-3c41e9eb-a500-4936-8a0b-2bc113ee7cfa\">\n",
              "  <button class=\"colab-df-quickchart\" onclick=\"quickchart('df-3c41e9eb-a500-4936-8a0b-2bc113ee7cfa')\"\n",
              "            title=\"Suggest charts\"\n",
              "            style=\"display:none;\">\n",
              "\n",
              "<svg xmlns=\"http://www.w3.org/2000/svg\" height=\"24px\"viewBox=\"0 0 24 24\"\n",
              "     width=\"24px\">\n",
              "    <g>\n",
              "        <path d=\"M19 3H5c-1.1 0-2 .9-2 2v14c0 1.1.9 2 2 2h14c1.1 0 2-.9 2-2V5c0-1.1-.9-2-2-2zM9 17H7v-7h2v7zm4 0h-2V7h2v10zm4 0h-2v-4h2v4z\"/>\n",
              "    </g>\n",
              "</svg>\n",
              "  </button>\n",
              "\n",
              "<style>\n",
              "  .colab-df-quickchart {\n",
              "      --bg-color: #E8F0FE;\n",
              "      --fill-color: #1967D2;\n",
              "      --hover-bg-color: #E2EBFA;\n",
              "      --hover-fill-color: #174EA6;\n",
              "      --disabled-fill-color: #AAA;\n",
              "      --disabled-bg-color: #DDD;\n",
              "  }\n",
              "\n",
              "  [theme=dark] .colab-df-quickchart {\n",
              "      --bg-color: #3B4455;\n",
              "      --fill-color: #D2E3FC;\n",
              "      --hover-bg-color: #434B5C;\n",
              "      --hover-fill-color: #FFFFFF;\n",
              "      --disabled-bg-color: #3B4455;\n",
              "      --disabled-fill-color: #666;\n",
              "  }\n",
              "\n",
              "  .colab-df-quickchart {\n",
              "    background-color: var(--bg-color);\n",
              "    border: none;\n",
              "    border-radius: 50%;\n",
              "    cursor: pointer;\n",
              "    display: none;\n",
              "    fill: var(--fill-color);\n",
              "    height: 32px;\n",
              "    padding: 0;\n",
              "    width: 32px;\n",
              "  }\n",
              "\n",
              "  .colab-df-quickchart:hover {\n",
              "    background-color: var(--hover-bg-color);\n",
              "    box-shadow: 0 1px 2px rgba(60, 64, 67, 0.3), 0 1px 3px 1px rgba(60, 64, 67, 0.15);\n",
              "    fill: var(--button-hover-fill-color);\n",
              "  }\n",
              "\n",
              "  .colab-df-quickchart-complete:disabled,\n",
              "  .colab-df-quickchart-complete:disabled:hover {\n",
              "    background-color: var(--disabled-bg-color);\n",
              "    fill: var(--disabled-fill-color);\n",
              "    box-shadow: none;\n",
              "  }\n",
              "\n",
              "  .colab-df-spinner {\n",
              "    border: 2px solid var(--fill-color);\n",
              "    border-color: transparent;\n",
              "    border-bottom-color: var(--fill-color);\n",
              "    animation:\n",
              "      spin 1s steps(1) infinite;\n",
              "  }\n",
              "\n",
              "  @keyframes spin {\n",
              "    0% {\n",
              "      border-color: transparent;\n",
              "      border-bottom-color: var(--fill-color);\n",
              "      border-left-color: var(--fill-color);\n",
              "    }\n",
              "    20% {\n",
              "      border-color: transparent;\n",
              "      border-left-color: var(--fill-color);\n",
              "      border-top-color: var(--fill-color);\n",
              "    }\n",
              "    30% {\n",
              "      border-color: transparent;\n",
              "      border-left-color: var(--fill-color);\n",
              "      border-top-color: var(--fill-color);\n",
              "      border-right-color: var(--fill-color);\n",
              "    }\n",
              "    40% {\n",
              "      border-color: transparent;\n",
              "      border-right-color: var(--fill-color);\n",
              "      border-top-color: var(--fill-color);\n",
              "    }\n",
              "    60% {\n",
              "      border-color: transparent;\n",
              "      border-right-color: var(--fill-color);\n",
              "    }\n",
              "    80% {\n",
              "      border-color: transparent;\n",
              "      border-right-color: var(--fill-color);\n",
              "      border-bottom-color: var(--fill-color);\n",
              "    }\n",
              "    90% {\n",
              "      border-color: transparent;\n",
              "      border-bottom-color: var(--fill-color);\n",
              "    }\n",
              "  }\n",
              "</style>\n",
              "\n",
              "  <script>\n",
              "    async function quickchart(key) {\n",
              "      const quickchartButtonEl =\n",
              "        document.querySelector('#' + key + ' button');\n",
              "      quickchartButtonEl.disabled = true;  // To prevent multiple clicks.\n",
              "      quickchartButtonEl.classList.add('colab-df-spinner');\n",
              "      try {\n",
              "        const charts = await google.colab.kernel.invokeFunction(\n",
              "            'suggestCharts', [key], {});\n",
              "      } catch (error) {\n",
              "        console.error('Error during call to suggestCharts:', error);\n",
              "      }\n",
              "      quickchartButtonEl.classList.remove('colab-df-spinner');\n",
              "      quickchartButtonEl.classList.add('colab-df-quickchart-complete');\n",
              "    }\n",
              "    (() => {\n",
              "      let quickchartButtonEl =\n",
              "        document.querySelector('#df-3c41e9eb-a500-4936-8a0b-2bc113ee7cfa button');\n",
              "      quickchartButtonEl.style.display =\n",
              "        google.colab.kernel.accessAllowed ? 'block' : 'none';\n",
              "    })();\n",
              "  </script>\n",
              "</div>\n",
              "    </div>\n",
              "  </div>\n"
            ],
            "application/vnd.google.colaboratory.intrinsic+json": {
              "type": "dataframe",
              "summary": "{\n  \"name\": \"display(data\",\n  \"rows\": 5,\n  \"fields\": [\n    {\n      \"column\": \"\\u041f\\u043e\\u043b, \\u0432\\u043e\\u0437\\u0440\\u0430\\u0441\\u0442\",\n      \"properties\": {\n        \"dtype\": \"string\",\n        \"num_unique_values\": 5,\n        \"samples\": [\n          \"\\u041c\\u0443\\u0436\\u0447\\u0438\\u043d\\u0430 ,  60 \\u043b\\u0435\\u0442 , \\u0440\\u043e\\u0434\\u0438\\u043b\\u0441\\u044f 20 \\u043c\\u0430\\u0440\\u0442\\u0430 1959\",\n          \"\\u0416\\u0435\\u043d\\u0449\\u0438\\u043d\\u0430 ,  26 \\u043b\\u0435\\u0442 , \\u0440\\u043e\\u0434\\u0438\\u043b\\u0430\\u0441\\u044c 3 \\u043c\\u0430\\u0440\\u0442\\u0430 1993\",\n          \"\\u0416\\u0435\\u043d\\u0449\\u0438\\u043d\\u0430 ,  36 \\u043b\\u0435\\u0442 , \\u0440\\u043e\\u0434\\u0438\\u043b\\u0430\\u0441\\u044c 12 \\u0430\\u0432\\u0433\\u0443\\u0441\\u0442\\u0430 1982\"\n        ],\n        \"semantic_type\": \"\",\n        \"description\": \"\"\n      }\n    },\n    {\n      \"column\": \"\\u0417\\u041f\",\n      \"properties\": {\n        \"dtype\": \"string\",\n        \"num_unique_values\": 5,\n        \"samples\": [\n          \"40000 \\u0440\\u0443\\u0431.\",\n          \"140000 \\u0440\\u0443\\u0431.\",\n          \"20000 \\u0440\\u0443\\u0431.\"\n        ],\n        \"semantic_type\": \"\",\n        \"description\": \"\"\n      }\n    },\n    {\n      \"column\": \"\\u0418\\u0449\\u0435\\u0442 \\u0440\\u0430\\u0431\\u043e\\u0442\\u0443 \\u043d\\u0430 \\u0434\\u043e\\u043b\\u0436\\u043d\\u043e\\u0441\\u0442\\u044c:\",\n      \"properties\": {\n        \"dtype\": \"string\",\n        \"num_unique_values\": 5,\n        \"samples\": [\n          \"\\u0422\\u0435\\u0445\\u043d\\u0438\\u0447\\u0435\\u0441\\u043a\\u0438\\u0439 \\u043f\\u0438\\u0441\\u0430\\u0442\\u0435\\u043b\\u044c\",\n          \"\\u0420\\u0435\\u0433\\u0438\\u043e\\u043d\\u0430\\u043b\\u044c\\u043d\\u044b\\u0439 \\u043c\\u0435\\u043d\\u0435\\u0434\\u0436\\u0435\\u0440 \\u043f\\u043e \\u043f\\u0440\\u043e\\u0434\\u0430\\u0436\\u0430\\u043c\",\n          \"\\u041e\\u043f\\u0435\\u0440\\u0430\\u0442\\u043e\\u0440\"\n        ],\n        \"semantic_type\": \"\",\n        \"description\": \"\"\n      }\n    },\n    {\n      \"column\": \"\\u0413\\u043e\\u0440\\u043e\\u0434, \\u043f\\u0435\\u0440\\u0435\\u0435\\u0437\\u0434, \\u043a\\u043e\\u043c\\u0430\\u043d\\u0434\\u0438\\u0440\\u043e\\u0432\\u043a\\u0438\",\n      \"properties\": {\n        \"dtype\": \"string\",\n        \"num_unique_values\": 5,\n        \"samples\": [\n          \"\\u041a\\u043e\\u0440\\u043e\\u043b\\u0435\\u0432 , \\u043d\\u0435 \\u0433\\u043e\\u0442\\u043e\\u0432 \\u043a \\u043f\\u0435\\u0440\\u0435\\u0435\\u0437\\u0434\\u0443 , \\u0433\\u043e\\u0442\\u043e\\u0432 \\u043a \\u0440\\u0435\\u0434\\u043a\\u0438\\u043c \\u043a\\u043e\\u043c\\u0430\\u043d\\u0434\\u0438\\u0440\\u043e\\u0432\\u043a\\u0430\\u043c\",\n          \"\\u041c\\u043e\\u0441\\u043a\\u0432\\u0430 , \\u043d\\u0435 \\u0433\\u043e\\u0442\\u043e\\u0432\\u0430 \\u043a \\u043f\\u0435\\u0440\\u0435\\u0435\\u0437\\u0434\\u0443 , \\u0433\\u043e\\u0442\\u043e\\u0432\\u0430 \\u043a \\u043a\\u043e\\u043c\\u0430\\u043d\\u0434\\u0438\\u0440\\u043e\\u0432\\u043a\\u0430\\u043c\",\n          \"\\u0422\\u0432\\u0435\\u0440\\u044c , \\u043d\\u0435 \\u0433\\u043e\\u0442\\u043e\\u0432\\u0430 \\u043a \\u043f\\u0435\\u0440\\u0435\\u0435\\u0437\\u0434\\u0443 , \\u043d\\u0435 \\u0433\\u043e\\u0442\\u043e\\u0432\\u0430 \\u043a \\u043a\\u043e\\u043c\\u0430\\u043d\\u0434\\u0438\\u0440\\u043e\\u0432\\u043a\\u0430\\u043c\"\n        ],\n        \"semantic_type\": \"\",\n        \"description\": \"\"\n      }\n    },\n    {\n      \"column\": \"\\u0417\\u0430\\u043d\\u044f\\u0442\\u043e\\u0441\\u0442\\u044c\",\n      \"properties\": {\n        \"dtype\": \"category\",\n        \"num_unique_values\": 2,\n        \"samples\": [\n          \"\\u043f\\u043e\\u043b\\u043d\\u0430\\u044f \\u0437\\u0430\\u043d\\u044f\\u0442\\u043e\\u0441\\u0442\\u044c\",\n          \"\\u0447\\u0430\\u0441\\u0442\\u0438\\u0447\\u043d\\u0430\\u044f \\u0437\\u0430\\u043d\\u044f\\u0442\\u043e\\u0441\\u0442\\u044c, \\u043f\\u0440\\u043e\\u0435\\u043a\\u0442\\u043d\\u0430\\u044f \\u0440\\u0430\\u0431\\u043e\\u0442\\u0430, \\u043f\\u043e\\u043b\\u043d\\u0430\\u044f \\u0437\\u0430\\u043d\\u044f\\u0442\\u043e\\u0441\\u0442\\u044c\"\n        ],\n        \"semantic_type\": \"\",\n        \"description\": \"\"\n      }\n    },\n    {\n      \"column\": \"\\u0413\\u0440\\u0430\\u0444\\u0438\\u043a\",\n      \"properties\": {\n        \"dtype\": \"string\",\n        \"num_unique_values\": 4,\n        \"samples\": [\n          \"\\u0433\\u0438\\u0431\\u043a\\u0438\\u0439 \\u0433\\u0440\\u0430\\u0444\\u0438\\u043a, \\u043f\\u043e\\u043b\\u043d\\u044b\\u0439 \\u0434\\u0435\\u043d\\u044c, \\u0441\\u043c\\u0435\\u043d\\u043d\\u044b\\u0439 \\u0433\\u0440\\u0430\\u0444\\u0438\\u043a, \\u0443\\u0434\\u0430\\u043b\\u0435\\u043d\\u043d\\u0430\\u044f \\u0440\\u0430\\u0431\\u043e\\u0442\\u0430\",\n          \"\\u0433\\u0438\\u0431\\u043a\\u0438\\u0439 \\u0433\\u0440\\u0430\\u0444\\u0438\\u043a, \\u0443\\u0434\\u0430\\u043b\\u0435\\u043d\\u043d\\u0430\\u044f \\u0440\\u0430\\u0431\\u043e\\u0442\\u0430\"\n        ],\n        \"semantic_type\": \"\",\n        \"description\": \"\"\n      }\n    },\n    {\n      \"column\": \"\\u041e\\u043f\\u044b\\u0442 \\u0440\\u0430\\u0431\\u043e\\u0442\\u044b\",\n      \"properties\": {\n        \"dtype\": \"string\",\n        \"num_unique_values\": 5,\n        \"samples\": [\n          \"\\u041e\\u043f\\u044b\\u0442 \\u0440\\u0430\\u0431\\u043e\\u0442\\u044b 19 \\u043b\\u0435\\u0442 5 \\u043c\\u0435\\u0441\\u044f\\u0446\\u0435\\u0432  \\u042f\\u043d\\u0432\\u0430\\u0440\\u044c 2000 \\u2014 \\u043f\\u043e \\u043d\\u0430\\u0441\\u0442\\u043e\\u044f\\u0449\\u0435\\u0435 \\u0432\\u0440\\u0435\\u043c\\u044f 19 \\u043b\\u0435\\u0442 5 \\u043c\\u0435\\u0441\\u044f\\u0446\\u0435\\u0432 \\u0412\\u0440\\u0435\\u043c\\u0435\\u043d\\u043d\\u044b\\u0439 \\u0442\\u0440\\u0443\\u0434\\u043e\\u0432\\u043e\\u0439 \\u043a\\u043e\\u043b\\u043b\\u0435\\u043a\\u0442\\u0438\\u0432 \\u041c\\u043e\\u0441\\u043a\\u0432\\u0430 \\u0418\\u043d\\u0444\\u043e\\u0440\\u043c\\u0430\\u0446\\u0438\\u043e\\u043d\\u043d\\u044b\\u0435 \\u0442\\u0435\\u0445\\u043d\\u043e\\u043b\\u043e\\u0433\\u0438\\u0438, \\u0441\\u0438\\u0441\\u0442\\u0435\\u043c\\u043d\\u0430\\u044f \\u0438\\u043d\\u0442\\u0435\\u0433\\u0440\\u0430\\u0446\\u0438\\u044f, \\u0438\\u043d\\u0442\\u0435\\u0440\\u043d\\u0435\\u0442 ... \\u0420\\u0430\\u0437\\u0440\\u0430\\u0431\\u043e\\u0442\\u043a\\u0430 \\u043f\\u0440\\u043e\\u0433\\u0440\\u0430\\u043c\\u043c\\u043d\\u043e\\u0433\\u043e \\u043e\\u0431\\u0435\\u0441\\u043f\\u0435\\u0447\\u0435\\u043d\\u0438\\u044f \\u0421\\u0438\\u0441\\u0442\\u0435\\u043c\\u043d\\u0430\\u044f \\u0438\\u043d\\u0442\\u0435\\u0433\\u0440\\u0430\\u0446\\u0438\\u044f, \\u0430\\u0432\\u0442\\u043e\\u043c\\u0430\\u0442\\u0438\\u0437\\u0430\\u0446\\u0438\\u0438 \\u0442\\u0435\\u0445\\u043d\\u043e\\u043b\\u043e\\u0433\\u0438\\u0447\\u0435\\u0441\\u043a\\u0438\\u0445 \\u0438 \\u0431\\u0438\\u0437\\u043d\\u0435\\u0441-\\u043f\\u0440\\u043e\\u0446\\u0435\\u0441\\u0441\\u043e\\u0432 \\u043f\\u0440\\u0435\\u0434\\u043f\\u0440\\u0438\\u044f\\u0442\\u0438\\u044f, \\u0418\\u0422-\\u043a\\u043e\\u043d\\u0441\\u0430\\u043b\\u0442\\u0438\\u043d\\u0433 \\u041c\\u0435\\u043d\\u0435\\u0434\\u0436\\u0435\\u0440 \\u043f\\u0440\\u043e\\u0435\\u043a\\u0442\\u0430, \\u0410\\u043d\\u0430\\u043b\\u0438\\u0442\\u0438\\u043a, \\u0422\\u0435\\u0445\\u043d\\u0438\\u0447\\u0435\\u0441\\u043a\\u0438\\u0439 \\u043f\\u0438\\u0441\\u0430\\u0442\\u0435\\u043b\\u044c \\u0412\\u0435\\u0441\\u044c \\u0446\\u0438\\u043a\\u043b \\u041f\\u041e, \\u043a\\u0440\\u043e\\u043c\\u0435 \\u043f\\u0440\\u043e\\u0433\\u0440\\u0430\\u043c\\u043c\\u0438\\u0440\\u043e\\u0432\\u0430\\u043d\\u0438\\u044f.\",\n          \"\\u041e\\u043f\\u044b\\u0442 \\u0440\\u0430\\u0431\\u043e\\u0442\\u044b 5 \\u043b\\u0435\\u0442 7 \\u043c\\u0435\\u0441\\u044f\\u0446\\u0435\\u0432  \\u0420\\u0435\\u0433\\u0438\\u043e\\u043d\\u0430\\u043b\\u044c\\u043d\\u044b\\u0439 \\u043c\\u0435\\u043d\\u0435\\u0434\\u0436\\u0435\\u0440 \\u043f\\u043e \\u043f\\u0440\\u043e\\u0434\\u0430\\u0436\\u0430\\u043c 140 000 \\u0440\\u0443\\u0431. \\u0418\\u043d\\u0444\\u043e\\u0440\\u043c\\u0430\\u0446\\u0438\\u043e\\u043d\\u043d\\u044b\\u0435 \\u0442\\u0435\\u0445\\u043d\\u043e\\u043b\\u043e\\u0433\\u0438\\u0438, \\u0438\\u043d\\u0442\\u0435\\u0440\\u043d\\u0435\\u0442, \\u0442\\u0435\\u043b\\u0435\\u043a\\u043e\\u043c \\u041a\\u043e\\u043d\\u0441\\u0430\\u043b\\u0442\\u0438\\u043d\\u0433, \\u0410\\u0443\\u0442\\u0441\\u043e\\u0440\\u0441\\u0438\\u043d\\u0433 \\u041f\\u0440\\u043e\\u0434\\u0430\\u0436\\u0438 \\u041c\\u0430\\u0440\\u043a\\u0435\\u0442\\u0438\\u043d\\u0433 \\u0417\\u0430\\u043d\\u044f\\u0442\\u043e\\u0441\\u0442\\u044c: \\u043f\\u043e\\u043b\\u043d\\u0430\\u044f \\u0437\\u0430\\u043d\\u044f\\u0442\\u043e\\u0441\\u0442\\u044c \\u0413\\u0440\\u0430\\u0444\\u0438\\u043a \\u0440\\u0430\\u0431\\u043e\\u0442\\u044b: \\u043f\\u043e\\u043b\\u043d\\u044b\\u0439 \\u0434\\u0435\\u043d\\u044c \\u041e\\u043f\\u044b\\u0442 \\u0440\\u0430\\u0431\\u043e\\u0442\\u044b 5 \\u043b\\u0435\\u0442 7 \\u043c\\u0435\\u0441\\u044f\\u0446\\u0435\\u0432 \\u0410\\u0432\\u0433\\u0443\\u0441\\u0442 201\"\n        ],\n        \"semantic_type\": \"\",\n        \"description\": \"\"\n      }\n    },\n    {\n      \"column\": \"\\u041f\\u043e\\u0441\\u043b\\u0435\\u0434\\u043d\\u0435\\u0435/\\u043d\\u044b\\u043d\\u0435\\u0448\\u043d\\u0435\\u0435 \\u043c\\u0435\\u0441\\u0442\\u043e \\u0440\\u0430\\u0431\\u043e\\u0442\\u044b\",\n      \"properties\": {\n        \"dtype\": \"string\",\n        \"num_unique_values\": 5,\n        \"samples\": [\n          \"\\u0412\\u0440\\u0435\\u043c\\u0435\\u043d\\u043d\\u044b\\u0439 \\u0442\\u0440\\u0443\\u0434\\u043e\\u0432\\u043e\\u0439 \\u043a\\u043e\\u043b\\u043b\\u0435\\u043a\\u0442\\u0438\\u0432\",\n          \"\\u041c\\u0430\\u0440\\u043c\\u0435\\u043b\\u0430\\u0434\"\n        ],\n        \"semantic_type\": \"\",\n        \"description\": \"\"\n      }\n    },\n    {\n      \"column\": \"\\u041f\\u043e\\u0441\\u043b\\u0435\\u0434\\u043d\\u044f\\u044f/\\u043d\\u044b\\u043d\\u0435\\u0448\\u043d\\u044f\\u044f \\u0434\\u043e\\u043b\\u0436\\u043d\\u043e\\u0441\\u0442\\u044c\",\n      \"properties\": {\n        \"dtype\": \"string\",\n        \"num_unique_values\": 5,\n        \"samples\": [\n          \"\\u041c\\u0435\\u043d\\u0435\\u0434\\u0436\\u0435\\u0440 \\u043f\\u0440\\u043e\\u0435\\u043a\\u0442\\u0430, \\u0410\\u043d\\u0430\\u043b\\u0438\\u0442\\u0438\\u043a, \\u0422\\u0435\\u0445\\u043d\\u0438\\u0447\\u0435\\u0441\\u043a\\u0438\\u0439 \\u043f\\u0438\\u0441\\u0430\\u0442\\u0435\\u043b\\u044c\",\n          \"\\u041c\\u0435\\u043d\\u0435\\u0434\\u0436\\u0435\\u0440 \\u043f\\u043e \\u043f\\u0440\\u043e\\u0434\\u0430\\u0436\\u0430\\u043c\"\n        ],\n        \"semantic_type\": \"\",\n        \"description\": \"\"\n      }\n    },\n    {\n      \"column\": \"\\u041e\\u0431\\u0440\\u0430\\u0437\\u043e\\u0432\\u0430\\u043d\\u0438\\u0435 \\u0438 \\u0412\\u0423\\u0417\",\n      \"properties\": {\n        \"dtype\": \"string\",\n        \"num_unique_values\": 5,\n        \"samples\": [\n          \"\\u0412\\u044b\\u0441\\u0448\\u0435\\u0435 \\u043e\\u0431\\u0440\\u0430\\u0437\\u043e\\u0432\\u0430\\u043d\\u0438\\u0435 1981  \\u0412\\u043e\\u0435\\u043d\\u043d\\u043e-\\u043a\\u043e\\u0441\\u043c\\u0438\\u0447\\u0435\\u0441\\u043a\\u0430\\u044f \\u0430\\u043a\\u0430\\u0434\\u0435\\u043c\\u0438\\u044f \\u0438\\u043c. \\u0410.\\u0424. \\u041c\\u043e\\u0436\\u0430\\u0439\\u0441\\u043a\\u043e\\u0433\\u043e, \\u0421\\u0430\\u043d\\u043a\\u0442-\\u041f\\u0435\\u0442\\u0435\\u0440\\u0431\\u0443\\u0440\\u0433 \\u0410\\u0421\\u0423, \\u0410\\u0421\\u0423\",\n          \"\\u0412\\u044b\\u0441\\u0448\\u0435\\u0435 \\u043e\\u0431\\u0440\\u0430\\u0437\\u043e\\u0432\\u0430\\u043d\\u0438\\u0435 2015 \\u041a\\u0433\\u0443 \\u041f\\u0441\\u0438\\u0445\\u043e\\u043b\\u043e\\u0433\\u0438\\u0438 \\u0438 \\u043f\\u0435\\u0434\\u0430\\u0433\\u043e\\u0433\\u0438\\u043a\\u0438, \\u041f\\u0435\\u0434\\u0430\\u0433\\u043e\\u0433\\u0438\\u043a\\u0430 \\u0438 \\u043f\\u0441\\u0438\\u0445\\u043e\\u043b\\u043e\\u0433\\u0438\\u044f (\\u043f\\u0435\\u0434\\u0430\\u0433\\u043e\\u0433-\\u043f\\u0441\\u0438\\u0445\\u043e\\u043b\\u043e\\u0433) 2015 \\u0420\\u043e\\u0441\\u0441\\u0438\\u0439\\u0441\\u043a\\u0438\\u0439 \\u0433\\u043e\\u0441\\u0443\\u0434\\u0430\\u0440\\u0441\\u0442\\u0432\\u0435\\u043d\\u043d\\u044b\\u0439 \\u0441\\u043e\\u0446\\u0438\\u0430\\u043b\\u044c\\u043d\\u044b\\u0439 \\u0443\\u043d\\u0438\\u0432\\u0435\\u0440\\u0441\\u0438\\u0442\\u0435\\u0442, \\u041c\\u043e\\u0441\\u043a\\u0432\\u0430 \\u0416\\u0443\\u0440\\u043d\\u0430\\u043b\\u0438\\u0441\\u0442\\u0438\\u043a\\u0430, \\u0416\\u0443\\u0440\\u043d\\u0430\\u043b\\u0438\\u0441\\u0442\\u0438\\u043a\\u0430 (\\u0431\\u0430\\u043a\\u0430\\u043b\\u0430\\u0432\\u0440 \\u0436\\u0443\\u0440\\u043d\\u0430\\u043b\\u0438\\u0441\\u0442\\u0438\\u043a\\u0438)\"\n        ],\n        \"semantic_type\": \"\",\n        \"description\": \"\"\n      }\n    },\n    {\n      \"column\": \"\\u041e\\u0431\\u043d\\u043e\\u0432\\u043b\\u0435\\u043d\\u0438\\u0435 \\u0440\\u0435\\u0437\\u044e\\u043c\\u0435\",\n      \"properties\": {\n        \"dtype\": \"object\",\n        \"num_unique_values\": 5,\n        \"samples\": [\n          \"12.04.2019 08:42\",\n          \"22.04.2019 10:32\"\n        ],\n        \"semantic_type\": \"\",\n        \"description\": \"\"\n      }\n    },\n    {\n      \"column\": \"\\u0410\\u0432\\u0442\\u043e\",\n      \"properties\": {\n        \"dtype\": \"category\",\n        \"num_unique_values\": 2,\n        \"samples\": [\n          \"\\u041d\\u0435 \\u0443\\u043a\\u0430\\u0437\\u0430\\u043d\\u043e\",\n          \"\\u0418\\u043c\\u0435\\u0435\\u0442\\u0441\\u044f \\u0441\\u043e\\u0431\\u0441\\u0442\\u0432\\u0435\\u043d\\u043d\\u044b\\u0439 \\u0430\\u0432\\u0442\\u043e\\u043c\\u043e\\u0431\\u0438\\u043b\\u044c\"\n        ],\n        \"semantic_type\": \"\",\n        \"description\": \"\"\n      }\n    }\n  ]\n}"
            }
          },
          "metadata": {}
        },
        {
          "output_type": "display_data",
          "data": {
            "text/plain": [
              "                                       Пол, возраст           ЗП  \\\n",
              "44739    Мужчина ,  30 лет , родился 17 января 1989   50000 руб.   \n",
              "44740      Мужчина ,  27 лет , родился 5 марта 1992   39000 руб.   \n",
              "44741  Женщина ,  48 лет , родилась 26 декабря 1970   40000 руб.   \n",
              "44742   Мужчина ,  24 года , родился 6 октября 1994   20000 руб.   \n",
              "44743    Мужчина ,  38 лет , родился 25 апреля 1980  120000 руб.   \n",
              "\n",
              "                               Ищет работу на должность:  \\\n",
              "44739  Финансист, аналитик, экономист, бухгалтер, мен...   \n",
              "44740             Системный администратор, IT-специалист   \n",
              "44741                         Аналитик данных, Математик   \n",
              "44742                                   Контент-менеджер   \n",
              "44743                               Руководитель проекта   \n",
              "\n",
              "                            Город, переезд, командировки  \\\n",
              "44739  Тверь , готов к переезду (Москва, Химки) , гот...   \n",
              "44740  Липецк , готов к переезду , готов к командировкам   \n",
              "44741  Челябинск , готова к переезду , готова к редки...   \n",
              "44742  Тамбов , не готов к переезду , не готов к кома...   \n",
              "44743  Москва , не готов к переезду , не готов к кома...   \n",
              "\n",
              "                                               Занятость  \\\n",
              "44739                                   полная занятость   \n",
              "44740  проектная работа, частичная занятость, полная ...   \n",
              "44741                                   полная занятость   \n",
              "44742              частичная занятость, полная занятость   \n",
              "44743                                   полная занятость   \n",
              "\n",
              "                                                  График  \\\n",
              "44739                      полный день, удаленная работа   \n",
              "44740  удаленная работа, гибкий график, полный день, ...   \n",
              "44741                      полный день, удаленная работа   \n",
              "44742                                   удаленная работа   \n",
              "44743                                        полный день   \n",
              "\n",
              "                                             Опыт работы  \\\n",
              "44739  Опыт работы 7 лет 7 месяцев  Финансист, аналит...   \n",
              "44740  Опыт работы 7 лет  Системный администратор, IT...   \n",
              "44741  Опыт работы 21 год 5 месяцев  Январь 1998 — по...   \n",
              "44742  Опыт работы 3 года 10 месяцев  Контент-менедже...   \n",
              "44743  Опыт работы 15 лет 10 месяцев  Руководитель пр...   \n",
              "\n",
              "                         Последнее/нынешнее место работы  \\\n",
              "44739  ООО \"IAS\" (независимый участник объединения Ru...   \n",
              "44740                                       ИП Пестрецов   \n",
              "44741  ОАО «ЧМК», Исследовательско-Технологический Це...   \n",
              "44742                                          IQ-Maxima   \n",
              "44743                                  ПАО ГК ТНС энерго   \n",
              "\n",
              "                    Последняя/нынешняя должность  \\\n",
              "44739                     Руководитель субгруппы   \n",
              "44740                            Предприниматель   \n",
              "44741                 Начальник группы аналитики   \n",
              "44742                          Менеджер проектов   \n",
              "44743  Руководитель отдела технической поддержки   \n",
              "\n",
              "                                       Образование и ВУЗ Обновление резюме  \\\n",
              "44739  Высшее образование 2015  Московский гуманитарн...  22.04.2019 12:32   \n",
              "44740  Высшее образование (Бакалавр) 2016  Воронежски...  22.04.2019 13:11   \n",
              "44741  Высшее образование 2000  Южно-Уральский госуда...  09.04.2019 05:07   \n",
              "44742  Высшее образование 2015  Тамбовский государств...  26.04.2019 14:25   \n",
              "44743  Высшее образование 1997  Южно-Российский госуд...  05.07.2018 20:15   \n",
              "\n",
              "                                 Авто  \n",
              "44739                      Не указано  \n",
              "44740                      Не указано  \n",
              "44741                      Не указано  \n",
              "44742  Имеется собственный автомобиль  \n",
              "44743                      Не указано  "
            ],
            "text/html": [
              "\n",
              "  <div id=\"df-c96ca5be-6f08-4e49-b482-78e7ee1e85c3\" class=\"colab-df-container\">\n",
              "    <div>\n",
              "<style scoped>\n",
              "    .dataframe tbody tr th:only-of-type {\n",
              "        vertical-align: middle;\n",
              "    }\n",
              "\n",
              "    .dataframe tbody tr th {\n",
              "        vertical-align: top;\n",
              "    }\n",
              "\n",
              "    .dataframe thead th {\n",
              "        text-align: right;\n",
              "    }\n",
              "</style>\n",
              "<table border=\"1\" class=\"dataframe\">\n",
              "  <thead>\n",
              "    <tr style=\"text-align: right;\">\n",
              "      <th></th>\n",
              "      <th>Пол, возраст</th>\n",
              "      <th>ЗП</th>\n",
              "      <th>Ищет работу на должность:</th>\n",
              "      <th>Город, переезд, командировки</th>\n",
              "      <th>Занятость</th>\n",
              "      <th>График</th>\n",
              "      <th>Опыт работы</th>\n",
              "      <th>Последнее/нынешнее место работы</th>\n",
              "      <th>Последняя/нынешняя должность</th>\n",
              "      <th>Образование и ВУЗ</th>\n",
              "      <th>Обновление резюме</th>\n",
              "      <th>Авто</th>\n",
              "    </tr>\n",
              "  </thead>\n",
              "  <tbody>\n",
              "    <tr>\n",
              "      <th>44739</th>\n",
              "      <td>Мужчина ,  30 лет , родился 17 января 1989</td>\n",
              "      <td>50000 руб.</td>\n",
              "      <td>Финансист, аналитик, экономист, бухгалтер, мен...</td>\n",
              "      <td>Тверь , готов к переезду (Москва, Химки) , гот...</td>\n",
              "      <td>полная занятость</td>\n",
              "      <td>полный день, удаленная работа</td>\n",
              "      <td>Опыт работы 7 лет 7 месяцев  Финансист, аналит...</td>\n",
              "      <td>ООО \"IAS\" (независимый участник объединения Ru...</td>\n",
              "      <td>Руководитель субгруппы</td>\n",
              "      <td>Высшее образование 2015  Московский гуманитарн...</td>\n",
              "      <td>22.04.2019 12:32</td>\n",
              "      <td>Не указано</td>\n",
              "    </tr>\n",
              "    <tr>\n",
              "      <th>44740</th>\n",
              "      <td>Мужчина ,  27 лет , родился 5 марта 1992</td>\n",
              "      <td>39000 руб.</td>\n",
              "      <td>Системный администратор, IT-специалист</td>\n",
              "      <td>Липецк , готов к переезду , готов к командировкам</td>\n",
              "      <td>проектная работа, частичная занятость, полная ...</td>\n",
              "      <td>удаленная работа, гибкий график, полный день, ...</td>\n",
              "      <td>Опыт работы 7 лет  Системный администратор, IT...</td>\n",
              "      <td>ИП Пестрецов</td>\n",
              "      <td>Предприниматель</td>\n",
              "      <td>Высшее образование (Бакалавр) 2016  Воронежски...</td>\n",
              "      <td>22.04.2019 13:11</td>\n",
              "      <td>Не указано</td>\n",
              "    </tr>\n",
              "    <tr>\n",
              "      <th>44741</th>\n",
              "      <td>Женщина ,  48 лет , родилась 26 декабря 1970</td>\n",
              "      <td>40000 руб.</td>\n",
              "      <td>Аналитик данных, Математик</td>\n",
              "      <td>Челябинск , готова к переезду , готова к редки...</td>\n",
              "      <td>полная занятость</td>\n",
              "      <td>полный день, удаленная работа</td>\n",
              "      <td>Опыт работы 21 год 5 месяцев  Январь 1998 — по...</td>\n",
              "      <td>ОАО «ЧМК», Исследовательско-Технологический Це...</td>\n",
              "      <td>Начальник группы аналитики</td>\n",
              "      <td>Высшее образование 2000  Южно-Уральский госуда...</td>\n",
              "      <td>09.04.2019 05:07</td>\n",
              "      <td>Не указано</td>\n",
              "    </tr>\n",
              "    <tr>\n",
              "      <th>44742</th>\n",
              "      <td>Мужчина ,  24 года , родился 6 октября 1994</td>\n",
              "      <td>20000 руб.</td>\n",
              "      <td>Контент-менеджер</td>\n",
              "      <td>Тамбов , не готов к переезду , не готов к кома...</td>\n",
              "      <td>частичная занятость, полная занятость</td>\n",
              "      <td>удаленная работа</td>\n",
              "      <td>Опыт работы 3 года 10 месяцев  Контент-менедже...</td>\n",
              "      <td>IQ-Maxima</td>\n",
              "      <td>Менеджер проектов</td>\n",
              "      <td>Высшее образование 2015  Тамбовский государств...</td>\n",
              "      <td>26.04.2019 14:25</td>\n",
              "      <td>Имеется собственный автомобиль</td>\n",
              "    </tr>\n",
              "    <tr>\n",
              "      <th>44743</th>\n",
              "      <td>Мужчина ,  38 лет , родился 25 апреля 1980</td>\n",
              "      <td>120000 руб.</td>\n",
              "      <td>Руководитель проекта</td>\n",
              "      <td>Москва , не готов к переезду , не готов к кома...</td>\n",
              "      <td>полная занятость</td>\n",
              "      <td>полный день</td>\n",
              "      <td>Опыт работы 15 лет 10 месяцев  Руководитель пр...</td>\n",
              "      <td>ПАО ГК ТНС энерго</td>\n",
              "      <td>Руководитель отдела технической поддержки</td>\n",
              "      <td>Высшее образование 1997  Южно-Российский госуд...</td>\n",
              "      <td>05.07.2018 20:15</td>\n",
              "      <td>Не указано</td>\n",
              "    </tr>\n",
              "  </tbody>\n",
              "</table>\n",
              "</div>\n",
              "    <div class=\"colab-df-buttons\">\n",
              "\n",
              "  <div class=\"colab-df-container\">\n",
              "    <button class=\"colab-df-convert\" onclick=\"convertToInteractive('df-c96ca5be-6f08-4e49-b482-78e7ee1e85c3')\"\n",
              "            title=\"Convert this dataframe to an interactive table.\"\n",
              "            style=\"display:none;\">\n",
              "\n",
              "  <svg xmlns=\"http://www.w3.org/2000/svg\" height=\"24px\" viewBox=\"0 -960 960 960\">\n",
              "    <path d=\"M120-120v-720h720v720H120Zm60-500h600v-160H180v160Zm220 220h160v-160H400v160Zm0 220h160v-160H400v160ZM180-400h160v-160H180v160Zm440 0h160v-160H620v160ZM180-180h160v-160H180v160Zm440 0h160v-160H620v160Z\"/>\n",
              "  </svg>\n",
              "    </button>\n",
              "\n",
              "  <style>\n",
              "    .colab-df-container {\n",
              "      display:flex;\n",
              "      gap: 12px;\n",
              "    }\n",
              "\n",
              "    .colab-df-convert {\n",
              "      background-color: #E8F0FE;\n",
              "      border: none;\n",
              "      border-radius: 50%;\n",
              "      cursor: pointer;\n",
              "      display: none;\n",
              "      fill: #1967D2;\n",
              "      height: 32px;\n",
              "      padding: 0 0 0 0;\n",
              "      width: 32px;\n",
              "    }\n",
              "\n",
              "    .colab-df-convert:hover {\n",
              "      background-color: #E2EBFA;\n",
              "      box-shadow: 0px 1px 2px rgba(60, 64, 67, 0.3), 0px 1px 3px 1px rgba(60, 64, 67, 0.15);\n",
              "      fill: #174EA6;\n",
              "    }\n",
              "\n",
              "    .colab-df-buttons div {\n",
              "      margin-bottom: 4px;\n",
              "    }\n",
              "\n",
              "    [theme=dark] .colab-df-convert {\n",
              "      background-color: #3B4455;\n",
              "      fill: #D2E3FC;\n",
              "    }\n",
              "\n",
              "    [theme=dark] .colab-df-convert:hover {\n",
              "      background-color: #434B5C;\n",
              "      box-shadow: 0px 1px 3px 1px rgba(0, 0, 0, 0.15);\n",
              "      filter: drop-shadow(0px 1px 2px rgba(0, 0, 0, 0.3));\n",
              "      fill: #FFFFFF;\n",
              "    }\n",
              "  </style>\n",
              "\n",
              "    <script>\n",
              "      const buttonEl =\n",
              "        document.querySelector('#df-c96ca5be-6f08-4e49-b482-78e7ee1e85c3 button.colab-df-convert');\n",
              "      buttonEl.style.display =\n",
              "        google.colab.kernel.accessAllowed ? 'block' : 'none';\n",
              "\n",
              "      async function convertToInteractive(key) {\n",
              "        const element = document.querySelector('#df-c96ca5be-6f08-4e49-b482-78e7ee1e85c3');\n",
              "        const dataTable =\n",
              "          await google.colab.kernel.invokeFunction('convertToInteractive',\n",
              "                                                    [key], {});\n",
              "        if (!dataTable) return;\n",
              "\n",
              "        const docLinkHtml = 'Like what you see? Visit the ' +\n",
              "          '<a target=\"_blank\" href=https://colab.research.google.com/notebooks/data_table.ipynb>data table notebook</a>'\n",
              "          + ' to learn more about interactive tables.';\n",
              "        element.innerHTML = '';\n",
              "        dataTable['output_type'] = 'display_data';\n",
              "        await google.colab.output.renderOutput(dataTable, element);\n",
              "        const docLink = document.createElement('div');\n",
              "        docLink.innerHTML = docLinkHtml;\n",
              "        element.appendChild(docLink);\n",
              "      }\n",
              "    </script>\n",
              "  </div>\n",
              "\n",
              "\n",
              "<div id=\"df-f9f5afd0-2e66-4f85-8e0c-2b9685bf213d\">\n",
              "  <button class=\"colab-df-quickchart\" onclick=\"quickchart('df-f9f5afd0-2e66-4f85-8e0c-2b9685bf213d')\"\n",
              "            title=\"Suggest charts\"\n",
              "            style=\"display:none;\">\n",
              "\n",
              "<svg xmlns=\"http://www.w3.org/2000/svg\" height=\"24px\"viewBox=\"0 0 24 24\"\n",
              "     width=\"24px\">\n",
              "    <g>\n",
              "        <path d=\"M19 3H5c-1.1 0-2 .9-2 2v14c0 1.1.9 2 2 2h14c1.1 0 2-.9 2-2V5c0-1.1-.9-2-2-2zM9 17H7v-7h2v7zm4 0h-2V7h2v10zm4 0h-2v-4h2v4z\"/>\n",
              "    </g>\n",
              "</svg>\n",
              "  </button>\n",
              "\n",
              "<style>\n",
              "  .colab-df-quickchart {\n",
              "      --bg-color: #E8F0FE;\n",
              "      --fill-color: #1967D2;\n",
              "      --hover-bg-color: #E2EBFA;\n",
              "      --hover-fill-color: #174EA6;\n",
              "      --disabled-fill-color: #AAA;\n",
              "      --disabled-bg-color: #DDD;\n",
              "  }\n",
              "\n",
              "  [theme=dark] .colab-df-quickchart {\n",
              "      --bg-color: #3B4455;\n",
              "      --fill-color: #D2E3FC;\n",
              "      --hover-bg-color: #434B5C;\n",
              "      --hover-fill-color: #FFFFFF;\n",
              "      --disabled-bg-color: #3B4455;\n",
              "      --disabled-fill-color: #666;\n",
              "  }\n",
              "\n",
              "  .colab-df-quickchart {\n",
              "    background-color: var(--bg-color);\n",
              "    border: none;\n",
              "    border-radius: 50%;\n",
              "    cursor: pointer;\n",
              "    display: none;\n",
              "    fill: var(--fill-color);\n",
              "    height: 32px;\n",
              "    padding: 0;\n",
              "    width: 32px;\n",
              "  }\n",
              "\n",
              "  .colab-df-quickchart:hover {\n",
              "    background-color: var(--hover-bg-color);\n",
              "    box-shadow: 0 1px 2px rgba(60, 64, 67, 0.3), 0 1px 3px 1px rgba(60, 64, 67, 0.15);\n",
              "    fill: var(--button-hover-fill-color);\n",
              "  }\n",
              "\n",
              "  .colab-df-quickchart-complete:disabled,\n",
              "  .colab-df-quickchart-complete:disabled:hover {\n",
              "    background-color: var(--disabled-bg-color);\n",
              "    fill: var(--disabled-fill-color);\n",
              "    box-shadow: none;\n",
              "  }\n",
              "\n",
              "  .colab-df-spinner {\n",
              "    border: 2px solid var(--fill-color);\n",
              "    border-color: transparent;\n",
              "    border-bottom-color: var(--fill-color);\n",
              "    animation:\n",
              "      spin 1s steps(1) infinite;\n",
              "  }\n",
              "\n",
              "  @keyframes spin {\n",
              "    0% {\n",
              "      border-color: transparent;\n",
              "      border-bottom-color: var(--fill-color);\n",
              "      border-left-color: var(--fill-color);\n",
              "    }\n",
              "    20% {\n",
              "      border-color: transparent;\n",
              "      border-left-color: var(--fill-color);\n",
              "      border-top-color: var(--fill-color);\n",
              "    }\n",
              "    30% {\n",
              "      border-color: transparent;\n",
              "      border-left-color: var(--fill-color);\n",
              "      border-top-color: var(--fill-color);\n",
              "      border-right-color: var(--fill-color);\n",
              "    }\n",
              "    40% {\n",
              "      border-color: transparent;\n",
              "      border-right-color: var(--fill-color);\n",
              "      border-top-color: var(--fill-color);\n",
              "    }\n",
              "    60% {\n",
              "      border-color: transparent;\n",
              "      border-right-color: var(--fill-color);\n",
              "    }\n",
              "    80% {\n",
              "      border-color: transparent;\n",
              "      border-right-color: var(--fill-color);\n",
              "      border-bottom-color: var(--fill-color);\n",
              "    }\n",
              "    90% {\n",
              "      border-color: transparent;\n",
              "      border-bottom-color: var(--fill-color);\n",
              "    }\n",
              "  }\n",
              "</style>\n",
              "\n",
              "  <script>\n",
              "    async function quickchart(key) {\n",
              "      const quickchartButtonEl =\n",
              "        document.querySelector('#' + key + ' button');\n",
              "      quickchartButtonEl.disabled = true;  // To prevent multiple clicks.\n",
              "      quickchartButtonEl.classList.add('colab-df-spinner');\n",
              "      try {\n",
              "        const charts = await google.colab.kernel.invokeFunction(\n",
              "            'suggestCharts', [key], {});\n",
              "      } catch (error) {\n",
              "        console.error('Error during call to suggestCharts:', error);\n",
              "      }\n",
              "      quickchartButtonEl.classList.remove('colab-df-spinner');\n",
              "      quickchartButtonEl.classList.add('colab-df-quickchart-complete');\n",
              "    }\n",
              "    (() => {\n",
              "      let quickchartButtonEl =\n",
              "        document.querySelector('#df-f9f5afd0-2e66-4f85-8e0c-2b9685bf213d button');\n",
              "      quickchartButtonEl.style.display =\n",
              "        google.colab.kernel.accessAllowed ? 'block' : 'none';\n",
              "    })();\n",
              "  </script>\n",
              "</div>\n",
              "    </div>\n",
              "  </div>\n"
            ],
            "application/vnd.google.colaboratory.intrinsic+json": {
              "type": "dataframe",
              "repr_error": "0"
            }
          },
          "metadata": {}
        }
      ],
      "source": [
        "#ваш код здесь\n",
        "display(data.head())\n",
        "display(data.tail())"
      ]
    },
    {
      "cell_type": "markdown",
      "id": "a2bfff1f-c975-4bf6-84be-2185d79dcb76",
      "metadata": {
        "id": "a2bfff1f-c975-4bf6-84be-2185d79dcb76"
      },
      "source": [
        "3. Выведите основную информацию о числе непустых значений в столбцах и их типах в таблице."
      ]
    },
    {
      "cell_type": "markdown",
      "id": "41bb59f3-53cc-4a67-a5bc-bedf573955e4",
      "metadata": {
        "id": "41bb59f3-53cc-4a67-a5bc-bedf573955e4"
      },
      "source": [
        "4. Обратите внимание на информацию о числе непустых значений."
      ]
    },
    {
      "cell_type": "code",
      "execution_count": 6,
      "id": "d286cf4c-707b-4cd2-9190-7ab3587d04a1",
      "metadata": {
        "colab": {
          "base_uri": "https://localhost:8080/"
        },
        "id": "d286cf4c-707b-4cd2-9190-7ab3587d04a1",
        "outputId": "683c4033-f732-407f-cade-90bcf1adbac8"
      },
      "outputs": [
        {
          "output_type": "stream",
          "name": "stdout",
          "text": [
            "<class 'pandas.core.frame.DataFrame'>\n",
            "RangeIndex: 44744 entries, 0 to 44743\n",
            "Data columns (total 12 columns):\n",
            " #   Column                           Non-Null Count  Dtype \n",
            "---  ------                           --------------  ----- \n",
            " 0   Пол, возраст                     44744 non-null  object\n",
            " 1   ЗП                               44744 non-null  object\n",
            " 2   Ищет работу на должность:        44744 non-null  object\n",
            " 3   Город, переезд, командировки     44744 non-null  object\n",
            " 4   Занятость                        44744 non-null  object\n",
            " 5   График                           44744 non-null  object\n",
            " 6   Опыт работы                      44576 non-null  object\n",
            " 7   Последнее/нынешнее место работы  44743 non-null  object\n",
            " 8   Последняя/нынешняя должность     44742 non-null  object\n",
            " 9   Образование и ВУЗ                44744 non-null  object\n",
            " 10  Обновление резюме                44744 non-null  object\n",
            " 11  Авто                             44744 non-null  object\n",
            "dtypes: object(12)\n",
            "memory usage: 4.1+ MB\n"
          ]
        }
      ],
      "source": [
        "#ваш код здесь\n",
        "data.info()"
      ]
    },
    {
      "cell_type": "markdown",
      "id": "9a8a2181-6914-448b-85f1-38f5f18b8a93",
      "metadata": {
        "id": "9a8a2181-6914-448b-85f1-38f5f18b8a93"
      },
      "source": [
        "5. Выведите основную статистическую информацию о столбцах.\n"
      ]
    },
    {
      "cell_type": "code",
      "execution_count": 7,
      "id": "be4e9bd3-a4db-4a20-82fb-6b02fc2957e0",
      "metadata": {
        "colab": {
          "base_uri": "https://localhost:8080/",
          "height": 333
        },
        "id": "be4e9bd3-a4db-4a20-82fb-6b02fc2957e0",
        "outputId": "96cc45e2-672b-46e8-d2cc-4bdcea8e46e2"
      },
      "outputs": [
        {
          "output_type": "execute_result",
          "data": {
            "text/plain": [
              "                                         Пол, возраст          ЗП  \\\n",
              "count                                           44744       44744   \n",
              "unique                                          16003         690   \n",
              "top     Мужчина ,  32 года , родился 17 сентября 1986  50000 руб.   \n",
              "freq                                               18        4064   \n",
              "\n",
              "       Ищет работу на должность:  \\\n",
              "count                      44744   \n",
              "unique                     14929   \n",
              "top      Системный администратор   \n",
              "freq                        3099   \n",
              "\n",
              "                             Город, переезд, командировки         Занятость  \\\n",
              "count                                               44744             44744   \n",
              "unique                                              10063                38   \n",
              "top     Москва , не готов к переезду , не готов к кома...  полная занятость   \n",
              "freq                                                 1261             30026   \n",
              "\n",
              "             График                                        Опыт работы  \\\n",
              "count         44744                                              44576   \n",
              "unique           47                                              44413   \n",
              "top     полный день  Опыт работы 10 лет 8 месяцев  Апрель 2018 — по...   \n",
              "freq          22727                                                  3   \n",
              "\n",
              "                          Последнее/нынешнее место работы  \\\n",
              "count                                               44743   \n",
              "unique                                              30214   \n",
              "top     Индивидуальное предпринимательство / частная п...   \n",
              "freq                                                  935   \n",
              "\n",
              "       Последняя/нынешняя должность  \\\n",
              "count                         44742   \n",
              "unique                        16927   \n",
              "top         Системный администратор   \n",
              "freq                           2062   \n",
              "\n",
              "                                        Образование и ВУЗ Обновление резюме  \\\n",
              "count                                               44744             44744   \n",
              "unique                                              40148             18838   \n",
              "top     Высшее образование 1987 Военный инженерный Кра...  07.05.2019 09:50   \n",
              "freq                                                    4                25   \n",
              "\n",
              "              Авто  \n",
              "count        44744  \n",
              "unique           2  \n",
              "top     Не указано  \n",
              "freq         32268  "
            ],
            "text/html": [
              "\n",
              "  <div id=\"df-1b4b03d9-627a-4507-a3c1-d48babd176f8\" class=\"colab-df-container\">\n",
              "    <div>\n",
              "<style scoped>\n",
              "    .dataframe tbody tr th:only-of-type {\n",
              "        vertical-align: middle;\n",
              "    }\n",
              "\n",
              "    .dataframe tbody tr th {\n",
              "        vertical-align: top;\n",
              "    }\n",
              "\n",
              "    .dataframe thead th {\n",
              "        text-align: right;\n",
              "    }\n",
              "</style>\n",
              "<table border=\"1\" class=\"dataframe\">\n",
              "  <thead>\n",
              "    <tr style=\"text-align: right;\">\n",
              "      <th></th>\n",
              "      <th>Пол, возраст</th>\n",
              "      <th>ЗП</th>\n",
              "      <th>Ищет работу на должность:</th>\n",
              "      <th>Город, переезд, командировки</th>\n",
              "      <th>Занятость</th>\n",
              "      <th>График</th>\n",
              "      <th>Опыт работы</th>\n",
              "      <th>Последнее/нынешнее место работы</th>\n",
              "      <th>Последняя/нынешняя должность</th>\n",
              "      <th>Образование и ВУЗ</th>\n",
              "      <th>Обновление резюме</th>\n",
              "      <th>Авто</th>\n",
              "    </tr>\n",
              "  </thead>\n",
              "  <tbody>\n",
              "    <tr>\n",
              "      <th>count</th>\n",
              "      <td>44744</td>\n",
              "      <td>44744</td>\n",
              "      <td>44744</td>\n",
              "      <td>44744</td>\n",
              "      <td>44744</td>\n",
              "      <td>44744</td>\n",
              "      <td>44576</td>\n",
              "      <td>44743</td>\n",
              "      <td>44742</td>\n",
              "      <td>44744</td>\n",
              "      <td>44744</td>\n",
              "      <td>44744</td>\n",
              "    </tr>\n",
              "    <tr>\n",
              "      <th>unique</th>\n",
              "      <td>16003</td>\n",
              "      <td>690</td>\n",
              "      <td>14929</td>\n",
              "      <td>10063</td>\n",
              "      <td>38</td>\n",
              "      <td>47</td>\n",
              "      <td>44413</td>\n",
              "      <td>30214</td>\n",
              "      <td>16927</td>\n",
              "      <td>40148</td>\n",
              "      <td>18838</td>\n",
              "      <td>2</td>\n",
              "    </tr>\n",
              "    <tr>\n",
              "      <th>top</th>\n",
              "      <td>Мужчина ,  32 года , родился 17 сентября 1986</td>\n",
              "      <td>50000 руб.</td>\n",
              "      <td>Системный администратор</td>\n",
              "      <td>Москва , не готов к переезду , не готов к кома...</td>\n",
              "      <td>полная занятость</td>\n",
              "      <td>полный день</td>\n",
              "      <td>Опыт работы 10 лет 8 месяцев  Апрель 2018 — по...</td>\n",
              "      <td>Индивидуальное предпринимательство / частная п...</td>\n",
              "      <td>Системный администратор</td>\n",
              "      <td>Высшее образование 1987 Военный инженерный Кра...</td>\n",
              "      <td>07.05.2019 09:50</td>\n",
              "      <td>Не указано</td>\n",
              "    </tr>\n",
              "    <tr>\n",
              "      <th>freq</th>\n",
              "      <td>18</td>\n",
              "      <td>4064</td>\n",
              "      <td>3099</td>\n",
              "      <td>1261</td>\n",
              "      <td>30026</td>\n",
              "      <td>22727</td>\n",
              "      <td>3</td>\n",
              "      <td>935</td>\n",
              "      <td>2062</td>\n",
              "      <td>4</td>\n",
              "      <td>25</td>\n",
              "      <td>32268</td>\n",
              "    </tr>\n",
              "  </tbody>\n",
              "</table>\n",
              "</div>\n",
              "    <div class=\"colab-df-buttons\">\n",
              "\n",
              "  <div class=\"colab-df-container\">\n",
              "    <button class=\"colab-df-convert\" onclick=\"convertToInteractive('df-1b4b03d9-627a-4507-a3c1-d48babd176f8')\"\n",
              "            title=\"Convert this dataframe to an interactive table.\"\n",
              "            style=\"display:none;\">\n",
              "\n",
              "  <svg xmlns=\"http://www.w3.org/2000/svg\" height=\"24px\" viewBox=\"0 -960 960 960\">\n",
              "    <path d=\"M120-120v-720h720v720H120Zm60-500h600v-160H180v160Zm220 220h160v-160H400v160Zm0 220h160v-160H400v160ZM180-400h160v-160H180v160Zm440 0h160v-160H620v160ZM180-180h160v-160H180v160Zm440 0h160v-160H620v160Z\"/>\n",
              "  </svg>\n",
              "    </button>\n",
              "\n",
              "  <style>\n",
              "    .colab-df-container {\n",
              "      display:flex;\n",
              "      gap: 12px;\n",
              "    }\n",
              "\n",
              "    .colab-df-convert {\n",
              "      background-color: #E8F0FE;\n",
              "      border: none;\n",
              "      border-radius: 50%;\n",
              "      cursor: pointer;\n",
              "      display: none;\n",
              "      fill: #1967D2;\n",
              "      height: 32px;\n",
              "      padding: 0 0 0 0;\n",
              "      width: 32px;\n",
              "    }\n",
              "\n",
              "    .colab-df-convert:hover {\n",
              "      background-color: #E2EBFA;\n",
              "      box-shadow: 0px 1px 2px rgba(60, 64, 67, 0.3), 0px 1px 3px 1px rgba(60, 64, 67, 0.15);\n",
              "      fill: #174EA6;\n",
              "    }\n",
              "\n",
              "    .colab-df-buttons div {\n",
              "      margin-bottom: 4px;\n",
              "    }\n",
              "\n",
              "    [theme=dark] .colab-df-convert {\n",
              "      background-color: #3B4455;\n",
              "      fill: #D2E3FC;\n",
              "    }\n",
              "\n",
              "    [theme=dark] .colab-df-convert:hover {\n",
              "      background-color: #434B5C;\n",
              "      box-shadow: 0px 1px 3px 1px rgba(0, 0, 0, 0.15);\n",
              "      filter: drop-shadow(0px 1px 2px rgba(0, 0, 0, 0.3));\n",
              "      fill: #FFFFFF;\n",
              "    }\n",
              "  </style>\n",
              "\n",
              "    <script>\n",
              "      const buttonEl =\n",
              "        document.querySelector('#df-1b4b03d9-627a-4507-a3c1-d48babd176f8 button.colab-df-convert');\n",
              "      buttonEl.style.display =\n",
              "        google.colab.kernel.accessAllowed ? 'block' : 'none';\n",
              "\n",
              "      async function convertToInteractive(key) {\n",
              "        const element = document.querySelector('#df-1b4b03d9-627a-4507-a3c1-d48babd176f8');\n",
              "        const dataTable =\n",
              "          await google.colab.kernel.invokeFunction('convertToInteractive',\n",
              "                                                    [key], {});\n",
              "        if (!dataTable) return;\n",
              "\n",
              "        const docLinkHtml = 'Like what you see? Visit the ' +\n",
              "          '<a target=\"_blank\" href=https://colab.research.google.com/notebooks/data_table.ipynb>data table notebook</a>'\n",
              "          + ' to learn more about interactive tables.';\n",
              "        element.innerHTML = '';\n",
              "        dataTable['output_type'] = 'display_data';\n",
              "        await google.colab.output.renderOutput(dataTable, element);\n",
              "        const docLink = document.createElement('div');\n",
              "        docLink.innerHTML = docLinkHtml;\n",
              "        element.appendChild(docLink);\n",
              "      }\n",
              "    </script>\n",
              "  </div>\n",
              "\n",
              "\n",
              "<div id=\"df-dca352b4-5c59-48d6-80e8-55af0346d81f\">\n",
              "  <button class=\"colab-df-quickchart\" onclick=\"quickchart('df-dca352b4-5c59-48d6-80e8-55af0346d81f')\"\n",
              "            title=\"Suggest charts\"\n",
              "            style=\"display:none;\">\n",
              "\n",
              "<svg xmlns=\"http://www.w3.org/2000/svg\" height=\"24px\"viewBox=\"0 0 24 24\"\n",
              "     width=\"24px\">\n",
              "    <g>\n",
              "        <path d=\"M19 3H5c-1.1 0-2 .9-2 2v14c0 1.1.9 2 2 2h14c1.1 0 2-.9 2-2V5c0-1.1-.9-2-2-2zM9 17H7v-7h2v7zm4 0h-2V7h2v10zm4 0h-2v-4h2v4z\"/>\n",
              "    </g>\n",
              "</svg>\n",
              "  </button>\n",
              "\n",
              "<style>\n",
              "  .colab-df-quickchart {\n",
              "      --bg-color: #E8F0FE;\n",
              "      --fill-color: #1967D2;\n",
              "      --hover-bg-color: #E2EBFA;\n",
              "      --hover-fill-color: #174EA6;\n",
              "      --disabled-fill-color: #AAA;\n",
              "      --disabled-bg-color: #DDD;\n",
              "  }\n",
              "\n",
              "  [theme=dark] .colab-df-quickchart {\n",
              "      --bg-color: #3B4455;\n",
              "      --fill-color: #D2E3FC;\n",
              "      --hover-bg-color: #434B5C;\n",
              "      --hover-fill-color: #FFFFFF;\n",
              "      --disabled-bg-color: #3B4455;\n",
              "      --disabled-fill-color: #666;\n",
              "  }\n",
              "\n",
              "  .colab-df-quickchart {\n",
              "    background-color: var(--bg-color);\n",
              "    border: none;\n",
              "    border-radius: 50%;\n",
              "    cursor: pointer;\n",
              "    display: none;\n",
              "    fill: var(--fill-color);\n",
              "    height: 32px;\n",
              "    padding: 0;\n",
              "    width: 32px;\n",
              "  }\n",
              "\n",
              "  .colab-df-quickchart:hover {\n",
              "    background-color: var(--hover-bg-color);\n",
              "    box-shadow: 0 1px 2px rgba(60, 64, 67, 0.3), 0 1px 3px 1px rgba(60, 64, 67, 0.15);\n",
              "    fill: var(--button-hover-fill-color);\n",
              "  }\n",
              "\n",
              "  .colab-df-quickchart-complete:disabled,\n",
              "  .colab-df-quickchart-complete:disabled:hover {\n",
              "    background-color: var(--disabled-bg-color);\n",
              "    fill: var(--disabled-fill-color);\n",
              "    box-shadow: none;\n",
              "  }\n",
              "\n",
              "  .colab-df-spinner {\n",
              "    border: 2px solid var(--fill-color);\n",
              "    border-color: transparent;\n",
              "    border-bottom-color: var(--fill-color);\n",
              "    animation:\n",
              "      spin 1s steps(1) infinite;\n",
              "  }\n",
              "\n",
              "  @keyframes spin {\n",
              "    0% {\n",
              "      border-color: transparent;\n",
              "      border-bottom-color: var(--fill-color);\n",
              "      border-left-color: var(--fill-color);\n",
              "    }\n",
              "    20% {\n",
              "      border-color: transparent;\n",
              "      border-left-color: var(--fill-color);\n",
              "      border-top-color: var(--fill-color);\n",
              "    }\n",
              "    30% {\n",
              "      border-color: transparent;\n",
              "      border-left-color: var(--fill-color);\n",
              "      border-top-color: var(--fill-color);\n",
              "      border-right-color: var(--fill-color);\n",
              "    }\n",
              "    40% {\n",
              "      border-color: transparent;\n",
              "      border-right-color: var(--fill-color);\n",
              "      border-top-color: var(--fill-color);\n",
              "    }\n",
              "    60% {\n",
              "      border-color: transparent;\n",
              "      border-right-color: var(--fill-color);\n",
              "    }\n",
              "    80% {\n",
              "      border-color: transparent;\n",
              "      border-right-color: var(--fill-color);\n",
              "      border-bottom-color: var(--fill-color);\n",
              "    }\n",
              "    90% {\n",
              "      border-color: transparent;\n",
              "      border-bottom-color: var(--fill-color);\n",
              "    }\n",
              "  }\n",
              "</style>\n",
              "\n",
              "  <script>\n",
              "    async function quickchart(key) {\n",
              "      const quickchartButtonEl =\n",
              "        document.querySelector('#' + key + ' button');\n",
              "      quickchartButtonEl.disabled = true;  // To prevent multiple clicks.\n",
              "      quickchartButtonEl.classList.add('colab-df-spinner');\n",
              "      try {\n",
              "        const charts = await google.colab.kernel.invokeFunction(\n",
              "            'suggestCharts', [key], {});\n",
              "      } catch (error) {\n",
              "        console.error('Error during call to suggestCharts:', error);\n",
              "      }\n",
              "      quickchartButtonEl.classList.remove('colab-df-spinner');\n",
              "      quickchartButtonEl.classList.add('colab-df-quickchart-complete');\n",
              "    }\n",
              "    (() => {\n",
              "      let quickchartButtonEl =\n",
              "        document.querySelector('#df-dca352b4-5c59-48d6-80e8-55af0346d81f button');\n",
              "      quickchartButtonEl.style.display =\n",
              "        google.colab.kernel.accessAllowed ? 'block' : 'none';\n",
              "    })();\n",
              "  </script>\n",
              "</div>\n",
              "    </div>\n",
              "  </div>\n"
            ],
            "application/vnd.google.colaboratory.intrinsic+json": {
              "type": "dataframe",
              "summary": "{\n  \"name\": \"data\",\n  \"rows\": 4,\n  \"fields\": [\n    {\n      \"column\": \"\\u041f\\u043e\\u043b, \\u0432\\u043e\\u0437\\u0440\\u0430\\u0441\\u0442\",\n      \"properties\": {\n        \"dtype\": \"string\",\n        \"num_unique_values\": 4,\n        \"samples\": [\n          16003,\n          \"18\",\n          \"44744\"\n        ],\n        \"semantic_type\": \"\",\n        \"description\": \"\"\n      }\n    },\n    {\n      \"column\": \"\\u0417\\u041f\",\n      \"properties\": {\n        \"dtype\": \"string\",\n        \"num_unique_values\": 4,\n        \"samples\": [\n          690,\n          \"4064\",\n          \"44744\"\n        ],\n        \"semantic_type\": \"\",\n        \"description\": \"\"\n      }\n    },\n    {\n      \"column\": \"\\u0418\\u0449\\u0435\\u0442 \\u0440\\u0430\\u0431\\u043e\\u0442\\u0443 \\u043d\\u0430 \\u0434\\u043e\\u043b\\u0436\\u043d\\u043e\\u0441\\u0442\\u044c:\",\n      \"properties\": {\n        \"dtype\": \"string\",\n        \"num_unique_values\": 4,\n        \"samples\": [\n          14929,\n          \"3099\",\n          \"44744\"\n        ],\n        \"semantic_type\": \"\",\n        \"description\": \"\"\n      }\n    },\n    {\n      \"column\": \"\\u0413\\u043e\\u0440\\u043e\\u0434, \\u043f\\u0435\\u0440\\u0435\\u0435\\u0437\\u0434, \\u043a\\u043e\\u043c\\u0430\\u043d\\u0434\\u0438\\u0440\\u043e\\u0432\\u043a\\u0438\",\n      \"properties\": {\n        \"dtype\": \"string\",\n        \"num_unique_values\": 4,\n        \"samples\": [\n          10063,\n          \"1261\",\n          \"44744\"\n        ],\n        \"semantic_type\": \"\",\n        \"description\": \"\"\n      }\n    },\n    {\n      \"column\": \"\\u0417\\u0430\\u043d\\u044f\\u0442\\u043e\\u0441\\u0442\\u044c\",\n      \"properties\": {\n        \"dtype\": \"string\",\n        \"num_unique_values\": 4,\n        \"samples\": [\n          38,\n          \"30026\",\n          \"44744\"\n        ],\n        \"semantic_type\": \"\",\n        \"description\": \"\"\n      }\n    },\n    {\n      \"column\": \"\\u0413\\u0440\\u0430\\u0444\\u0438\\u043a\",\n      \"properties\": {\n        \"dtype\": \"string\",\n        \"num_unique_values\": 4,\n        \"samples\": [\n          47,\n          \"22727\",\n          \"44744\"\n        ],\n        \"semantic_type\": \"\",\n        \"description\": \"\"\n      }\n    },\n    {\n      \"column\": \"\\u041e\\u043f\\u044b\\u0442 \\u0440\\u0430\\u0431\\u043e\\u0442\\u044b\",\n      \"properties\": {\n        \"dtype\": \"string\",\n        \"num_unique_values\": 4,\n        \"samples\": [\n          44413,\n          \"3\",\n          \"44576\"\n        ],\n        \"semantic_type\": \"\",\n        \"description\": \"\"\n      }\n    },\n    {\n      \"column\": \"\\u041f\\u043e\\u0441\\u043b\\u0435\\u0434\\u043d\\u0435\\u0435/\\u043d\\u044b\\u043d\\u0435\\u0448\\u043d\\u0435\\u0435 \\u043c\\u0435\\u0441\\u0442\\u043e \\u0440\\u0430\\u0431\\u043e\\u0442\\u044b\",\n      \"properties\": {\n        \"dtype\": \"string\",\n        \"num_unique_values\": 4,\n        \"samples\": [\n          30214,\n          \"935\",\n          \"44743\"\n        ],\n        \"semantic_type\": \"\",\n        \"description\": \"\"\n      }\n    },\n    {\n      \"column\": \"\\u041f\\u043e\\u0441\\u043b\\u0435\\u0434\\u043d\\u044f\\u044f/\\u043d\\u044b\\u043d\\u0435\\u0448\\u043d\\u044f\\u044f \\u0434\\u043e\\u043b\\u0436\\u043d\\u043e\\u0441\\u0442\\u044c\",\n      \"properties\": {\n        \"dtype\": \"string\",\n        \"num_unique_values\": 4,\n        \"samples\": [\n          16927,\n          \"2062\",\n          \"44742\"\n        ],\n        \"semantic_type\": \"\",\n        \"description\": \"\"\n      }\n    },\n    {\n      \"column\": \"\\u041e\\u0431\\u0440\\u0430\\u0437\\u043e\\u0432\\u0430\\u043d\\u0438\\u0435 \\u0438 \\u0412\\u0423\\u0417\",\n      \"properties\": {\n        \"dtype\": \"string\",\n        \"num_unique_values\": 4,\n        \"samples\": [\n          40148,\n          \"4\",\n          \"44744\"\n        ],\n        \"semantic_type\": \"\",\n        \"description\": \"\"\n      }\n    },\n    {\n      \"column\": \"\\u041e\\u0431\\u043d\\u043e\\u0432\\u043b\\u0435\\u043d\\u0438\\u0435 \\u0440\\u0435\\u0437\\u044e\\u043c\\u0435\",\n      \"properties\": {\n        \"dtype\": \"date\",\n        \"min\": \"1970-01-01 00:00:00.000000025\",\n        \"max\": \"2019-07-05 09:50:00\",\n        \"num_unique_values\": 4,\n        \"samples\": [\n          18838,\n          \"25\",\n          \"44744\"\n        ],\n        \"semantic_type\": \"\",\n        \"description\": \"\"\n      }\n    },\n    {\n      \"column\": \"\\u0410\\u0432\\u0442\\u043e\",\n      \"properties\": {\n        \"dtype\": \"string\",\n        \"num_unique_values\": 4,\n        \"samples\": [\n          2,\n          \"32268\",\n          \"44744\"\n        ],\n        \"semantic_type\": \"\",\n        \"description\": \"\"\n      }\n    }\n  ]\n}"
            }
          },
          "metadata": {},
          "execution_count": 7
        }
      ],
      "source": [
        "#ваш код здесь\n",
        "data.describe(include=['object'])"
      ]
    },
    {
      "cell_type": "code",
      "source": [
        "data.shape"
      ],
      "metadata": {
        "colab": {
          "base_uri": "https://localhost:8080/"
        },
        "id": "wUEMCYFs63DH",
        "outputId": "17600db1-5655-42ca-c4bb-0c110637c730"
      },
      "id": "wUEMCYFs63DH",
      "execution_count": 8,
      "outputs": [
        {
          "output_type": "execute_result",
          "data": {
            "text/plain": [
              "(44744, 12)"
            ]
          },
          "metadata": {},
          "execution_count": 8
        }
      ]
    },
    {
      "cell_type": "markdown",
      "id": "8d62a9f3-f64e-4fe7-bdac-c4dffa16155e",
      "metadata": {
        "id": "8d62a9f3-f64e-4fe7-bdac-c4dffa16155e"
      },
      "source": [
        "# Преобразование данных"
      ]
    },
    {
      "cell_type": "markdown",
      "id": "93053d3d-b284-481a-9cf7-012d7014c0e0",
      "metadata": {
        "id": "93053d3d-b284-481a-9cf7-012d7014c0e0"
      },
      "source": [
        "1. Начнем с простого - с признака **\"Образование и ВУЗ\"**. Его текущий формат это: **<Уровень образования год выпуска ВУЗ специальность...>**. Например:\n",
        "* Высшее образование 2016 Московский авиационный институт (национальный исследовательский университет)...\n",
        "* Неоконченное высшее образование 2000  Балтийская государственная академия рыбопромыслового флота…\n",
        "Нас будет интересовать только уровень образования.\n",
        "\n",
        "Создайте с помощью функции-преобразования новый признак **\"Образование\"**, который должен иметь 4 категории: \"высшее\", \"неоконченное высшее\", \"среднее специальное\" и \"среднее\".\n",
        "\n",
        "Выполните преобразование, ответьте на контрольные вопросы и удалите признак \"Образование и ВУЗ\".\n",
        "\n",
        "Совет: обратите внимание на структуру текста в столбце **\"Образование и ВУЗ\"**. Гарантируется, что текущий уровень образования соискателя всегда находится в первых 2ух слов и начинается с заглавной буквы. Воспользуйтесь этим.\n",
        "\n",
        "*Совет: проверяйте полученные категории, например, с помощью метода unique()*\n"
      ]
    },
    {
      "cell_type": "code",
      "execution_count": 9,
      "id": "3f069da6-fdc9-4ae7-b514-fafe2675efd3",
      "metadata": {
        "colab": {
          "base_uri": "https://localhost:8080/",
          "height": 1000
        },
        "id": "3f069da6-fdc9-4ae7-b514-fafe2675efd3",
        "outputId": "7fd9e519-2cca-4fbc-9e81-ff0ec79a61b2"
      },
      "outputs": [
        {
          "output_type": "execute_result",
          "data": {
            "text/plain": [
              "                                       Пол, возраст           ЗП  \\\n",
              "0        Мужчина ,  39 лет , родился 27 ноября 1979   29000 руб.   \n",
              "1         Мужчина ,  60 лет , родился 20 марта 1959   40000 руб.   \n",
              "2      Женщина ,  36 лет , родилась 12 августа 1982   20000 руб.   \n",
              "3          Мужчина ,  38 лет , родился 25 июня 1980  100000 руб.   \n",
              "4         Женщина ,  26 лет , родилась 3 марта 1993  140000 руб.   \n",
              "...                                             ...          ...   \n",
              "44739    Мужчина ,  30 лет , родился 17 января 1989   50000 руб.   \n",
              "44740      Мужчина ,  27 лет , родился 5 марта 1992   39000 руб.   \n",
              "44741  Женщина ,  48 лет , родилась 26 декабря 1970   40000 руб.   \n",
              "44742   Мужчина ,  24 года , родился 6 октября 1994   20000 руб.   \n",
              "44743    Мужчина ,  38 лет , родился 25 апреля 1980  120000 руб.   \n",
              "\n",
              "                               Ищет работу на должность:  \\\n",
              "0                                Системный администратор   \n",
              "1                                   Технический писатель   \n",
              "2                                               Оператор   \n",
              "3      Веб-разработчик (HTML / CSS / JS / PHP / базы ...   \n",
              "4                      Региональный менеджер по продажам   \n",
              "...                                                  ...   \n",
              "44739  Финансист, аналитик, экономист, бухгалтер, мен...   \n",
              "44740             Системный администратор, IT-специалист   \n",
              "44741                         Аналитик данных, Математик   \n",
              "44742                                   Контент-менеджер   \n",
              "44743                               Руководитель проекта   \n",
              "\n",
              "                            Город, переезд, командировки  \\\n",
              "0      Советск (Калининградская область) , не готов к...   \n",
              "1      Королев , не готов к переезду , готов к редким...   \n",
              "2      Тверь , не готова к переезду , не готова к ком...   \n",
              "3      Саратов , не готов к переезду , готов к редким...   \n",
              "4      Москва , не готова к переезду , готова к коман...   \n",
              "...                                                  ...   \n",
              "44739  Тверь , готов к переезду (Москва, Химки) , гот...   \n",
              "44740  Липецк , готов к переезду , готов к командировкам   \n",
              "44741  Челябинск , готова к переезду , готова к редки...   \n",
              "44742  Тамбов , не готов к переезду , не готов к кома...   \n",
              "44743  Москва , не готов к переезду , не готов к кома...   \n",
              "\n",
              "                                               Занятость  \\\n",
              "0      частичная занятость, проектная работа, полная ...   \n",
              "1      частичная занятость, проектная работа, полная ...   \n",
              "2                                       полная занятость   \n",
              "3      частичная занятость, проектная работа, полная ...   \n",
              "4                                       полная занятость   \n",
              "...                                                  ...   \n",
              "44739                                   полная занятость   \n",
              "44740  проектная работа, частичная занятость, полная ...   \n",
              "44741                                   полная занятость   \n",
              "44742              частичная занятость, полная занятость   \n",
              "44743                                   полная занятость   \n",
              "\n",
              "                                                  График  \\\n",
              "0      гибкий график, полный день, сменный график, ва...   \n",
              "1      гибкий график, полный день, сменный график, уд...   \n",
              "2                                            полный день   \n",
              "3                        гибкий график, удаленная работа   \n",
              "4                                            полный день   \n",
              "...                                                  ...   \n",
              "44739                      полный день, удаленная работа   \n",
              "44740  удаленная работа, гибкий график, полный день, ...   \n",
              "44741                      полный день, удаленная работа   \n",
              "44742                                   удаленная работа   \n",
              "44743                                        полный день   \n",
              "\n",
              "                                             Опыт работы  \\\n",
              "0      Опыт работы 16 лет 10 месяцев  Август 2010 — п...   \n",
              "1      Опыт работы 19 лет 5 месяцев  Январь 2000 — по...   \n",
              "2      Опыт работы 10 лет 3 месяца  Октябрь 2004 — Де...   \n",
              "3      Опыт работы 18 лет 9 месяцев  Август 2017 — Ап...   \n",
              "4      Опыт работы 5 лет 7 месяцев  Региональный мене...   \n",
              "...                                                  ...   \n",
              "44739  Опыт работы 7 лет 7 месяцев  Финансист, аналит...   \n",
              "44740  Опыт работы 7 лет  Системный администратор, IT...   \n",
              "44741  Опыт работы 21 год 5 месяцев  Январь 1998 — по...   \n",
              "44742  Опыт работы 3 года 10 месяцев  Контент-менедже...   \n",
              "44743  Опыт работы 15 лет 10 месяцев  Руководитель пр...   \n",
              "\n",
              "                         Последнее/нынешнее место работы  \\\n",
              "0                                МАОУ \"СОШ № 1 г.Немана\"   \n",
              "1                           Временный трудовой коллектив   \n",
              "2                                           ПАО Сбербанк   \n",
              "3                                               OpenSoft   \n",
              "4                                               Мармелад   \n",
              "...                                                  ...   \n",
              "44739  ООО \"IAS\" (независимый участник объединения Ru...   \n",
              "44740                                       ИП Пестрецов   \n",
              "44741  ОАО «ЧМК», Исследовательско-Технологический Це...   \n",
              "44742                                          IQ-Maxima   \n",
              "44743                                  ПАО ГК ТНС энерго   \n",
              "\n",
              "                           Последняя/нынешняя должность Обновление резюме  \\\n",
              "0                               Системный администратор  16.04.2019 15:59   \n",
              "1      Менеджер проекта, Аналитик, Технический писатель  12.04.2019 08:42   \n",
              "2                                   Кассир-операционист  16.04.2019 08:35   \n",
              "3                                   Инженер-программист  08.04.2019 14:23   \n",
              "4                                  Менеджер по продажам  22.04.2019 10:32   \n",
              "...                                                 ...               ...   \n",
              "44739                            Руководитель субгруппы  22.04.2019 12:32   \n",
              "44740                                   Предприниматель  22.04.2019 13:11   \n",
              "44741                        Начальник группы аналитики  09.04.2019 05:07   \n",
              "44742                                 Менеджер проектов  26.04.2019 14:25   \n",
              "44743         Руководитель отдела технической поддержки  05.07.2018 20:15   \n",
              "\n",
              "                                 Авто          Образование  \n",
              "0      Имеется собственный автомобиль  неоконченное высшее  \n",
              "1                          Не указано               высшее  \n",
              "2                          Не указано  среднее специальное  \n",
              "3                          Не указано               высшее  \n",
              "4                          Не указано               высшее  \n",
              "...                               ...                  ...  \n",
              "44739                      Не указано               высшее  \n",
              "44740                      Не указано               высшее  \n",
              "44741                      Не указано               высшее  \n",
              "44742  Имеется собственный автомобиль               высшее  \n",
              "44743                      Не указано               высшее  \n",
              "\n",
              "[44744 rows x 12 columns]"
            ],
            "text/html": [
              "\n",
              "  <div id=\"df-28f16fd7-f1c1-47fb-97b4-f3a3c07a7d52\" class=\"colab-df-container\">\n",
              "    <div>\n",
              "<style scoped>\n",
              "    .dataframe tbody tr th:only-of-type {\n",
              "        vertical-align: middle;\n",
              "    }\n",
              "\n",
              "    .dataframe tbody tr th {\n",
              "        vertical-align: top;\n",
              "    }\n",
              "\n",
              "    .dataframe thead th {\n",
              "        text-align: right;\n",
              "    }\n",
              "</style>\n",
              "<table border=\"1\" class=\"dataframe\">\n",
              "  <thead>\n",
              "    <tr style=\"text-align: right;\">\n",
              "      <th></th>\n",
              "      <th>Пол, возраст</th>\n",
              "      <th>ЗП</th>\n",
              "      <th>Ищет работу на должность:</th>\n",
              "      <th>Город, переезд, командировки</th>\n",
              "      <th>Занятость</th>\n",
              "      <th>График</th>\n",
              "      <th>Опыт работы</th>\n",
              "      <th>Последнее/нынешнее место работы</th>\n",
              "      <th>Последняя/нынешняя должность</th>\n",
              "      <th>Обновление резюме</th>\n",
              "      <th>Авто</th>\n",
              "      <th>Образование</th>\n",
              "    </tr>\n",
              "  </thead>\n",
              "  <tbody>\n",
              "    <tr>\n",
              "      <th>0</th>\n",
              "      <td>Мужчина ,  39 лет , родился 27 ноября 1979</td>\n",
              "      <td>29000 руб.</td>\n",
              "      <td>Системный администратор</td>\n",
              "      <td>Советск (Калининградская область) , не готов к...</td>\n",
              "      <td>частичная занятость, проектная работа, полная ...</td>\n",
              "      <td>гибкий график, полный день, сменный график, ва...</td>\n",
              "      <td>Опыт работы 16 лет 10 месяцев  Август 2010 — п...</td>\n",
              "      <td>МАОУ \"СОШ № 1 г.Немана\"</td>\n",
              "      <td>Системный администратор</td>\n",
              "      <td>16.04.2019 15:59</td>\n",
              "      <td>Имеется собственный автомобиль</td>\n",
              "      <td>неоконченное высшее</td>\n",
              "    </tr>\n",
              "    <tr>\n",
              "      <th>1</th>\n",
              "      <td>Мужчина ,  60 лет , родился 20 марта 1959</td>\n",
              "      <td>40000 руб.</td>\n",
              "      <td>Технический писатель</td>\n",
              "      <td>Королев , не готов к переезду , готов к редким...</td>\n",
              "      <td>частичная занятость, проектная работа, полная ...</td>\n",
              "      <td>гибкий график, полный день, сменный график, уд...</td>\n",
              "      <td>Опыт работы 19 лет 5 месяцев  Январь 2000 — по...</td>\n",
              "      <td>Временный трудовой коллектив</td>\n",
              "      <td>Менеджер проекта, Аналитик, Технический писатель</td>\n",
              "      <td>12.04.2019 08:42</td>\n",
              "      <td>Не указано</td>\n",
              "      <td>высшее</td>\n",
              "    </tr>\n",
              "    <tr>\n",
              "      <th>2</th>\n",
              "      <td>Женщина ,  36 лет , родилась 12 августа 1982</td>\n",
              "      <td>20000 руб.</td>\n",
              "      <td>Оператор</td>\n",
              "      <td>Тверь , не готова к переезду , не готова к ком...</td>\n",
              "      <td>полная занятость</td>\n",
              "      <td>полный день</td>\n",
              "      <td>Опыт работы 10 лет 3 месяца  Октябрь 2004 — Де...</td>\n",
              "      <td>ПАО Сбербанк</td>\n",
              "      <td>Кассир-операционист</td>\n",
              "      <td>16.04.2019 08:35</td>\n",
              "      <td>Не указано</td>\n",
              "      <td>среднее специальное</td>\n",
              "    </tr>\n",
              "    <tr>\n",
              "      <th>3</th>\n",
              "      <td>Мужчина ,  38 лет , родился 25 июня 1980</td>\n",
              "      <td>100000 руб.</td>\n",
              "      <td>Веб-разработчик (HTML / CSS / JS / PHP / базы ...</td>\n",
              "      <td>Саратов , не готов к переезду , готов к редким...</td>\n",
              "      <td>частичная занятость, проектная работа, полная ...</td>\n",
              "      <td>гибкий график, удаленная работа</td>\n",
              "      <td>Опыт работы 18 лет 9 месяцев  Август 2017 — Ап...</td>\n",
              "      <td>OpenSoft</td>\n",
              "      <td>Инженер-программист</td>\n",
              "      <td>08.04.2019 14:23</td>\n",
              "      <td>Не указано</td>\n",
              "      <td>высшее</td>\n",
              "    </tr>\n",
              "    <tr>\n",
              "      <th>4</th>\n",
              "      <td>Женщина ,  26 лет , родилась 3 марта 1993</td>\n",
              "      <td>140000 руб.</td>\n",
              "      <td>Региональный менеджер по продажам</td>\n",
              "      <td>Москва , не готова к переезду , готова к коман...</td>\n",
              "      <td>полная занятость</td>\n",
              "      <td>полный день</td>\n",
              "      <td>Опыт работы 5 лет 7 месяцев  Региональный мене...</td>\n",
              "      <td>Мармелад</td>\n",
              "      <td>Менеджер по продажам</td>\n",
              "      <td>22.04.2019 10:32</td>\n",
              "      <td>Не указано</td>\n",
              "      <td>высшее</td>\n",
              "    </tr>\n",
              "    <tr>\n",
              "      <th>...</th>\n",
              "      <td>...</td>\n",
              "      <td>...</td>\n",
              "      <td>...</td>\n",
              "      <td>...</td>\n",
              "      <td>...</td>\n",
              "      <td>...</td>\n",
              "      <td>...</td>\n",
              "      <td>...</td>\n",
              "      <td>...</td>\n",
              "      <td>...</td>\n",
              "      <td>...</td>\n",
              "      <td>...</td>\n",
              "    </tr>\n",
              "    <tr>\n",
              "      <th>44739</th>\n",
              "      <td>Мужчина ,  30 лет , родился 17 января 1989</td>\n",
              "      <td>50000 руб.</td>\n",
              "      <td>Финансист, аналитик, экономист, бухгалтер, мен...</td>\n",
              "      <td>Тверь , готов к переезду (Москва, Химки) , гот...</td>\n",
              "      <td>полная занятость</td>\n",
              "      <td>полный день, удаленная работа</td>\n",
              "      <td>Опыт работы 7 лет 7 месяцев  Финансист, аналит...</td>\n",
              "      <td>ООО \"IAS\" (независимый участник объединения Ru...</td>\n",
              "      <td>Руководитель субгруппы</td>\n",
              "      <td>22.04.2019 12:32</td>\n",
              "      <td>Не указано</td>\n",
              "      <td>высшее</td>\n",
              "    </tr>\n",
              "    <tr>\n",
              "      <th>44740</th>\n",
              "      <td>Мужчина ,  27 лет , родился 5 марта 1992</td>\n",
              "      <td>39000 руб.</td>\n",
              "      <td>Системный администратор, IT-специалист</td>\n",
              "      <td>Липецк , готов к переезду , готов к командировкам</td>\n",
              "      <td>проектная работа, частичная занятость, полная ...</td>\n",
              "      <td>удаленная работа, гибкий график, полный день, ...</td>\n",
              "      <td>Опыт работы 7 лет  Системный администратор, IT...</td>\n",
              "      <td>ИП Пестрецов</td>\n",
              "      <td>Предприниматель</td>\n",
              "      <td>22.04.2019 13:11</td>\n",
              "      <td>Не указано</td>\n",
              "      <td>высшее</td>\n",
              "    </tr>\n",
              "    <tr>\n",
              "      <th>44741</th>\n",
              "      <td>Женщина ,  48 лет , родилась 26 декабря 1970</td>\n",
              "      <td>40000 руб.</td>\n",
              "      <td>Аналитик данных, Математик</td>\n",
              "      <td>Челябинск , готова к переезду , готова к редки...</td>\n",
              "      <td>полная занятость</td>\n",
              "      <td>полный день, удаленная работа</td>\n",
              "      <td>Опыт работы 21 год 5 месяцев  Январь 1998 — по...</td>\n",
              "      <td>ОАО «ЧМК», Исследовательско-Технологический Це...</td>\n",
              "      <td>Начальник группы аналитики</td>\n",
              "      <td>09.04.2019 05:07</td>\n",
              "      <td>Не указано</td>\n",
              "      <td>высшее</td>\n",
              "    </tr>\n",
              "    <tr>\n",
              "      <th>44742</th>\n",
              "      <td>Мужчина ,  24 года , родился 6 октября 1994</td>\n",
              "      <td>20000 руб.</td>\n",
              "      <td>Контент-менеджер</td>\n",
              "      <td>Тамбов , не готов к переезду , не готов к кома...</td>\n",
              "      <td>частичная занятость, полная занятость</td>\n",
              "      <td>удаленная работа</td>\n",
              "      <td>Опыт работы 3 года 10 месяцев  Контент-менедже...</td>\n",
              "      <td>IQ-Maxima</td>\n",
              "      <td>Менеджер проектов</td>\n",
              "      <td>26.04.2019 14:25</td>\n",
              "      <td>Имеется собственный автомобиль</td>\n",
              "      <td>высшее</td>\n",
              "    </tr>\n",
              "    <tr>\n",
              "      <th>44743</th>\n",
              "      <td>Мужчина ,  38 лет , родился 25 апреля 1980</td>\n",
              "      <td>120000 руб.</td>\n",
              "      <td>Руководитель проекта</td>\n",
              "      <td>Москва , не готов к переезду , не готов к кома...</td>\n",
              "      <td>полная занятость</td>\n",
              "      <td>полный день</td>\n",
              "      <td>Опыт работы 15 лет 10 месяцев  Руководитель пр...</td>\n",
              "      <td>ПАО ГК ТНС энерго</td>\n",
              "      <td>Руководитель отдела технической поддержки</td>\n",
              "      <td>05.07.2018 20:15</td>\n",
              "      <td>Не указано</td>\n",
              "      <td>высшее</td>\n",
              "    </tr>\n",
              "  </tbody>\n",
              "</table>\n",
              "<p>44744 rows × 12 columns</p>\n",
              "</div>\n",
              "    <div class=\"colab-df-buttons\">\n",
              "\n",
              "  <div class=\"colab-df-container\">\n",
              "    <button class=\"colab-df-convert\" onclick=\"convertToInteractive('df-28f16fd7-f1c1-47fb-97b4-f3a3c07a7d52')\"\n",
              "            title=\"Convert this dataframe to an interactive table.\"\n",
              "            style=\"display:none;\">\n",
              "\n",
              "  <svg xmlns=\"http://www.w3.org/2000/svg\" height=\"24px\" viewBox=\"0 -960 960 960\">\n",
              "    <path d=\"M120-120v-720h720v720H120Zm60-500h600v-160H180v160Zm220 220h160v-160H400v160Zm0 220h160v-160H400v160ZM180-400h160v-160H180v160Zm440 0h160v-160H620v160ZM180-180h160v-160H180v160Zm440 0h160v-160H620v160Z\"/>\n",
              "  </svg>\n",
              "    </button>\n",
              "\n",
              "  <style>\n",
              "    .colab-df-container {\n",
              "      display:flex;\n",
              "      gap: 12px;\n",
              "    }\n",
              "\n",
              "    .colab-df-convert {\n",
              "      background-color: #E8F0FE;\n",
              "      border: none;\n",
              "      border-radius: 50%;\n",
              "      cursor: pointer;\n",
              "      display: none;\n",
              "      fill: #1967D2;\n",
              "      height: 32px;\n",
              "      padding: 0 0 0 0;\n",
              "      width: 32px;\n",
              "    }\n",
              "\n",
              "    .colab-df-convert:hover {\n",
              "      background-color: #E2EBFA;\n",
              "      box-shadow: 0px 1px 2px rgba(60, 64, 67, 0.3), 0px 1px 3px 1px rgba(60, 64, 67, 0.15);\n",
              "      fill: #174EA6;\n",
              "    }\n",
              "\n",
              "    .colab-df-buttons div {\n",
              "      margin-bottom: 4px;\n",
              "    }\n",
              "\n",
              "    [theme=dark] .colab-df-convert {\n",
              "      background-color: #3B4455;\n",
              "      fill: #D2E3FC;\n",
              "    }\n",
              "\n",
              "    [theme=dark] .colab-df-convert:hover {\n",
              "      background-color: #434B5C;\n",
              "      box-shadow: 0px 1px 3px 1px rgba(0, 0, 0, 0.15);\n",
              "      filter: drop-shadow(0px 1px 2px rgba(0, 0, 0, 0.3));\n",
              "      fill: #FFFFFF;\n",
              "    }\n",
              "  </style>\n",
              "\n",
              "    <script>\n",
              "      const buttonEl =\n",
              "        document.querySelector('#df-28f16fd7-f1c1-47fb-97b4-f3a3c07a7d52 button.colab-df-convert');\n",
              "      buttonEl.style.display =\n",
              "        google.colab.kernel.accessAllowed ? 'block' : 'none';\n",
              "\n",
              "      async function convertToInteractive(key) {\n",
              "        const element = document.querySelector('#df-28f16fd7-f1c1-47fb-97b4-f3a3c07a7d52');\n",
              "        const dataTable =\n",
              "          await google.colab.kernel.invokeFunction('convertToInteractive',\n",
              "                                                    [key], {});\n",
              "        if (!dataTable) return;\n",
              "\n",
              "        const docLinkHtml = 'Like what you see? Visit the ' +\n",
              "          '<a target=\"_blank\" href=https://colab.research.google.com/notebooks/data_table.ipynb>data table notebook</a>'\n",
              "          + ' to learn more about interactive tables.';\n",
              "        element.innerHTML = '';\n",
              "        dataTable['output_type'] = 'display_data';\n",
              "        await google.colab.output.renderOutput(dataTable, element);\n",
              "        const docLink = document.createElement('div');\n",
              "        docLink.innerHTML = docLinkHtml;\n",
              "        element.appendChild(docLink);\n",
              "      }\n",
              "    </script>\n",
              "  </div>\n",
              "\n",
              "\n",
              "<div id=\"df-ce254f89-af89-4626-9eb2-27afb1f0d437\">\n",
              "  <button class=\"colab-df-quickchart\" onclick=\"quickchart('df-ce254f89-af89-4626-9eb2-27afb1f0d437')\"\n",
              "            title=\"Suggest charts\"\n",
              "            style=\"display:none;\">\n",
              "\n",
              "<svg xmlns=\"http://www.w3.org/2000/svg\" height=\"24px\"viewBox=\"0 0 24 24\"\n",
              "     width=\"24px\">\n",
              "    <g>\n",
              "        <path d=\"M19 3H5c-1.1 0-2 .9-2 2v14c0 1.1.9 2 2 2h14c1.1 0 2-.9 2-2V5c0-1.1-.9-2-2-2zM9 17H7v-7h2v7zm4 0h-2V7h2v10zm4 0h-2v-4h2v4z\"/>\n",
              "    </g>\n",
              "</svg>\n",
              "  </button>\n",
              "\n",
              "<style>\n",
              "  .colab-df-quickchart {\n",
              "      --bg-color: #E8F0FE;\n",
              "      --fill-color: #1967D2;\n",
              "      --hover-bg-color: #E2EBFA;\n",
              "      --hover-fill-color: #174EA6;\n",
              "      --disabled-fill-color: #AAA;\n",
              "      --disabled-bg-color: #DDD;\n",
              "  }\n",
              "\n",
              "  [theme=dark] .colab-df-quickchart {\n",
              "      --bg-color: #3B4455;\n",
              "      --fill-color: #D2E3FC;\n",
              "      --hover-bg-color: #434B5C;\n",
              "      --hover-fill-color: #FFFFFF;\n",
              "      --disabled-bg-color: #3B4455;\n",
              "      --disabled-fill-color: #666;\n",
              "  }\n",
              "\n",
              "  .colab-df-quickchart {\n",
              "    background-color: var(--bg-color);\n",
              "    border: none;\n",
              "    border-radius: 50%;\n",
              "    cursor: pointer;\n",
              "    display: none;\n",
              "    fill: var(--fill-color);\n",
              "    height: 32px;\n",
              "    padding: 0;\n",
              "    width: 32px;\n",
              "  }\n",
              "\n",
              "  .colab-df-quickchart:hover {\n",
              "    background-color: var(--hover-bg-color);\n",
              "    box-shadow: 0 1px 2px rgba(60, 64, 67, 0.3), 0 1px 3px 1px rgba(60, 64, 67, 0.15);\n",
              "    fill: var(--button-hover-fill-color);\n",
              "  }\n",
              "\n",
              "  .colab-df-quickchart-complete:disabled,\n",
              "  .colab-df-quickchart-complete:disabled:hover {\n",
              "    background-color: var(--disabled-bg-color);\n",
              "    fill: var(--disabled-fill-color);\n",
              "    box-shadow: none;\n",
              "  }\n",
              "\n",
              "  .colab-df-spinner {\n",
              "    border: 2px solid var(--fill-color);\n",
              "    border-color: transparent;\n",
              "    border-bottom-color: var(--fill-color);\n",
              "    animation:\n",
              "      spin 1s steps(1) infinite;\n",
              "  }\n",
              "\n",
              "  @keyframes spin {\n",
              "    0% {\n",
              "      border-color: transparent;\n",
              "      border-bottom-color: var(--fill-color);\n",
              "      border-left-color: var(--fill-color);\n",
              "    }\n",
              "    20% {\n",
              "      border-color: transparent;\n",
              "      border-left-color: var(--fill-color);\n",
              "      border-top-color: var(--fill-color);\n",
              "    }\n",
              "    30% {\n",
              "      border-color: transparent;\n",
              "      border-left-color: var(--fill-color);\n",
              "      border-top-color: var(--fill-color);\n",
              "      border-right-color: var(--fill-color);\n",
              "    }\n",
              "    40% {\n",
              "      border-color: transparent;\n",
              "      border-right-color: var(--fill-color);\n",
              "      border-top-color: var(--fill-color);\n",
              "    }\n",
              "    60% {\n",
              "      border-color: transparent;\n",
              "      border-right-color: var(--fill-color);\n",
              "    }\n",
              "    80% {\n",
              "      border-color: transparent;\n",
              "      border-right-color: var(--fill-color);\n",
              "      border-bottom-color: var(--fill-color);\n",
              "    }\n",
              "    90% {\n",
              "      border-color: transparent;\n",
              "      border-bottom-color: var(--fill-color);\n",
              "    }\n",
              "  }\n",
              "</style>\n",
              "\n",
              "  <script>\n",
              "    async function quickchart(key) {\n",
              "      const quickchartButtonEl =\n",
              "        document.querySelector('#' + key + ' button');\n",
              "      quickchartButtonEl.disabled = true;  // To prevent multiple clicks.\n",
              "      quickchartButtonEl.classList.add('colab-df-spinner');\n",
              "      try {\n",
              "        const charts = await google.colab.kernel.invokeFunction(\n",
              "            'suggestCharts', [key], {});\n",
              "      } catch (error) {\n",
              "        console.error('Error during call to suggestCharts:', error);\n",
              "      }\n",
              "      quickchartButtonEl.classList.remove('colab-df-spinner');\n",
              "      quickchartButtonEl.classList.add('colab-df-quickchart-complete');\n",
              "    }\n",
              "    (() => {\n",
              "      let quickchartButtonEl =\n",
              "        document.querySelector('#df-ce254f89-af89-4626-9eb2-27afb1f0d437 button');\n",
              "      quickchartButtonEl.style.display =\n",
              "        google.colab.kernel.accessAllowed ? 'block' : 'none';\n",
              "    })();\n",
              "  </script>\n",
              "</div>\n",
              "    </div>\n",
              "  </div>\n"
            ],
            "application/vnd.google.colaboratory.intrinsic+json": {
              "type": "dataframe",
              "summary": "{\n  \"name\": \"df\",\n  \"rows\": 44744,\n  \"fields\": [\n    {\n      \"column\": \"\\u041f\\u043e\\u043b, \\u0432\\u043e\\u0437\\u0440\\u0430\\u0441\\u0442\",\n      \"properties\": {\n        \"dtype\": \"category\",\n        \"num_unique_values\": 16003,\n        \"samples\": [\n          \"\\u041c\\u0443\\u0436\\u0447\\u0438\\u043d\\u0430 ,  36 \\u043b\\u0435\\u0442 , \\u0440\\u043e\\u0434\\u0438\\u043b\\u0441\\u044f 28 \\u043c\\u0430\\u0440\\u0442\\u0430 1983\",\n          \"\\u041c\\u0443\\u0436\\u0447\\u0438\\u043d\\u0430 ,  62 \\u0433\\u043e\\u0434\\u0430 , \\u0440\\u043e\\u0434\\u0438\\u043b\\u0441\\u044f 22 \\u0441\\u0435\\u043d\\u0442\\u044f\\u0431\\u0440\\u044f 1956\",\n          \"\\u041c\\u0443\\u0436\\u0447\\u0438\\u043d\\u0430 ,  54 \\u0433\\u043e\\u0434\\u0430 , \\u0440\\u043e\\u0434\\u0438\\u043b\\u0441\\u044f 10 \\u043c\\u0430\\u0440\\u0442\\u0430 1965\"\n        ],\n        \"semantic_type\": \"\",\n        \"description\": \"\"\n      }\n    },\n    {\n      \"column\": \"\\u0417\\u041f\",\n      \"properties\": {\n        \"dtype\": \"category\",\n        \"num_unique_values\": 690,\n        \"samples\": [\n          \"700000 KZT\",\n          \"321467 \\u0440\\u0443\\u0431.\",\n          \"1000000 KZT\"\n        ],\n        \"semantic_type\": \"\",\n        \"description\": \"\"\n      }\n    },\n    {\n      \"column\": \"\\u0418\\u0449\\u0435\\u0442 \\u0440\\u0430\\u0431\\u043e\\u0442\\u0443 \\u043d\\u0430 \\u0434\\u043e\\u043b\\u0436\\u043d\\u043e\\u0441\\u0442\\u044c:\",\n      \"properties\": {\n        \"dtype\": \"category\",\n        \"num_unique_values\": 14929,\n        \"samples\": [\n          \"\\u041c\\u0435\\u043d\\u0435\\u0434\\u0436\\u0435\\u0440, \\u0410\\u043a\\u043a\\u0430\\u0443\\u043d\\u0442-\\u043c\\u0435\\u043d\\u0435\\u0434\\u0436\\u0435\\u0440, \\u041f\\u043e\\u043c\\u043e\\u0449\\u043d\\u0438\\u043a \\u0440\\u0443\\u043a\\u043e\\u0432\\u043e\\u0434\\u0438\\u0442\\u0435\\u043b\\u044f\",\n          \"Data Scientist / Machine Learning Engineer\",\n          \"Product Owner / Product manager\"\n        ],\n        \"semantic_type\": \"\",\n        \"description\": \"\"\n      }\n    },\n    {\n      \"column\": \"\\u0413\\u043e\\u0440\\u043e\\u0434, \\u043f\\u0435\\u0440\\u0435\\u0435\\u0437\\u0434, \\u043a\\u043e\\u043c\\u0430\\u043d\\u0434\\u0438\\u0440\\u043e\\u0432\\u043a\\u0438\",\n      \"properties\": {\n        \"dtype\": \"category\",\n        \"num_unique_values\": 10063,\n        \"samples\": [\n          \"\\u0410\\u0440\\u0442\\u0435\\u043c , \\u043d\\u0435 \\u0433\\u043e\\u0442\\u043e\\u0432 \\u043a \\u043f\\u0435\\u0440\\u0435\\u0435\\u0437\\u0434\\u0443 , \\u0433\\u043e\\u0442\\u043e\\u0432 \\u043a \\u0440\\u0435\\u0434\\u043a\\u0438\\u043c \\u043a\\u043e\\u043c\\u0430\\u043d\\u0434\\u0438\\u0440\\u043e\\u0432\\u043a\\u0430\\u043c\",\n          \"\\u0421\\u0430\\u043d\\u043a\\u0442-\\u041f\\u0435\\u0442\\u0435\\u0440\\u0431\\u0443\\u0440\\u0433 ,  \\u043c. \\u041b\\u0435\\u043d\\u0438\\u043d\\u0441\\u043a\\u0438\\u0439 \\u043f\\u0440\\u043e\\u0441\\u043f\\u0435\\u043a\\u0442 , \\u0433\\u043e\\u0442\\u043e\\u0432 \\u043a \\u043f\\u0435\\u0440\\u0435\\u0435\\u0437\\u0434\\u0443 (\\u0412\\u0435\\u043b\\u0438\\u043a\\u043e\\u0431\\u0440\\u0438\\u0442\\u0430\\u043d\\u0438\\u044f, \\u0418\\u0441\\u043f\\u0430\\u043d\\u0438\\u044f, \\u0410\\u0432\\u0441\\u0442\\u0440\\u0430\\u043b\\u0438\\u044f, \\u0418\\u0442\\u0430\\u043b\\u0438\\u044f, \\u0425\\u043e\\u0440\\u0432\\u0430\\u0442\\u0438\\u044f, \\u0421\\u0438\\u043d\\u0433\\u0430\\u043f\\u0443\\u0440, \\u041a\\u0438\\u043f\\u0440) , \\u0433\\u043e\\u0442\\u043e\\u0432 \\u043a \\u043a\\u043e\\u043c\\u0430\\u043d\\u0434\\u0438\\u0440\\u043e\\u0432\\u043a\\u0430\\u043c\",\n          \"\\u0421\\u0430\\u043d\\u043a\\u0442-\\u041f\\u0435\\u0442\\u0435\\u0440\\u0431\\u0443\\u0440\\u0433 ,  \\u043c. \\u0411\\u0435\\u0433\\u043e\\u0432\\u0430\\u044f , \\u043d\\u0435 \\u0433\\u043e\\u0442\\u043e\\u0432 \\u043a \\u043f\\u0435\\u0440\\u0435\\u0435\\u0437\\u0434\\u0443 , \\u0433\\u043e\\u0442\\u043e\\u0432 \\u043a \\u043a\\u043e\\u043c\\u0430\\u043d\\u0434\\u0438\\u0440\\u043e\\u0432\\u043a\\u0430\\u043c\"\n        ],\n        \"semantic_type\": \"\",\n        \"description\": \"\"\n      }\n    },\n    {\n      \"column\": \"\\u0417\\u0430\\u043d\\u044f\\u0442\\u043e\\u0441\\u0442\\u044c\",\n      \"properties\": {\n        \"dtype\": \"category\",\n        \"num_unique_values\": 38,\n        \"samples\": [\n          \"\\u0432\\u043e\\u043b\\u043e\\u043d\\u0442\\u0435\\u0440\\u0441\\u0442\\u0432\\u043e, \\u0447\\u0430\\u0441\\u0442\\u0438\\u0447\\u043d\\u0430\\u044f \\u0437\\u0430\\u043d\\u044f\\u0442\\u043e\\u0441\\u0442\\u044c\",\n          \"\\u0432\\u043e\\u043b\\u043e\\u043d\\u0442\\u0435\\u0440\\u0441\\u0442\\u0432\\u043e\",\n          \"\\u0441\\u0442\\u0430\\u0436\\u0438\\u0440\\u043e\\u0432\\u043a\\u0430, \\u0447\\u0430\\u0441\\u0442\\u0438\\u0447\\u043d\\u0430\\u044f \\u0437\\u0430\\u043d\\u044f\\u0442\\u043e\\u0441\\u0442\\u044c, \\u043f\\u0440\\u043e\\u0435\\u043a\\u0442\\u043d\\u0430\\u044f \\u0440\\u0430\\u0431\\u043e\\u0442\\u0430, \\u043f\\u043e\\u043b\\u043d\\u0430\\u044f \\u0437\\u0430\\u043d\\u044f\\u0442\\u043e\\u0441\\u0442\\u044c\"\n        ],\n        \"semantic_type\": \"\",\n        \"description\": \"\"\n      }\n    },\n    {\n      \"column\": \"\\u0413\\u0440\\u0430\\u0444\\u0438\\u043a\",\n      \"properties\": {\n        \"dtype\": \"category\",\n        \"num_unique_values\": 47,\n        \"samples\": [\n          \"\\u0433\\u0438\\u0431\\u043a\\u0438\\u0439 \\u0433\\u0440\\u0430\\u0444\\u0438\\u043a, \\u0441\\u043c\\u0435\\u043d\\u043d\\u044b\\u0439 \\u0433\\u0440\\u0430\\u0444\\u0438\\u043a, \\u0432\\u0430\\u0445\\u0442\\u043e\\u0432\\u044b\\u0439 \\u043c\\u0435\\u0442\\u043e\\u0434, \\u0443\\u0434\\u0430\\u043b\\u0435\\u043d\\u043d\\u0430\\u044f \\u0440\\u0430\\u0431\\u043e\\u0442\\u0430\",\n          \"\\u0433\\u0438\\u0431\\u043a\\u0438\\u0439 \\u0433\\u0440\\u0430\\u0444\\u0438\\u043a, \\u0441\\u043c\\u0435\\u043d\\u043d\\u044b\\u0439 \\u0433\\u0440\\u0430\\u0444\\u0438\\u043a, \\u0432\\u0430\\u0445\\u0442\\u043e\\u0432\\u044b\\u0439 \\u043c\\u0435\\u0442\\u043e\\u0434\",\n          \"\\u043f\\u043e\\u043b\\u043d\\u044b\\u0439 \\u0434\\u0435\\u043d\\u044c, \\u0432\\u0430\\u0445\\u0442\\u043e\\u0432\\u044b\\u0439 \\u043c\\u0435\\u0442\\u043e\\u0434, \\u0441\\u043c\\u0435\\u043d\\u043d\\u044b\\u0439 \\u0433\\u0440\\u0430\\u0444\\u0438\\u043a\"\n        ],\n        \"semantic_type\": \"\",\n        \"description\": \"\"\n      }\n    },\n    {\n      \"column\": \"\\u041e\\u043f\\u044b\\u0442 \\u0440\\u0430\\u0431\\u043e\\u0442\\u044b\",\n      \"properties\": {\n        \"dtype\": \"string\",\n        \"num_unique_values\": 44413,\n        \"samples\": [\n          \"\\u041e\\u043f\\u044b\\u0442 \\u0440\\u0430\\u0431\\u043e\\u0442\\u044b 5 \\u043b\\u0435\\u0442 1 \\u043c\\u0435\\u0441\\u044f\\u0446  \\u0418\\u044e\\u043b\\u044c 2017 \\u2014 \\u043f\\u043e \\u043d\\u0430\\u0441\\u0442\\u043e\\u044f\\u0449\\u0435\\u0435 \\u0432\\u0440\\u0435\\u043c\\u044f 1 \\u0433\\u043e\\u0434 11 \\u043c\\u0435\\u0441\\u044f\\u0446\\u0435\\u0432 \\u041f\\u0410\\u041e \\\"\\u041e\\u043c\\u0441\\u043a\\u0438\\u0439 \\u041a\\u0430\\u0443\\u0447\\u0443\\u043a\\\" \\u0410\\u043f\\u043f\\u0430\\u0440\\u0430\\u0442\\u0447\\u0438\\u043a 5 \\u0440\\u0430\\u0437\\u0440\\u044f\\u0434 \\u0410\\u043f\\u043f\\u0430\\u0440\\u0430\\u0442\\u0447\\u0438\\u043a \\u044d\\u043a\\u0441\\u0442\\u0440\\u0430\\u043a\\u0442\\u0438\\u0432\\u043d\\u043e\\u0439 \\u0434\\u0438\\u0441\\u0442\\u0438\\u043b\\u043b\\u044f\\u0446\\u0438\\u0438 \\u0438 \\u0434\\u0435\\u0441\\u043e\\u0440\\u0431\\u0446\\u0438\\u0438, \\u0440\\u0430\\u0437\\u0434\\u0435\\u043b\\u0435\\u043d\\u0438\\u0435 \\u0431\\u0443\\u0442\\u0430\\u043d \\u0431\\u0443\\u0442\\u0438\\u043b\\u0435\\u043d\\u043e\\u0432\\u043e\\u0439 \\u0444\\u0440\\u0430\\u043a\\u0446\\u0438\\u0438 \\u043d\\u0430 \\u0431\\u0443\\u0442\\u0430\\u043d\\u043e\\u0432\\u0443\\u044e \\u0438 \\u0431\\u0443\\u0442\\u0438\\u043b\\u0435\\u043d\\u043e\\u0432\\u0443\\u044e \\u0444\\u0440\\u0430\\u043a\\u0446\\u0438\\u0438. \\u0412\\u0435\\u0434\\u0435\\u043d\\u0438\\u0435 \\u0442\\u0435\\u0445\\u043d\\u043e\\u043b\\u043e\\u0433\\u0438\\u0447\\u0435\\u0441\\u043a\\u043e\\u0433\\u043e \\u043f\\u0440\\u043e\\u0446\\u0435\\u0441\\u0441\\u0430 \\u043f\\u043e \\u0437\\u0430\\u0434\\u0430\\u043d\\u043d\\u043e\\u043c\\u0443 \\u0442\\u0435\\u0445\\u043d\\u043e\\u043b\\u043e\\u0433\\u0438\\u0447\\u0435\\u0441\\u043a\\u043e\\u043c\\u0443 \\u0440\\u0435\\u0436\\u0438\\u043c\\u0443, \\u0432\\u044b\\u0432\\u043e\\u0434 \\u0432 \\u0440\\u0435\\u043c\\u043e\\u043d\\u0442 \\u043e\\u0431\\u043e\\u0440\\u0443\\u0434\\u043e\\u0432\\u0430\\u043d\\u0438\\u044f \\u0438 \\u043f\\u0435\\u0440\\u0435\\u0445\\u043e\\u0434 \\u043d\\u0430 \\u0440\\u0435\\u0437\\u0435\\u0440\\u0432\\u043d\\u043e\\u0435, \\u0441\\u0431\\u043e\\u0440 \\u0430\\u043d\\u0430\\u043b\\u0438\\u0437\\u043e\\u0432, \\u043e\\u0431\\u0445\\u043e\\u0434 \\u0423\\u0441\\u0442\\u0430\\u043d\\u043e\\u0432\\u043a\\u0438.  \\u0410\\u0432\\u0433\\u0443\\u0441\\u0442 2015 \\u2014 \\u0418\\u044e\\u043b\\u044c  2017 2 \\u0433\\u043e\\u0434\\u0430 \\u041f\\u0410\\u041e \\\"\\u041e\\u043c\\u0441\\u043a\\u0438\\u0439 \\u043a\\u0430\\u0443\\u0447\\u0443\\u043a\\\" \\u0426\\u0435\\u0445 \\u0414-4-4\\u0430-\\u041c\\u0422\\u0411\\u042d. \\u041e\\u043c\\u0441\\u043a\\u0430\\u044f \\u043e\\u0431\\u043b\\u0430\\u0441\\u0442\\u044c \\u041c\\u0430\\u0448\\u0438\\u043d\\u0438\\u0441\\u0442 \\u043d\\u0430\\u0441\\u043e\\u0441\\u043d\\u044b\\u0445 \\u0443\\u0441\\u0442\\u0430\\u043d\\u043e\\u0432\\u043e\\u043a. \\u043e\\u0431\\u0435\\u0441\\u043f\\u0435\\u0447\\u0435\\u043d\\u0438\\u0435 \\u0431\\u0435\\u0437\\u0430\\u0432\\u0430\\u0440\\u0438\\u0439\\u043d\\u043e\\u0439, \\u0431\\u0435\\u0441\\u043f\\u0435\\u0440\\u0435\\u0431\\u043e\\u0439\\u043d\\u043e\\u0439 \\u0440\\u0430\\u0431\\u043e\\u0442\\u044b \\u043d\\u0430\\u0441\\u043e\\u0441\\u043d\\u043e\\u0433\\u043e \\u043e\\u0431\\u043e\\u0440\\u0443\\u0434\\u043e\\u0432\\u0430\\u043d\\u0438\\u044f, \\u043f\\u043e\\u0434\\u0433\\u043e\\u0442\\u043e\\u0432\\u043a\\u0430 \\u0438 \\u0432\\u044b\\u0432\\u043e\\u0434 \\u043d\\u0430\\u0441\\u043e\\u0441\\u043d\\u043e\\u0433\\u043e \\u0438 \\u0442\\u0435\\u0445\\u043d\\u043e\\u043b\\u043e\\u0433\\u0438\\u0447\\u0435\\u0441\\u043a\\u043e\\u0433\\u043e \\u043e\\u0431\\u043e\\u0440\\u0443\\u0434\\u043e\\u0432\\u0430\\u043d\\u0438\\u044f \\u0432 \\u0440\\u0435\\u043c\\u043e\\u043d\\u0442, \\u043a\\u043e\\u043d\\u0442\\u0440\\u043e\\u043b\\u044c \\u043f\\u0430\\u0440\\u0430\\u043c\\u0435\\u0442\\u0440\\u043e\\u0432 \\u0440\\u0430\\u0431\\u043e\\u0442\\u044b \\u043d\\u0430\\u0441\\u043e\\u0441\\u043e\\u0432, \\u043f\\u0440\\u043e\\u0432\\u0435\\u0434\\u0435\\u043d\\u0438\\u0435 \\u0442\\u0435\\u0445\\u043d\\u0438\\u0447\\u0435\\u0441\\u043a\\u043e\\u0433\\u043e \\u043e\\u0431\\u0441\\u043b\\u0443\\u0436\\u0438\\u0432\\u0430\\u043d\\u0438\\u044f \\u0432\\u0435\\u0434\\u0435\\u043d\\u0438\\u0435 \\u0442\\u0435\\u0445\\u043d\\u0438\\u0447\\u0435\\u0441\\u043a\\u043e\\u0439 \\u0434\\u043e\\u043a\\u0443\\u043c\\u0435\\u043d\\u0442\\u0430\\u0446\\u0438\\u0438. \\u041f\\u0435\\u0440\\u0435\\u043a\\u0430\\u0447\\u043a\\u0430 \\u0443\\u0433\\u043b\\u0435\\u0432\\u043e\\u0434\\u043e\\u0440\\u043e\\u0434\\u043e\\u0432, \\u0432\\u043e\\u0434\\u044b, \\u043c\\u0435\\u0442\\u0430\\u043d\\u043e\\u043b\\u0430,\\u0430\\u0446\\u0435\\u0442\\u043e\\u043d\\u0438\\u0442\\u0440\\u0438\\u043b\\u0430, \\u043a\\u0435\\u0440\\u043e\\u0441\\u0438\\u043d\\u0430.  \\u0410\\u043f\\u0440\\u0435\\u043b\\u044c 2014 \\u2014 \\u0418\\u044e\\u043d\\u044c  2015 1 \\u0433\\u043e\\u0434 3 \\u043c\\u0435\\u0441\\u044f\\u0446\\u0430 \\u0420\\u0430\\u0434\\u0438\\u043e\\u0437\\u0430\\u0432\\u043e\\u0434 \\u0438\\u043c. \\u0410. \\u0421. \\u041f\\u043e\\u043f\\u043e\\u0432\\u0430. \\u041e\\u043c\\u0441\\u043a\\u0430\\u044f \\u043e\\u0431\\u043b\\u0430\\u0441\\u0442\\u044c \\u041c\\u0430\\u0448\\u0438\\u043d\\u0438\\u0441\\u0442 \\u043a\\u043e\\u043c\\u043f\\u0440\\u0435\\u0441\\u0441\\u043e\\u0440\\u043d\\u043e\\u0433\\u043e \\u043e\\u0431\\u043e\\u0440\\u0443\\u0434\\u043e\\u0432\\u0430\\u043d\\u0438\\u044f. \\u041d\\u0430\\u0431\\u043b\\u044e\\u0434\\u0435\\u043d\\u0438\\u0435 \\u0437\\u0430 \\u0438\\u0441\\u043f\\u0440\\u0430\\u0432\\u043d\\u043e\\u0441\\u0442\\u044c\\u044e \\u0434\\u0432\\u0438\\u0433\\u0430\\u0442\\u0435\\u043b\\u0435\\u0439, \\u043a\\u043e\\u043c\\u043f\\u0440\\u0435\\u0441\\u0441\\u043e\\u0440\\u043e\\u0432, \\u043f\\u0440\\u0438\\u0431\\u043e\\u0440\\u043e\\u0432, \\u0432\\u0441\\u043f\\u043e\\u043c\\u043e\\u0433\\u0430\\u0442\\u0435\\u043b\\u044c\\u043d\\u044b\\u0445 \\u043c\\u0435\\u0445\\u0430\\u043d\\u0438\\u0437\\u043c\\u043e\\u0432 \\u0438 \\u0434\\u0440\\u0443\\u0433\\u043e\\u0433\\u043e \\u043e\\u0431\\u043e\\u0440\\u0443\\u0434\\u043e\\u0432\\u0430\\u043d\\u0438\\u044f.\",\n          \"\\u041e\\u043f\\u044b\\u0442 \\u0440\\u0430\\u0431\\u043e\\u0442\\u044b 8 \\u043b\\u0435\\u0442  \\u0420\\u0443\\u043a\\u043e\\u0432\\u043e\\u0434\\u0438\\u0442\\u0435\\u043b\\u044c \\u043e\\u0442\\u0434\\u0435\\u043b\\u0430 \\u0430\\u043d\\u0430\\u043b\\u0438\\u0442\\u0438\\u043a\\u0438 250 000 \\u0440\\u0443\\u0431. \\u0418\\u043d\\u0444\\u043e\\u0440\\u043c\\u0430\\u0446\\u0438\\u043e\\u043d\\u043d\\u044b\\u0435 \\u0442\\u0435\\u0445\\u043d\\u043e\\u043b\\u043e\\u0433\\u0438\\u0438, \\u0438\\u043d\\u0442\\u0435\\u0440\\u043d\\u0435\\u0442, \\u0442\\u0435\\u043b\\u0435\\u043a\\u043e\\u043c \\u0411\\u0430\\u043d\\u043a\\u043e\\u0432\\u0441\\u043a\\u043e\\u0435 \\u041f\\u041e \\u0410\\u043d\\u0430\\u043b\\u0438\\u0442\\u0438\\u043a \\u0417\\u0430\\u043d\\u044f\\u0442\\u043e\\u0441\\u0442\\u044c: \\u043f\\u043e\\u043b\\u043d\\u0430\\u044f \\u0437\\u0430\\u043d\\u044f\\u0442\\u043e\\u0441\\u0442\\u044c \\u0413\\u0440\\u0430\\u0444\\u0438\\u043a \\u0440\\u0430\\u0431\\u043e\\u0442\\u044b: \\u043f\\u043e\\u043b\\u043d\\u044b\\u0439 \\u0434\\u0435\\u043d\\u044c \\u041e\\u043f\\u044b\\u0442 \\u0440\\u0430\\u0431\\u043e\\u0442\\u044b 8 \\u043b\\u0435\\u0442 \\u041e\\u043a\\u0442\\u044f\\u0431\\u0440\\u044c 2018 \\u2014 \\u043f\\u043e \\u043d\\u0430\\u0441\\u0442\\u043e\\u044f\\u0449\\u0435\\u0435 \\u0432\\u0440\\u0435\\u043c\\u044f 7 \\u043c\\u0435\\u0441\\u044f\\u0446\\u0435\\u0432 \\u0411\\u0430\\u043d\\u043a \\u0412\\u0422\\u0411\",\n          \"\\u041e\\u043f\\u044b\\u0442 \\u0440\\u0430\\u0431\\u043e\\u0442\\u044b 5 \\u043b\\u0435\\u0442 9 \\u043c\\u0435\\u0441\\u044f\\u0446\\u0435\\u0432  \\u0414\\u0435\\u043a\\u0430\\u0431\\u0440\\u044c 2018 \\u2014 \\u043f\\u043e \\u043d\\u0430\\u0441\\u0442\\u043e\\u044f\\u0449\\u0435\\u0435 \\u0432\\u0440\\u0435\\u043c\\u044f 6 \\u043c\\u0435\\u0441\\u044f\\u0446\\u0435\\u0432 \\u041e\\u041e\\u041e \\u0421\\u0435\\u0440\\u0432\\u0438\\u0441-\\u041f\\u0430\\u0440\\u0442\\u043d\\u0451\\u0440 \\u041c\\u043e\\u0441\\u043a\\u0432\\u0430 , www.serv-partner.ru \\u0421\\u0442\\u0440\\u043e\\u0438\\u0442\\u0435\\u043b\\u044c\\u0441\\u0442\\u0432\\u043e, \\u043d\\u0435\\u0434\\u0432\\u0438\\u0436\\u0438\\u043c\\u043e\\u0441\\u0442\\u044c, \\u044d\\u043a\\u0441\\u043f\\u043b\\u0443\\u0430\\u0442\\u0430\\u0446\\u0438\\u044f, \\u043f\\u0440\\u043e\\u0435\\u043a\\u0442\\u0438\\u0440\\u043e\\u0432\\u0430\\u043d\\u0438\\u0435 ... \\u0423\\u043f\\u0440\\u0430\\u0432\\u043b\\u0435\\u043d\\u0438\\u0435 \\u0438 \\u044d\\u043a\\u0441\\u043f\\u043b\\u0443\\u0430\\u0442\\u0430\\u0446\\u0438\\u044f \\u043d\\u0435\\u0434\\u0432\\u0438\\u0436\\u0438\\u043c\\u043e\\u0441\\u0442\\u0438 \\u0418\\u043d\\u0436\\u0435\\u043d\\u0435\\u0440 \\u0441\\u043b\\u0430\\u0431\\u043e\\u0442\\u043e\\u0447\\u043d\\u044b\\u0445 \\u0441\\u0438\\u0441\\u0442\\u0435\\u043c - \\u041e\\u0431\\u0441\\u043b\\u0443\\u0436\\u0438\\u0432\\u0430\\u043d\\u0438\\u0435 \\u0441\\u0438\\u0441\\u0442\\u0435\\u043c \\u0410\\u041f\\u0421, \\u0421\\u041a\\u0423\\u0414, \\u0421\\u0422\\u0412\\u041d \\u043d\\u0430 \\u043a\\u043e\\u043c\\u043f\\u043b\\u0435\\u043a\\u0441\\u0435 \\u0437\\u0434\\u0430\\u043d\\u0438\\u0439 \\u0438 \\u0441\\u043e\\u043e\\u0440\\u0443\\u0436\\u0435\\u043d\\u0438\\u0439 \\u043a\\u043e\\u043c\\u043f\\u043b\\u0435\\u043a\\u0441\\u0430 \\u0410\\u041e \\\"\\u041b\\u0443\\u0436\\u043d\\u0438\\u043a\\u0438\\\" - \\u0412\\u0437\\u0430\\u0438\\u043c\\u043e\\u0434\\u0435\\u0439\\u0441\\u0442\\u0432\\u0438\\u0435 \\u0441 \\u043f\\u043e\\u0434\\u0440\\u044f\\u0434\\u043d\\u044b\\u043c\\u0438 \\u043e\\u0440\\u0433\\u0430\\u043d\\u0438\\u0437\\u0430\\u0446\\u0438\\u044f\\u043c\\u0438 \\u043f\\u043e \\u0432\\u043e\\u043f\\u0440\\u043e\\u0441\\u0430\\u043c \\u043c\\u0435\\u0436\\u043a\\u043e\\u043c\\u043f\\u043b\\u0435\\u043a\\u0441\\u043d\\u043e\\u0439 \\u0438\\u043d\\u0442\\u0435\\u0433\\u0440\\u0430\\u0446\\u0438\\u0438. - \\u041a\\u043e\\u043d\\u0442\\u0440\\u043e\\u043b\\u044c \\u043f\\u0440\\u043e\\u0432\\u0435\\u0434\\u0435\\u043d\\u0438\\u044f \\u0440\\u0430\\u0431\\u043e\\u0442 \\u043f\\u043e\\u0434\\u0440\\u044f\\u0434\\u0447\\u0438\\u043a\\u0430\\u043c\\u0438 \\u0438 \\u0432\\u043d\\u0443\\u0442\\u0440\\u0435\\u043d\\u043d\\u0438\\u043c \\u0442\\u0435\\u0445\\u043d\\u0438\\u0447\\u0435\\u0441\\u043a\\u0438\\u043c \\u043f\\u0435\\u0440\\u0441\\u043e\\u043d\\u0430\\u043b\\u043e\\u043c. - \\u041c\\u043e\\u043d\\u0442\\u0430\\u0436 \\u0438 \\u0448\\u0435\\u0444-\\u043c\\u043e\\u043d\\u0442\\u0430\\u0436 \\u043e\\u0431\\u043e\\u0440\\u0443\\u0434\\u043e\\u0432\\u0430\\u043d\\u0438\\u044f. - \\u041f\\u0443\\u0441\\u043a\\u043e-\\u043d\\u0430\\u043b\\u0430\\u0434\\u043e\\u0447\\u043d\\u044b\\u0435 \\u0440\\u0430\\u0431\\u043e\\u0442\\u044b \\u0432 \\u0440\\u0430\\u043c\\u043a\\u0430\\u0445 \\u0440\\u0435\\u0433\\u043b\\u0430\\u043c\\u0435\\u043d\\u0442\\u0430. - \\u041a\\u043e\\u043d\\u0442\\u0440\\u043e\\u043b\\u044c \\u043f\\u0440\\u043e\\u0432\\u0435\\u0434\\u0435\\u043d\\u0438\\u044f \\u0437\\u0430\\u043a\\u0443\\u043f\\u043e\\u043a \\u043e\\u0431\\u043e\\u0440\\u0443\\u0434\\u043e\\u0432\\u0430\\u043d\\u0438\\u044f. - \\u0412\\u0435\\u0434\\u0435\\u043d\\u0438\\u0435 \\u0434\\u043e\\u043a\\u0443\\u043c\\u0435\\u043d\\u0442\\u0430\\u0446\\u0438\\u0438. - \\u041a\\u043e\\u043d\\u0442\\u0440\\u043e\\u043b\\u044c \\u0438 \\u0438\\u043d\\u0438\\u0446\\u0438\\u0438\\u0440\\u043e\\u0432\\u0430\\u043d\\u0438\\u0435 \\u0437\\u0430\\u043a\\u0443\\u043f\\u043e\\u043a \\u0434\\u043e\\u043f\\u043e\\u043b\\u043d\\u0438\\u0442\\u0435\\u043b\\u044c\\u043d\\u043e\\u0433\\u043e \\u043e\\u0431\\u043e\\u0440\\u0443\\u0434\\u043e\\u0432\\u0430\\u043d\\u0438\\u044f. - \\u041f\\u043e\\u0434\\u0434\\u0435\\u0440\\u0436\\u0430\\u043d\\u0438\\u0435 \\u0442\\u0435\\u043a\\u0443\\u0449\\u0435\\u0433\\u043e \\u043e\\u0431\\u043e\\u0440\\u0443\\u0434\\u043e\\u0432\\u0430\\u043d\\u0438\\u044f \\u0432 \\u0440\\u0430\\u0431\\u043e\\u0442\\u043e\\u0441\\u043f\\u043e\\u0441\\u043e\\u0431\\u043d\\u043e\\u0441\\u0442\\u0438. - \\u041a\\u043e\\u043d\\u0444\\u0438\\u0433\\u0443\\u0440\\u0438\\u0440\\u043e\\u0432\\u0430\\u043d\\u0438\\u0435 \\u0438 \\u0440\\u0435\\u043a\\u043e\\u043d\\u0444\\u0438\\u0433\\u0443\\u0440\\u0438\\u0440\\u043e\\u0432\\u0430\\u043d\\u0438\\u0435 \\u0441\\u0438\\u0441\\u0442\\u0435\\u043c \\u043d\\u0430 \\u0431\\u0430\\u0437\\u0435 BOSCH FPS-5000 \\u043d\\u0430 \\u0431\\u0430\\u0437\\u043e\\u0432\\u043e\\u043c \\u0443\\u0440\\u043e\\u0432\\u043d\\u0435.  \\u0414\\u0435\\u043a\\u0430\\u0431\\u0440\\u044c 2016 \\u2014 \\u0410\\u043f\\u0440\\u0435\\u043b\\u044c  2018 1 \\u0433\\u043e\\u0434 5 \\u043c\\u0435\\u0441\\u044f\\u0446\\u0435\\u0432 \\u0418\\u043d\\u0442\\u0435\\u043b\\u043b\\u0435\\u043a\\u0442 \\u0438\\u043d\\u0436\\u0438\\u043d\\u0438\\u0440\\u0438\\u043d\\u0433 \\u041c\\u043e\\u0441\\u043a\\u0432\\u0430 , www.iintellekt.ru/ \\u0421\\u0442\\u0440\\u043e\\u0438\\u0442\\u0435\\u043b\\u044c\\u0441\\u0442\\u0432\\u043e, \\u043d\\u0435\\u0434\\u0432\\u0438\\u0436\\u0438\\u043c\\u043e\\u0441\\u0442\\u044c, \\u044d\\u043a\\u0441\\u043f\\u043b\\u0443\\u0430\\u0442\\u0430\\u0446\\u0438\\u044f, \\u043f\\u0440\\u043e\\u0435\\u043a\\u0442\\u0438\\u0440\\u043e\\u0432\\u0430\\u043d\\u0438\\u0435 ... \\u0421\\u0442\\u0440\\u043e\\u0438\\u0442\\u0435\\u043b\\u044c\\u0441\\u0442\\u0432\\u043e \\u043a\\u043e\\u043c\\u043c\\u0435\\u0440\\u0447\\u0435\\u0441\\u043a\\u0438\\u0445 \\u043e\\u0431\\u044a\\u0435\\u043a\\u0442\\u043e\\u0432 (\\u0442\\u043e\\u0440\\u0433\\u043e\\u0432\\u044b\\u0435 \\u043f\\u043b\\u043e\\u0449\\u0430\\u0434\\u0438, \\u043e\\u0444\\u0438\\u0441\\u043d\\u044b\\u0435 \\u0437\\u0434\\u0430\\u043d\\u0438\\u044f) \\u0421\\u0438\\u0441\\u0442\\u0435\\u043c\\u043d\\u044b\\u0439 \\u0438\\u043d\\u0436\\u0435\\u043d\\u0435\\u0440 \\u043e\\u0431\\u044c\\u0435\\u043a\\u0442\\u0430 / \\u0418\\u043d\\u0436\\u0435\\u043d\\u0435\\u0440 \\u0421\\u041a\\u0421 - \\u0441\\u043e\\u0437\\u0434\\u0430\\u043d\\u0438\\u0435 \\u043c\\u0430\\u043b\\u043e\\u0439 \\u043b\\u043e\\u043a\\u0430\\u043b\\u044c\\u043d\\u043e\\u0439 \\u0441\\u0435\\u0442\\u0438 \\u043f\\u043e\\u0434 \\u043f\\u043b\\u043e\\u0449\\u0430\\u0434\\u043a\\u0443 \\u043e\\u0444\\u0438\\u0441\\u043d\\u043e\\u0433\\u043e \\u0446\\u0435\\u043d\\u0442\\u0440\\u0430 \\u043d\\u0430 \\u043e\\u0431\\u043e\\u0440\\u0443\\u0434\\u043e\\u0432\\u0430\\u043d\\u0438\\u0438 cisco. - \\u0438\\u043d\\u0442\\u0435\\u0440\\u0433\\u0430\\u0446\\u0438\\u044f \\u0432 \\u0441\\u0435\\u0442\\u044c \\u0441\\u0438\\u0441\\u0442\\u0435\\u043c\\u044b \\u0432\\u0438\\u0434\\u0435\\u043e \\u043d\\u0430\\u0431\\u043b\\u044e\\u0434\\u0435\\u043d\\u0438\\u044f, \\u043f\\u043e\\u0441\\u0442\\u0440\\u043e\\u0435\\u043d\\u043d\\u043e\\u0439 \\u043d\\u0430 \\u043e\\u0431\\u043e\\u0440\\u0443\\u0434\\u043e\\u0432\\u0430\\u043d\\u0438\\u0438 VideoMax \\u0438 LTV. - \\u0438\\u043d\\u0442\\u0435\\u0433\\u0440\\u0430\\u0446\\u0438\\u044f \\u0432 \\u0441\\u0435\\u0442\\u044c \\u043f\\u0440\\u043e\\u0433\\u0440\\u0430\\u043c\\u043c\\u043d\\u043e\\u0433\\u043e \\u043f\\u0440\\u043e\\u0434\\u0443\\u043a\\u0442\\u0430 \\u0432\\u0438\\u0434\\u0435\\u043e\\u043d\\u0430\\u0431\\u043b\\u044e\\u0434\\u0435\\u043d\\u0438\\u044f \\u043a\\u043e\\u043c\\u043f\\u0430\\u043d\\u0438\\u0438 \\\"\\u0418\\u043d\\u0442\\u0435\\u043b\\u043b\\u0435\\u043a\\u0442\\\" - \\u0443\\u0447\\u0430\\u0441\\u0442\\u0438\\u0435 \\u0432 \\u0438\\u043d\\u0442\\u0435\\u0433\\u0440\\u0430\\u0446\\u0438\\u0438 \\u0441\\u0438\\u0441\\u0442\\u0435\\u043c\\u044b \\u0432\\u0438\\u0434\\u0435\\u043e\\u043d\\u0430\\u0431\\u043b\\u044e\\u0434\\u0435\\u043d\\u0438\\u044f \\u0432 \\u0441\\u0438\\u0441\\u0442\\u0435\\u043c\\u0443 \\u0421\\u041a\\u0423\\u0414. - Windows 2012 server. - \\u043f\\u043e\\u0434\\u0434\\u0435\\u0440\\u0436\\u043a\\u0430 \\u0440\\u0430\\u0431\\u043e\\u0442\\u043e\\u0441\\u043f\\u043e\\u0441\\u043e\\u0431\\u043d\\u043e\\u0441\\u0442\\u0438 \\u0442\\u0435\\u043a\\u0443\\u0449\\u0435\\u0433\\u043e \\u043e\\u0431\\u043e\\u0440\\u0443\\u0434\\u043e\\u0432\\u0430\\u043d\\u0438\\u044f. - \\u0430\\u0434\\u043c\\u0438\\u043d\\u0438\\u0441\\u0442\\u0440\\u0438\\u0440\\u043e\\u0432\\u0430\\u043d\\u0438\\u0435 \\u0438 \\u043a\\u043e\\u043d\\u0444\\u0438\\u0433\\u0443\\u0440\\u0438\\u0440\\u043e\\u0432\\u0430\\u043d\\u0438\\u0435 \\u043e\\u0431\\u043e\\u0440\\u0443\\u0434\\u043e\\u0432\\u0430\\u043d\\u0438\\u044f cisco (3750), SNR, \\u043d\\u0430 \\u0443\\u0440\\u043e\\u0432\\u043d\\u0435 \\u0430\\u0434\\u043c\\u0438\\u043d\\u0438\\u0441\\u0442\\u0440\\u0430\\u0442\\u043e\\u0440\\u0430. - \\u0441\\u0435\\u0442\\u0435\\u0432\\u0430\\u044f \\u0438\\u043d\\u0442\\u0435\\u0433\\u0440\\u0430\\u0446\\u0438\\u044f \\u0441\\u0438\\u0441\\u0442\\u0435\\u043c \\u0410\\u0421\\u0423\\u0414 \\u0432 \\u0442\\u0435\\u043a\\u0443\\u0449\\u0443\\u044e \\u0441\\u0435\\u0442\\u044c \\u0441 \\u0440\\u0430\\u0437\\u0433\\u0440\\u0430\\u043d\\u0438\\u0447\\u0435\\u043d\\u0438\\u0435\\u043c \\u0443\\u0440\\u043e\\u0432\\u043d\\u0435\\u0439 \\u0434\\u043e\\u0441\\u0442\\u0443\\u043f\\u0430. - \\u043a\\u043e\\u043d\\u0442\\u0440\\u043e\\u043b\\u044c \\u0438 \\u0438\\u043d\\u0438\\u0446\\u0438\\u0438\\u0440\\u043e\\u0432\\u0430\\u043d\\u0438\\u0435 \\u0437\\u0430\\u043a\\u0443\\u043f\\u043e\\u043a \\u0434\\u043e\\u043f\\u043e\\u043b\\u043d\\u0438\\u0442\\u0435\\u043b\\u044c\\u043d\\u043e\\u0433\\u043e \\u043e\\u0431\\u043e\\u0440\\u0443\\u0434\\u043e\\u0432\\u0430\\u043d\\u0438\\u044f. - \\u043a\\u043e\\u043d\\u0442\\u0440\\u043e\\u043b\\u044c \\u0432\\u044b\\u043f\\u043e\\u043b\\u043d\\u0435\\u043d\\u0438\\u044f \\u043c\\u043e\\u043d\\u0442\\u0430\\u0436\\u043d\\u044b\\u0445 \\u0440\\u0430\\u0431\\u043e\\u0442 \\u043f\\u043e\\u0434\\u0440\\u044f\\u0434\\u043d\\u044b\\u043c\\u0438 \\u043e\\u0440\\u0433\\u0430\\u043d\\u0438\\u0437\\u0430\\u0446\\u0438\\u044f\\u043c\\u0438. - \\u0437\\u0430\\u043f\\u0443\\u0441\\u043a \\u0438 \\u043d\\u0430\\u0441\\u0442\\u0440\\u043e\\u0439\\u043a\\u0430 \\u0441\\u0438\\u0441\\u0442\\u0435\\u043c\\u044b tracemode6 \\u0434\\u043b\\u044f \\u0440\\u0430\\u0431\\u043e\\u0442\\u044b \\u0441 \\u0441\\u0438\\u0441\\u0442\\u0435\\u043c\\u043e\\u0439 \\u0432\\u043e\\u0434\\u043e\\u043f\\u043e\\u0434\\u0430\\u0447\\u0438 \\u043d\\u0430 \\u0442\\u0435\\u0440\\u0440\\u0438\\u0442\\u043e\\u0440\\u0438\\u0438 \\u0441\\u0442\\u0440\\u043e\\u044f\\u0449\\u0435\\u0433\\u043e\\u0441\\u044f \\u0436\\u0438\\u043b\\u043e\\u0433\\u043e \\u043a\\u043e\\u043c\\u043f\\u043b\\u0435\\u043a\\u0441\\u0430 (\\u0431\\u0430\\u0437\\u043e\\u0432\\u044b\\u0439 \\u0443\\u0440\\u043e\\u0432\\u0435\\u043d\\u044c \\u043f\\u043e\\u043b\\u044c\\u0437\\u043e\\u0432\\u0430\\u043d\\u0438\\u044f \\u0441\\u0438\\u0441\\u0442\\u0435\\u043c\\u044b \\u0431\\u0435\\u0437 \\u043f\\u0440\\u043e\\u0433\\u0440\\u0430\\u043c\\u043c\\u0438\\u0440\\u043e\\u0432\\u0430\\u043d\\u0438\\u044f \\u043d\\u0430 \\u044f\\u0437\\u044b\\u043a\\u0430\\u0445 ST, FBD) - \\u043c\\u043e\\u043d\\u0442\\u0430\\u0436 \\u0438 \\u044e\\u0441\\u0442\\u0438\\u0440\\u043e\\u0432\\u043a\\u0430 \\u043a\\u0430\\u043c\\u0435\\u0440 \\u0441\\u0438\\u0441\\u0442\\u0435\\u043c\\u044b \\u0442\\u0435\\u043b\\u0435\\u0432\\u0438\\u0434\\u0435\\u043e\\u043d\\u0430\\u0431\\u043b\\u044e\\u0434\\u0435\\u043d\\u0438\\u044f \\u0432 \\u041c\\u043e\\u0441\\u043a\\u043e\\u0432\\u0441\\u043a\\u043e\\u043c \\u041c\\u0435\\u0442\\u0440\\u043e. - \\u0441\\u0431\\u043e\\u0440\\u043a\\u0430 \\u0438 \\u043c\\u043e\\u043d\\u0442\\u0430\\u0436 \\u043e\\u0431\\u043e\\u0440\\u0443\\u0434\\u043e\\u0432\\u0430\\u043d\\u0438\\u044f \\u0441\\u0438\\u0441\\u0442\\u0435\\u043c\\u044b \\u0442\\u0435\\u043b\\u0435\\u0432\\u0438\\u0434\\u0435\\u043e\\u043d\\u0430\\u0431\\u043b\\u044e\\u0434\\u0435\\u043d\\u0438\\u044f \\u0432 \\u041c\\u043e\\u0441\\u043a\\u043e\\u0432\\u0441\\u043a\\u043e\\u043c \\u041c\\u0435\\u0442\\u0440\\u043e. - \\u043f\\u0440\\u043e\\u0432\\u0435\\u0434\\u0435\\u043d\\u0438\\u0435 \\u043f\\u0440\\u0435\\u0434\\u043f\\u0443\\u0441\\u043a\\u043e\\u0432\\u044b\\u0445 \\u0440\\u0430\\u0431\\u043e\\u0442 \\u0441\\u0438\\u0441\\u0442\\u0435\\u043c\\u044b \\u0442\\u0435\\u043b\\u0435\\u0432\\u0438\\u0434\\u0435\\u043e\\u043d\\u0430\\u0431\\u043b\\u044e\\u0434\\u0435\\u043d\\u0438\\u044f. - \\u043f\\u0440\\u043e\\u0432\\u0435\\u0434\\u0435\\u043d\\u0438\\u0435 \\u044d\\u043b\\u0435\\u043a\\u0442\\u0440\\u043e\\u043c\\u043e\\u043d\\u0442\\u0430\\u0436\\u043d\\u044b\\u0445 \\u0440\\u0430\\u0431\\u043e\\u0442 \\u043f\\u043e \\u0441\\u0438\\u0441\\u0442\\u0435\\u043c\\u0435\\u043c \\u0418\\u0421\\u0412\\u041d (\\u043f\\u043e\\u0434\\u043a\\u043b\\u044e\\u0447\\u0435\\u043d\\u0438\\u0435, \\u0441\\u0431\\u043e\\u0440\\u043a\\u0430 \\u043e\\u0431\\u043e\\u0440\\u0443\\u0434\\u043e\\u0432\\u0430\\u043d\\u0438\\u044f \\u0438 \\u0437\\u0430\\u043f\\u0443\\u0441\\u043a). - \\u043f\\u0440\\u043e\\u0432\\u0435\\u0434\\u0435\\u043d\\u0438\\u0435 \\u0442\\u0435\\u0441\\u0442\\u043e\\u0432\\u044b\\u0445 \\u0437\\u0430\\u043f\\u0443\\u0441\\u043a\\u043e\\u0432 \\u043e\\u0431\\u043e\\u0440\\u0443\\u0434\\u043e\\u0432\\u0430\\u043d\\u0438\\u044f \\u0432 \\u0441\\u043e\\u043e\\u0442\\u0432\\u0435\\u0442\\u0441\\u0442\\u0432\\u0438\\u0438 \\u0441 \\u043d\\u043e\\u0440\\u043c\\u0430\\u0442\\u0438\\u0432\\u0430\\u043c\\u0438. - \\u043a\\u043e\\u043d\\u0442\\u0440\\u043e\\u043b\\u044c \\u0440\\u0430\\u0431\\u043e\\u0442 \\u043f\\u043e \\u0443\\u0441\\u0442\\u0440\\u0430\\u043d\\u0435\\u043d\\u0438\\u044e \\u0437\\u0430\\u043c\\u0435\\u0447\\u0430\\u043d\\u0438\\u0439 \\u043d\\u0430 \\u043e\\u0431\\u043e\\u0440\\u0443\\u0434\\u043e\\u0432\\u0430\\u043d\\u0438\\u0438. - \\u0443\\u0447\\u0430\\u0441\\u0442\\u0438\\u0435 \\u0432 \\u043f\\u0440\\u043e\\u0446\\u0435\\u0434\\u0443\\u0440\\u0430\\u0445 \\u043f\\u0435\\u0440\\u0435\\u0434\\u0430\\u0447\\u0438 \\u043e\\u0431\\u043e\\u0440\\u0443\\u0434\\u043e\\u0432\\u0430\\u043d\\u0438\\u044f \\u0437\\u0430\\u043a\\u0430\\u0437\\u0447\\u0438\\u043a\\u0443. - \\u0432\\u0437\\u0430\\u0438\\u043c\\u043e\\u0434\\u0435\\u0439\\u0441\\u0442\\u0432\\u0438\\u0435 \\u0441 \\u0442\\u0435\\u0445\\u043d\\u0438\\u0447\\u0435\\u0441\\u043a\\u0438\\u043c\\u0438 \\u043f\\u0440\\u0435\\u0434\\u0441\\u0442\\u0430\\u0432\\u0438\\u0442\\u0435\\u043b\\u044f\\u043c\\u0438 \\u0441\\u043b\\u0443\\u0436\\u0431 \\u041c\\u0435\\u0442\\u0440\\u043e\\u043f\\u043e\\u043b\\u0438\\u0442\\u0435\\u043d\\u0430. - \\u043a\\u043e\\u043d\\u0442\\u0440\\u043e\\u043b\\u044c \\u043f\\u0440\\u043e\\u0432\\u0435\\u0434\\u0435\\u043d\\u0438\\u044f \\u0440\\u0430\\u0431\\u043e\\u0442. ------ \\u0434\\u043e\\u0441\\u0442\\u0438\\u0436\\u0435\\u043d\\u0438\\u044f - \\u0441\\u043e\\u0437\\u0434\\u0430\\u043d\\u0438\\u0435 \\u0438 \\u0437\\u0430\\u043f\\u0443\\u0441\\u043a \\u041b\\u0412\\u0421 \\u0434\\u043b\\u044f 2\\u0445 \\u043a\\u043e\\u0440\\u043f\\u0443\\u0441\\u043e\\u0432 \\u0411\\u0426 \\\"G10\\\" \\u041a\\u0438\\u0435\\u0432\\u0441\\u043a\\u043e\\u0435 \\u0448\\u043e\\u0441\\u0441\\u0435. - \\u0437\\u0430\\u043f\\u0443\\u0441\\u043a \\u0441\\u0438\\u0441\\u0442\\u0435\\u043c\\u044b \\u0422\\u0435\\u043b\\u0435\\u0432\\u0438\\u0434\\u0435\\u043e\\u043d\\u0430\\u0431\\u043b\\u044e\\u0434\\u0435\\u043d\\u0438\\u044f \\u043d\\u0430 \\u043e\\u0431\\u043e\\u0440\\u0443\\u0434\\u043e\\u0432\\u0430\\u043d\\u0438\\u0438 VideoMax \\u043f\\u043e\\u0434 \\u0443\\u043f\\u0440\\u0430\\u0432\\u043b\\u0435\\u043d\\u0438\\u0435\\u043c \\u041f\\u041e \\\"\\u0418\\u043d\\u0442\\u0435\\u043b\\u043b\\u0435\\u043a\\u0442\\\". - \\u0438\\u043d\\u0442\\u0435\\u0440\\u0433\\u0430\\u0446\\u0438\\u044f \\u0441\\u0438\\u0441\\u0442\\u0435\\u043c\\u044b \\\"\\u0410\\u0432\\u0442\\u043e-\\u0418\\u043d\\u0442\\u0435\\u043b\\u043b\\u0435\\u043a\\u0442\\\" \\u0438 \\u043c\\u043e\\u0434\\u0443\\u043b\\u044f \\\"\\u0410\\u0432\\u0442\\u043e\\u0423\\u0440\\u0430\\u0433\\u0430\\u043d\\\" \\u0432 \\u043f\\u043b\\u0430\\u0442\\u0444\\u043e\\u0440\\u043c\\u0443 \\u0421\\u041a\\u0423\\u0414. - \\u0437\\u0430\\u043f\\u0443\\u0441\\u043a \\u0432 \\u0440\\u0430\\u0431\\u043e\\u0442\\u0443 \\u0441\\u0438\\u0441\\u0442\\u0435\\u043c\\u044b \\u0432\\u043e\\u0434\\u043e\\u043f\\u043e\\u0434\\u0430\\u0447\\u0438 \\u0413\\u0412/\\u0425\\u0412 \\u043d\\u0430 \\u0442\\u0435\\u0440\\u0440\\u0438\\u0442\\u043e\\u0440\\u0438\\u0438 \\u0416\\u041a \\\"\\u0421\\u043f\\u0430\\u0441\\u0441\\u043a\\u0438\\u0439 \\u041c\\u043e\\u0441\\u0442\\\" - \\u043f\\u0440\\u043e\\u0432\\u0435\\u0434\\u0435\\u043d\\u0438\\u0435 \\u0446\\u0438\\u043a\\u043b\\u0430 \\u041f\\u041d\\u0420 \\u043f\\u043e \\u0441\\u0438\\u0441\\u0442\\u0435\\u043c\\u0435 \\u043e\\u0445\\u0440\\u0430\\u043d\\u043d\\u043e\\u0433\\u043e \\u0432\\u0438\\u0434\\u0435\\u043e\\u043d\\u0430\\u0431\\u043b\\u044e\\u0434\\u0435\\u043d\\u0438\\u044f \\u043d\\u0430 \\u0442\\u0435\\u0440\\u0440\\u0438\\u0442\\u043e\\u0440\\u0438\\u0438 \\u0430\\u043f\\u0430\\u0440\\u0442-\\u043e\\u0442\\u0435\\u043b\\u044f Cleverland (\\u0441\\u0432\\u044f\\u0437\\u043a\\u0430 cisco, \\u041f\\u041e \\u0418\\u043d\\u0442\\u0435\\u043b\\u043b\\u0435\\u043a\\u0442 \\u041b\\u0430\\u0439\\u0442, \\u043a\\u0430\\u043c\\u0435\\u0440\\u044b ltv). \\u2014\\u2014\\u2014\\u2014\\u2014\\u2014 \\u0418\\u043c\\u0435\\u0435\\u0442\\u0441\\u044f \\u043e\\u043f\\u044b\\u0442 \\u043f\\u0440\\u043e\\u0438\\u0437\\u0432\\u043e\\u0434\\u0438\\u0442\\u0435\\u043b\\u044f \\u0440\\u0430\\u0431\\u043e\\u0442 \\u0432 \\u0441\\u0444\\u0435\\u0440\\u0435 \\u0441\\u0442\\u0440\\u043e\\u0438\\u0442\\u0435\\u043b\\u044c\\u0441\\u0442\\u0432\\u0430  \\u0414\\u0435\\u043a\\u0430\\u0431\\u0440\\u044c 2015 \\u2014 \\u0424\\u0435\\u0432\\u0440\\u0430\\u043b\\u044c  2016 3 \\u043c\\u0435\\u0441\\u044f\\u0446\\u0430 \\u041e\\u041e\\u041e \\\"\\u041c\\u043e\\u0441\\u041c\\u043e\\u043d\\u0442\\u0430\\u0436\\u0421\\u0442\\u0440\\u043e\\u0439\\\" \\u041c\\u043e\\u0441\\u043a\\u0432\\u0430 , mosmms.ru \\u042d\\u043b\\u0435\\u043a\\u0442\\u0440\\u043e\\u043d\\u0438\\u043a\\u0430, \\u043f\\u0440\\u0438\\u0431\\u043e\\u0440\\u043e\\u0441\\u0442\\u0440\\u043e\\u0435\\u043d\\u0438\\u0435, \\u0431\\u044b\\u0442\\u043e\\u0432\\u0430\\u044f \\u0442\\u0435\\u0445\\u043d\\u0438\\u043a\\u0430, \\u043a\\u043e\\u043c\\u043f\\u044c\\u044e\\u0442\\u0435\\u0440\\u044b \\u0438 \\u043e\\u0440\\u0433\\u0442\\u0435\\u0445\\u043d\\u0438\\u043a\\u0430 ... \\u042d\\u043b\\u0435\\u043a\\u0442\\u0440\\u043e\\u043d\\u043d\\u043e-\\u0432\\u044b\\u0447\\u0438\\u0441\\u043b\\u0438\\u0442\\u0435\\u043b\\u044c\\u043d\\u0430\\u044f, \\u043e\\u043f\\u0442\\u0438\\u0447\\u0435\\u0441\\u043a\\u0430\\u044f, \\u043a\\u043e\\u043d\\u0442\\u0440\\u043e\\u043b\\u044c\\u043d\\u043e-\\u0438\\u0437\\u043c\\u0435\\u0440\\u0438\\u0442\\u0435\\u043b\\u044c\\u043d\\u0430\\u044f \\u0442\\u0435\\u0445\\u043d\\u0438\\u043a\\u0430, \\u0440\\u0430\\u0434\\u0438\\u043e\\u044d\\u043b\\u0435\\u043a\\u0442\\u0440\\u043e\\u043d\\u0438\\u043a\\u0430, \\u0430\\u0432\\u0442\\u043e\\u043c\\u0430\\u0442\\u0438\\u043a\\u0430 (\\u043c\\u043e\\u043d\\u0442\\u0430\\u0436, \\u0441\\u0435\\u0440\\u0432\\u0438\\u0441, \\u0440\\u0435\\u043c\\u043e\\u043d\\u0442) \\u042d\\u043b\\u0435\\u043a\\u0442\\u0440\\u043e\\u043d\\u043d\\u043e-\\u0432\\u044b\\u0447\\u0438\\u0441\\u043b\\u0438\\u0442\\u0435\\u043b\\u044c\\u043d\\u0430\\u044f, \\u043e\\u043f\\u0442\\u0438\\u0447\\u0435\\u0441\\u043a\\u0430\\u044f, \\u043a\\u043e\\u043d\\u0442\\u0440\\u043e\\u043b\\u044c\\u043d\\u043e-\\u0438\\u0437\\u043c\\u0435\\u0440\\u0438\\u0442\\u0435\\u043b\\u044c\\u043d\\u0430\\u044f \\u0442\\u0435\\u0445\\u043d\\u0438\\u043a\\u0430, \\u0440\\u0430\\u0434\\u0438\\u043e\\u044d\\u043b\\u0435\\u043a\\u0442\\u0440\\u043e\\u043d\\u0438\\u043a\\u0430, \\u0430\\u0432\\u0442\\u043e\\u043c\\u0430\\u0442\\u0438\\u043a\\u0430 (\\u043f\\u0440\\u043e\\u0434\\u0432\\u0438\\u0436\\u0435\\u043d\\u0438\\u0435, \\u043e\\u043f\\u0442\\u043e\\u0432\\u0430\\u044f \\u0442\\u043e\\u0440\\u0433\\u043e\\u0432\\u043b\\u044f) \\u0418\\u043d\\u0436\\u0435\\u043d\\u0435\\u0440-\\u043f\\u0443\\u0441\\u043a\\u043e\\u043d\\u0430\\u043b\\u0430\\u0434\\u0447\\u0438\\u043a - \\u043f\\u0440\\u043e\\u0432\\u0435\\u0434\\u0435\\u043d\\u0438\\u0435 \\u043a\\u043e\\u043c\\u043f\\u043b\\u0435\\u043a\\u0441\\u0430 \\u043f\\u0443\\u0441\\u043a\\u043e\\u043d\\u0430\\u043b\\u0430\\u0434\\u043e\\u0447\\u043d\\u044b\\u0445 \\u0440\\u0430\\u0431\\u043e\\u0442 \\u0441\\u0438\\u0441\\u0442\\u0435\\u043c \\u0442\\u0440\\u0430\\u043d\\u0441\\u043f\\u043e\\u0440\\u0442\\u043d\\u043e\\u0433\\u043e \\u043c\\u043e\\u043d\\u0438\\u0442\\u043e\\u0440\\u0438\\u043d\\u0433\\u0430 (\\u0434\\u0435\\u0442\\u0435\\u043a\\u0442\\u043e\\u0440\\u044b \\u0442\\u0440\\u0430\\u043d\\u0441\\u043f\\u043e\\u0440\\u0442\\u043d\\u043e\\u0433\\u043e \\u043f\\u043e\\u0442\\u043e\\u043a\\u0430 WaveTronix, RTMS4G, SmartMicroSystems) - \\u043f\\u0440\\u043e\\u0432\\u0435\\u0434\\u0435\\u043d\\u0438\\u0435 \\u043d\\u0430\\u0441\\u0442\\u0440\\u043e\\u0435\\u043a \\u043a\\u043e\\u043c\\u043c\\u0443\\u0442\\u0430\\u0446\\u0438\\u043e\\u043d\\u043d\\u043e\\u0433\\u043e \\u043e\\u0431\\u043e\\u0440\\u0443\\u0434\\u043e\\u0432\\u0430\\u043d\\u0438\\u044f \\u0441\\u0438\\u0441\\u0442\\u0435\\u043c \\u0442\\u0440\\u0430\\u043d\\u0441\\u043f\\u043e\\u0440\\u0442\\u043d\\u043e\\u0433\\u043e \\u043c\\u043e\\u043d\\u0438\\u0442\\u043e\\u0440\\u0438\\u043d\\u0433\\u0430 (\\u043a\\u043e\\u043c\\u043c\\u0443\\u0442\\u0430\\u0442\\u043e\\u0440\\u044b moxa) - \\u0430\\u043d\\u0430\\u043b\\u0438\\u0442\\u0438\\u043a\\u0430 \\u0442\\u0440\\u0430\\u043d\\u0441\\u043f\\u043e\\u0440\\u0442\\u043d\\u043e\\u0433\\u043e \\u043f\\u043e\\u0442\\u043e\\u043a\\u0430 \\u0447\\u0435\\u0440\\u0435\\u0437 \\u0441\\u043f\\u0435\\u0446\\u0438\\u0430\\u043b\\u0438\\u0437\\u0438\\u0440\\u043e\\u0432\\u0430\\u043d\\u043d\\u043e\\u0435 \\u041f\\u041e - \\u0441\\u043e\\u043f\\u043e\\u0441\\u0442\\u0430\\u0432\\u043b\\u0435\\u043d\\u0438\\u0435 \\u0434\\u0430\\u043d\\u043d\\u044b\\u0445 \\u0441 \\u0444\\u0430\\u043a\\u0442\\u0438\\u0447\\u0435\\u0441\\u043a\\u0438\\u043c \\u0441\\u043e\\u0441\\u0442\\u043e\\u044f\\u043d\\u0438\\u0435\\u043c - \\u0438\\u0441\\u043f\\u0440\\u0430\\u0432\\u043b\\u0435\\u043d\\u0438\\u0435 \\u043d\\u0435\\u043a\\u043e\\u0440\\u0440\\u0435\\u043a\\u0442\\u043d\\u043e\\u0439 \\u0440\\u0430\\u0431\\u043e\\u0442\\u044b \\u0434\\u0430\\u0442\\u0447\\u0438\\u043a\\u043e\\u0432 - \\u043f\\u0440\\u043e\\u0432\\u0435\\u0434\\u0435\\u043d\\u0438\\u0435 \\u044d\\u043b\\u0435\\u043a\\u0442\\u0440\\u043e\\u043c\\u043e\\u043d\\u0442\\u0430\\u0436\\u043d\\u044b\\u0445 \\u0440\\u0430\\u0431\\u043e\\u0442 \\u0441\\u0432\\u044f\\u0437\\u0430\\u043d\\u043d\\u044b\\u0445 \\u0441 \\u043e\\u0431\\u043e\\u0440\\u0443\\u0434\\u043e\\u0432\\u0430\\u043d\\u0438\\u0435\\u043c. - \\u0438\\u043c\\u0435\\u0435\\u0442\\u0441\\u044f \\u0443\\u0434\\u043e\\u0441\\u0442\\u043e\\u0432\\u0435\\u0440\\u0435\\u043d\\u0438\\u0435 \\u044d\\u043b\\u0435\\u043a\\u0442\\u0440\\u0438\\u043a\\u0430 \\u0441\\u043e 2-\\u0439 \\u0433\\u0440\\u0443\\u043f\\u043f\\u043e\\u0439 \\u044d\\u043b\\u0435\\u043a\\u0442\\u0440\\u043e\\u0431\\u0435\\u0437\\u043e\\u043f\\u0430\\u0441\\u043d\\u043e\\u0441\\u0442\\u0438. - \\u043a\\u043e\\u043d\\u0442\\u0440\\u043e\\u043b\\u044c \\u043f\\u0440\\u043e\\u0432\\u0435\\u0434\\u0435\\u043d\\u0438\\u044f \\u0440\\u0430\\u0431\\u043e\\u0442 3-\\u0445 \\u0432\\u044b\\u0435\\u0437\\u0434\\u043d\\u044b\\u0445 \\u0431\\u0440\\u0438\\u0433\\u0430\\u0434. - \\u0437\\u0430\\u043a\\u0430\\u0437 \\u043e\\u0431\\u043e\\u0440\\u0443\\u0434\\u043e\\u0432\\u0430\\u043d\\u0438\\u044f \\u0438 \\u0438\\u043d\\u0432\\u0435\\u043d\\u0442\\u0430\\u0440\\u044f \\u0434\\u043b\\u044f \\u043f\\u0440\\u043e\\u0432\\u0435\\u0434\\u0435\\u043d\\u0438\\u044f \\u0440\\u0430\\u0431\\u043e\\u0442 - \\u0432\\u0437\\u0430\\u0438\\u043c\\u043e\\u0434\\u0435\\u0439\\u0441\\u0442\\u0432\\u0438\\u0435 \\u0441 \\u0440\\u0443\\u043a\\u043e\\u0432\\u043e\\u0434\\u0441\\u0442\\u0432\\u043e\\u043c \\u043f\\u043e \\u0432\\u043e\\u043f\\u0440\\u043e\\u0441\\u0430\\u043c \\u0440\\u0435\\u0448\\u0435\\u043d\\u0438\\u044f \\u0440\\u0430\\u0431\\u043e\\u0442.  \\u042f\\u043d\\u0432\\u0430\\u0440\\u044c 2014 \\u2014 \\u041c\\u0430\\u0440\\u0442  2015 1 \\u0433\\u043e\\u0434 3 \\u043c\\u0435\\u0441\\u044f\\u0446\\u0430 \\u041e\\u041e\\u041e \\u0422\\u0435\\u0445\\u043d\\u043e-\\u0442\\u0440\\u0430\\u0444\\u0444\\u0438\\u043a \\u0420\\u043e\\u0441\\u0441\\u0438\\u044f , technotraffic.ru \\u0422\\u0435\\u043b\\u0435\\u043a\\u043e\\u043c\\u043c\\u0443\\u043d\\u0438\\u043a\\u0430\\u0446\\u0438\\u0438, \\u0441\\u0432\\u044f\\u0437\\u044c ... \\u041e\\u043f\\u0442\\u043e\\u0432\\u043e\\u043b\\u043e\\u043a\\u043e\\u043d\\u043d\\u0430\\u044f \\u0441\\u0432\\u044f\\u0437\\u044c \\u0421\\u0442\\u0440\\u043e\\u0438\\u0442\\u0435\\u043b\\u044c\\u0441\\u0442\\u0432\\u043e, \\u043d\\u0435\\u0434\\u0432\\u0438\\u0436\\u0438\\u043c\\u043e\\u0441\\u0442\\u044c, \\u044d\\u043a\\u0441\\u043f\\u043b\\u0443\\u0430\\u0442\\u0430\\u0446\\u0438\\u044f, \\u043f\\u0440\\u043e\\u0435\\u043a\\u0442\\u0438\\u0440\\u043e\\u0432\\u0430\\u043d\\u0438\\u0435 \\u0421\\u0442\\u0440\\u043e\\u0438\\u0442\\u0435\\u043b\\u044c\\u0441\\u0442\\u0432\\u043e \\u0434\\u043e\\u0440\\u043e\\u0436\\u043d\\u043e\\u0435 \\u0438 \\u0438\\u043d\\u0444\\u0440\\u0430\\u0441\\u0442\\u0440\\u0443\\u043a\\u0442\\u0443\\u0440\\u043d\\u043e\\u0435 \\u0418\\u043d\\u0436\\u0435\\u043d\\u0435\\u0440 \\u043e\\u0442\\u0434\\u0435\\u043b\\u0430 \\u043f\\u0443\\u0441\\u043a\\u043e-\\u043d\\u0430\\u043b\\u0430\\u0434\\u043e\\u0447\\u043d\\u044b\\u0445 \\u0440\\u0430\\u0431\\u043e\\u0442 \\u041f\\u0440\\u043e\\u0432\\u0435\\u0434\\u0435\\u043d\\u0438\\u0435 \\u0446\\u0438\\u043a\\u043b\\u0430 \\u043f\\u0443\\u0441\\u043a\\u043e-\\u043d\\u0430\\u043b\\u0430\\u0434\\u043e\\u0447\\u043d\\u044b\\u0445 \\u0440\\u0430\\u0431\\u043e\\u0442 \\u043d\\u0430 \\u043e\\u0431\\u044a\\u0435\\u043a\\u0442\\u0430\\u0445 \\u0434\\u043e\\u0440\\u043e\\u0436\\u043d\\u043e\\u0433\\u043e \\u0441\\u0442\\u0440\\u043e\\u0438\\u0442\\u0435\\u043b\\u044c\\u0441\\u0442\\u0432\\u0430. \\u041d\\u0430\\u0441\\u0442\\u0440\\u043e\\u0439\\u043a\\u0430 \\u0438 \\u0443\\u0441\\u0442\\u0430\\u043d\\u043e\\u0432\\u043a\\u0430 \\u0441\\u0435\\u0440\\u0432\\u0435\\u0440\\u043d\\u043e\\u0433\\u043e \\u043e\\u0431\\u043e\\u0440\\u0443\\u0434\\u043e\\u0432\\u0430\\u043d\\u0438\\u044f HP. \\u041d\\u0430\\u0441\\u0442\\u0440\\u043e\\u0439\\u043a\\u0430, \\u043d\\u0430\\u043b\\u0430\\u0434\\u043a\\u0430 \\u0438 \\u043f\\u043e\\u0434\\u0434\\u0435\\u0440\\u0436\\u0430\\u043d\\u0438\\u0435 \\u0442\\u0440\\u0430\\u043d\\u0441\\u043f\\u043e\\u0440\\u0442\\u043d\\u044b\\u0445 \\u0440\\u0435\\u0448\\u0435\\u043d\\u0438\\u0439 \\u043a\\u043e\\u043c\\u043f\\u0430\\u043d\\u0438\\u0438 Telegra. \\u041f\\u0440\\u043e\\u043a\\u043b\\u0430\\u0434\\u043a\\u0430 \\u0441\\u043a\\u0441. \\u041f\\u0440\\u043e\\u0432\\u0435\\u0434\\u0435\\u043d\\u0438\\u0435 \\u043f\\u0443\\u0441\\u043a\\u043e\\u0432\\u044b\\u0445 \\u0440\\u0430\\u0431\\u043e\\u0442 \\u043d\\u0430 \\u043e\\u0431\\u043e\\u0440\\u0443\\u0434\\u043e\\u0432\\u0430\\u043d\\u0438\\u0438 \\u0437\\u0430\\u043a\\u0430\\u0437\\u0447\\u0438\\u043a\\u0430 (\\u043e\\u0431\\u043d\\u043e\\u0432\\u043b\\u0435\\u043d\\u0438\\u0435 \\u0441\\u0435\\u0440\\u0432\\u0435\\u0440\\u043e\\u0432, \\u043a\\u043b\\u0438\\u0435\\u043d\\u0442\\u0441\\u043a\\u0438\\u0445 \\u0441\\u0442\\u0430\\u043d\\u0446\\u0438\\u0439). \\u041f\\u0440\\u043e\\u0432\\u0435\\u0434\\u0435\\u043d\\u0438\\u0435 \\u0440\\u0430\\u0431\\u043e\\u0442 \\u043f\\u043e \\u043e\\u0431\\u043d\\u043e\\u0432\\u043b\\u0435\\u043d\\u0438\\u044e \\u043e\\u0431\\u043e\\u0440\\u0443\\u0434\\u043e\\u0432\\u0430\\u043d\\u0438\\u044f \\u0438 \\u043f\\u0440\\u043e\\u0433\\u0440\\u0430\\u043c\\u043c\\u043d\\u043e\\u0433\\u043e \\u043e\\u0431\\u0435\\u0441\\u043f\\u0435\\u0447\\u0435\\u043d\\u0438\\u044f. \\u0412\\u0435\\u0434\\u0435\\u043d\\u0438\\u0435 \\u043f\\u043e\\u0434\\u0433\\u043e\\u0442\\u043e\\u0432\\u0438\\u0442\\u0435\\u043b\\u044c\\u043d\\u044b\\u0445 \\u0440\\u0430\\u0431\\u043e\\u0442 \\u043f\\u043e \\u043c\\u043e\\u043d\\u0442\\u0430\\u0436\\u0443 \\u0438 \\u043d\\u0430\\u0441\\u0442\\u0440\\u043e\\u0439\\u043a\\u0435 \\u043e\\u0431\\u043e\\u0440\\u0443\\u0434\\u043e\\u0432\\u0430\\u043d\\u0438\\u044f (\\u0430\\u043d\\u0442\\u0435\\u043d\\u043d\\u044b, \\u043a\\u0430\\u043c\\u0435\\u0440\\u044b). \\u0412\\u0435\\u0434\\u0435\\u043d\\u0438\\u0435 \\u0434\\u0435\\u043b\\u043e\\u0432\\u043e\\u0439 \\u043f\\u0435\\u0440\\u0435\\u043f\\u0438\\u0441\\u043a\\u0438 \\u0441 \\u0438\\u043d\\u043e\\u0441\\u0442\\u0440\\u0430\\u043d\\u043d\\u044b\\u043c\\u0438 \\u043a\\u043e\\u043c\\u043f\\u0430\\u043d\\u0438\\u044f\\u043c\\u0438-\\u043f\\u0430\\u0440\\u0442\\u043d\\u0451\\u0440\\u0430\\u043c\\u0438. \\u041f\\u0440\\u043e\\u0432\\u0435\\u0434\\u0435\\u043d\\u0438\\u0435 \\u0446\\u0438\\u043a\\u043b\\u0430 \\u043f\\u043e\\u0434\\u0433\\u043e\\u0442\\u043e\\u0432\\u043a\\u0438 \\u043e\\u0431\\u044a\\u0435\\u043a\\u0442\\u043e\\u0432 \\u043f\\u043e\\u0434\\u0441\\u0438\\u0441\\u0442\\u0435\\u043c\\u044b \\u0410\\u0421\\u0423\\u0414\\u0414 \\u043d\\u0430 \\u041c\\u043e\\u043b\\u043e\\u0434\\u043e\\u0433\\u0432\\u0430\\u0440\\u0434\\u0435\\u0439\\u0441\\u043a\\u043e\\u0439 \\u0422\\u0440\\u0430\\u043d\\u0441\\u043f\\u043e\\u0440\\u0442\\u043d\\u043e\\u0439 \\u0440\\u0430\\u0437\\u0432\\u044f\\u0437\\u043a\\u0435 \\u043a \\u0437\\u0430\\u043f\\u0443\\u0441\\u043a\\u0443, \\u0432\\u043a\\u043b\\u044e\\u0447\\u0430\\u044f \\u0432\\u0437\\u0430\\u0438\\u043c\\u043e\\u0434\\u0435\\u0439\\u0441\\u0442\\u0432\\u0438\\u0435 \\u0441 \\u043f\\u043e\\u0441\\u0442\\u0430\\u0432\\u0449\\u0438\\u043a\\u0430\\u043c\\u0438 \\u043e\\u0431\\u043e\\u0440\\u0443\\u0434\\u043e\\u0432\\u0430\\u043d\\u0438\\u044f \\u0438 \\u041f\\u041e, \\u043a\\u043e\\u043d\\u0442\\u0440\\u043e\\u043b\\u044c \\u043c\\u043e\\u043d\\u0442\\u0430\\u0436\\u043d\\u044b\\u0445 \\u0440\\u0430\\u0431\\u043e\\u0442, \\u043f\\u0440\\u043e\\u0432\\u0435\\u0434\\u0435\\u043d\\u0438\\u0435 \\u043f\\u0443\\u0441\\u043a\\u043e\\u043d\\u0430\\u043b\\u0430\\u0434\\u043e\\u0447\\u043d\\u044b\\u0445 \\u0440\\u0430\\u0431\\u043e\\u0442.  \\u041d\\u043e\\u044f\\u0431\\u0440\\u044c 2012 \\u2014 \\u0414\\u0435\\u043a\\u0430\\u0431\\u0440\\u044c  2013 1 \\u0433\\u043e\\u0434 2 \\u043c\\u0435\\u0441\\u044f\\u0446\\u0430 \\u041c\\u0435\\u0433\\u0430\\u0424\\u043e\\u043d, \\u041e\\u0410\\u041e \\u041c\\u043e\\u0441\\u043a\\u0432\\u0430 , www.megafon.ru \\u0422\\u0435\\u043b\\u0435\\u043a\\u043e\\u043c\\u043c\\u0443\\u043d\\u0438\\u043a\\u0430\\u0446\\u0438\\u0438, \\u0441\\u0432\\u044f\\u0437\\u044c ... \\u041e\\u043f\\u0442\\u043e\\u0432\\u043e\\u043b\\u043e\\u043a\\u043e\\u043d\\u043d\\u0430\\u044f \\u0441\\u0432\\u044f\\u0437\\u044c \\u0421\\u0442\\u0440\\u043e\\u0438\\u0442\\u0435\\u043b\\u044c\\u0441\\u0442\\u0432\\u043e, \\u043d\\u0435\\u0434\\u0432\\u0438\\u0436\\u0438\\u043c\\u043e\\u0441\\u0442\\u044c, \\u044d\\u043a\\u0441\\u043f\\u043b\\u0443\\u0430\\u0442\\u0430\\u0446\\u0438\\u044f, \\u043f\\u0440\\u043e\\u0435\\u043a\\u0442\\u0438\\u0440\\u043e\\u0432\\u0430\\u043d\\u0438\\u0435 \\u0421\\u0442\\u0440\\u043e\\u0438\\u0442\\u0435\\u043b\\u044c\\u0441\\u0442\\u0432\\u043e \\u0434\\u043e\\u0440\\u043e\\u0436\\u043d\\u043e\\u0435 \\u0438 \\u0438\\u043d\\u0444\\u0440\\u0430\\u0441\\u0442\\u0440\\u0443\\u043a\\u0442\\u0443\\u0440\\u043d\\u043e\\u0435 \\u0421\\u043f\\u0435\\u0446\\u0438\\u0430\\u043b\\u0438\\u0441\\u0442 \\u043f\\u043e \\u043d\\u0430\\u0441\\u0442\\u0440\\u043e\\u0439\\u043a\\u0435 \\u043a\\u043b\\u0438\\u0435\\u043d\\u0442\\u0441\\u043a\\u043e\\u0433\\u043e \\u043e\\u0431\\u043e\\u0440\\u0443\\u0434\\u043e\\u0432\\u0430\\u043d\\u0438\\u044f \\u041d\\u0430\\u0441\\u0442\\u0440\\u043e\\u0439\\u043a\\u0430 \\u043a\\u043b\\u0438\\u0435\\u043d\\u0442\\u0441\\u043a\\u043e\\u0433\\u043e \\u043e\\u0431\\u043e\\u0440\\u0443\\u0434\\u043e\\u0432\\u0430\\u043d\\u0438\\u044f. \\u041e\\u0431\\u043d\\u043e\\u0432\\u043b\\u0435\\u043d\\u0438\\u0435 \\u041f\\u041e \\u043d\\u0430 \\u043e\\u0431\\u043e\\u0440\\u0443\\u0434\\u043e\\u0432\\u0430\\u043d\\u0438\\u0438. \\u0412\\u043e\\u0441\\u0441\\u0442\\u0430\\u043d\\u043e\\u0432\\u043b\\u0435\\u043d\\u0438\\u0435 \\u0438 \\u043f\\u0435\\u0440\\u0435\\u043d\\u043e\\u0441 \\u0434\\u0430\\u043d\\u043d\\u044b\\u0445 \\u0441 \\u0443\\u0441\\u0442\\u0440\\u043e\\u0439\\u0441\\u0442\\u0432 \\u043a\\u043b\\u0438\\u0435\\u043d\\u0442\\u043e\\u0432. \\u041e\\u0431\\u0443\\u0447\\u0435\\u043d\\u0438\\u0435 \\u043f\\u043e\\u043b\\u044c\\u0437\\u043e\\u0432\\u0430\\u043d\\u0438\\u044e \\u0443\\u0441\\u0442\\u0440\\u043e\\u0439\\u0441\\u0442\\u0432\\u0430\\u043c\\u0438. \\u0418\\u043d\\u0444\\u043e\\u0440\\u043c\\u0438\\u0440\\u043e\\u0432\\u0430\\u043d\\u0438\\u0435 \\u043e \\u0432\\u044b\\u0441\\u043e\\u043a\\u043e\\u0442\\u0435\\u0445\\u043d\\u043e\\u043b\\u043e\\u0433\\u0438\\u0447\\u043d\\u044b\\u0445 \\u0443\\u0441\\u043b\\u0443\\u0433\\u0430\\u0445 \\u043a\\u043e\\u043c\\u043f\\u0430\\u043d\\u0438\\u0438.  \\u0410\\u043f\\u0440\\u0435\\u043b\\u044c 2012 \\u2014 \\u0421\\u0435\\u043d\\u0442\\u044f\\u0431\\u0440\\u044c  2012 6 \\u043c\\u0435\\u0441\\u044f\\u0446\\u0435\\u0432 \\u0422\\u0438\\u043d\\u044c\\u043a\\u043e\\u0444\\u0444 \\u041a\\u0440\\u0435\\u0434\\u0438\\u0442\\u043d\\u044b\\u0435 \\u0421\\u0438\\u0441\\u0442\\u0435\\u043c\\u044b, \\u0411\\u0430\\u043d\\u043a (\\u0437\\u0430\\u043a\\u0440\\u044b\\u0442\\u043e\\u0435 \\u0430\\u043a\\u0446\\u0438\\u043e\\u043d\\u0435\\u0440\\u043d\\u043e\\u0435 \\u043e\\u0431\\u0449\\u0435\\u0441\\u0442\\u0432\\u043e) \\u041c\\u043e\\u0441\\u043a\\u0432\\u0430 , www.tcsbank.ru/ \\u0424\\u0438\\u043d\\u0430\\u043d\\u0441\\u043e\\u0432\\u044b\\u0439 \\u0441\\u0435\\u043a\\u0442\\u043e\\u0440 ... \\u0411\\u0430\\u043d\\u043a \\u0421\\u043f\\u0435\\u0446\\u0438\\u0430\\u043b\\u0438\\u0441\\u0442 \\u043e\\u0442\\u0434\\u0435\\u043b\\u0430 \\u0432\\u0445\\u043e\\u0434\\u044f\\u0449\\u0438\\u0445 \\u043e\\u0431\\u0440\\u0430\\u0449\\u0435\\u043d\\u0438\\u0439 \\u043f\\u043e\\u0434\\u0434\\u0435\\u0440\\u0436\\u043a\\u0430 \\u043a\\u0440\\u0435\\u0434\\u0438\\u0442\\u043d\\u044b\\u0445 \\u043a\\u043b\\u0438\\u0435\\u043d\\u0442\\u043e\\u0432, \\u0432 \\u0442\\u043e\\u043c \\u0447\\u0438\\u0441\\u043b\\u0435 \\u0430\\u043d\\u0433\\u043b\\u043e\\u0433\\u043e\\u0432\\u043e\\u0440\\u044f\\u0449\\u0438\\u0445, \\u0440\\u0435\\u0448\\u0435\\u043d\\u0438\\u0435 \\u0432\\u043e\\u043f\\u0440\\u043e\\u0441\\u043e\\u0432 \\u0438 \\u043a\\u043e\\u043d\\u0444\\u043b\\u0438\\u043a\\u0442\\u043d\\u044b\\u0445 \\u0441\\u0438\\u0442\\u0443\\u0430\\u0446\\u0438\\u0439, \\u043e\\u0431\\u044a\\u044f\\u0441\\u043d\\u0435\\u043d\\u0438\\u044f \\u0442\\u0430\\u0440\\u0438\\u0444\\u043d\\u044b\\u0445 \\u043f\\u043b\\u0430\\u043d\\u043e\\u0432, \\u043f\\u0440\\u0430\\u0432\\u0438\\u043b \\u043f\\u043e\\u043b\\u044c\\u0437\\u043e\\u0432\\u0430\\u043d\\u0438\\u044f \\u043a\\u0440\\u0435\\u0434\\u0438\\u0442\\u043d\\u044b\\u043c\\u0438 \\u043a\\u0430\\u0440\\u0442\\u0430\\u043c\\u0438, \\u043f\\u0440\\u0435\\u0434\\u043b\\u043e\\u0436\\u0435\\u043d\\u0438\\u044f \\u043e\\u0444\\u043e\\u0440\\u043c\\u0438\\u0442\\u044c \\u043a\\u0430\\u0440\\u0442\\u044b, \\u043d\\u0435\\u043f\\u043e\\u0441\\u0440\\u0435\\u0434\\u0441\\u0442\\u0432\\u0435\\u043d\\u043d\\u043e \\u043e\\u0444\\u043e\\u0440\\u043c\\u043b\\u0435\\u043d\\u0438\\u0435 \\u0438 \\u043f\\u0440\\u0438\\u043d\\u044f\\u0442\\u0438\\u0435 \\u0437\\u0430\\u044f\\u0432\\u043e\\u043a \\u043d\\u0430 \\u043a\\u0440\\u0435\\u0434\\u0438\\u0442\\u043d\\u044b\\u0435 \\u043a\\u0430\\u0440\\u0442\\u044b  \\u0424\\u0435\\u0432\\u0440\\u0430\\u043b\\u044c 2007 \\u2014 \\u0421\\u0435\\u043d\\u0442\\u044f\\u0431\\u0440\\u044c  2007 8 \\u043c\\u0435\\u0441\\u044f\\u0446\\u0435\\u0432 \\u041e\\u041e\\u041e \\\"\\u0418\\u043d\\u0442\\u0430\\u043b\\u044d\\u043a\\u0441\\\" \\u041c\\u043e\\u0441\\u043a\\u0432\\u0430 \\u0421\\u0442\\u0440\\u043e\\u0438\\u0442\\u0435\\u043b\\u044c\\u0441\\u0442\\u0432\\u043e, \\u043d\\u0435\\u0434\\u0432\\u0438\\u0436\\u0438\\u043c\\u043e\\u0441\\u0442\\u044c, \\u044d\\u043a\\u0441\\u043f\\u043b\\u0443\\u0430\\u0442\\u0430\\u0446\\u0438\\u044f, \\u043f\\u0440\\u043e\\u0435\\u043a\\u0442\\u0438\\u0440\\u043e\\u0432\\u0430\\u043d\\u0438\\u0435 ... \\u0423\\u043f\\u0440\\u0430\\u0432\\u043b\\u0435\\u043d\\u0438\\u0435 \\u0438 \\u044d\\u043a\\u0441\\u043f\\u043b\\u0443\\u0430\\u0442\\u0430\\u0446\\u0438\\u044f \\u043d\\u0435\\u0434\\u0432\\u0438\\u0436\\u0438\\u043c\\u043e\\u0441\\u0442\\u0438 \\u041f\\u0440\\u043e\\u0438\\u0437\\u0432\\u043e\\u0434\\u0438\\u0442\\u0435\\u043b\\u044c \\u0440\\u0430\\u0431\\u043e\\u0442 \\u0432\\u0435\\u0434\\u0435\\u043d\\u0438\\u0435 \\u043f\\u0440\\u043e\\u0435\\u043a\\u0442\\u043d\\u043e\\u0439 \\u0434\\u043e\\u043a\\u0443\\u043c\\u0435\\u043d\\u0442\\u0430\\u0446\\u0438\\u0438, \\u043e\\u0431\\u0449\\u0435\\u043d\\u0438\\u0435 \\u0441 \\u043f\\u043e\\u0434\\u0440\\u044f\\u0434\\u0447\\u0438\\u043a\\u0430\\u043c\\u0438, \\u043a\\u043e\\u043d\\u0442\\u0440\\u043e\\u043b\\u044c \\u0437\\u0430 \\u043f\\u0440\\u043e\\u0432\\u0435\\u0434\\u0435\\u043d\\u0438\\u0435\\u043c \\u0440\\u0430\\u0431\\u043e\\u0442 \\u043e\\u0431\\u0441\\u043b\\u0443\\u0436\\u0438\\u0432\\u0430\\u044e\\u0449\\u0435\\u0433\\u043e \\u043f\\u0435\\u0440\\u0441\\u043e\\u043d\\u0430\\u043b\\u0430 \\u0438 \\u043f\\u043e\\u0434\\u0440\\u044f\\u0434\\u0447\\u0438\\u043a\\u043e\\u0432\"\n        ],\n        \"semantic_type\": \"\",\n        \"description\": \"\"\n      }\n    },\n    {\n      \"column\": \"\\u041f\\u043e\\u0441\\u043b\\u0435\\u0434\\u043d\\u0435\\u0435/\\u043d\\u044b\\u043d\\u0435\\u0448\\u043d\\u0435\\u0435 \\u043c\\u0435\\u0441\\u0442\\u043e \\u0440\\u0430\\u0431\\u043e\\u0442\\u044b\",\n      \"properties\": {\n        \"dtype\": \"string\",\n        \"num_unique_values\": 30214,\n        \"samples\": [\n          \"\\u0410\\u041e \\\"\\u0413\\u0430\\u0437\\u043f\\u0440\\u043e\\u043c \\u0433\\u0430\\u0437\\u043e\\u0440\\u0430\\u0441\\u043f\\u0440\\u0435\\u0434\\u0435\\u043b\\u0435\\u043d\\u0438\\u0435 \\u041a\\u0440\\u0430\\u0441\\u043d\\u043e\\u0434\\u0430\\u0440\\\"\",\n          \"\\u041e\\u0431\\u0443\\u0432\\u044c \\u0420\\u043e\\u0441\\u0441\\u0438\\u0438, \\u0413\\u041a\",\n          \"\\u0411\\u0435\\u043b\\u0430\\u044f \\u041b\\u0430\\u0434\\u044c\\u044f\"\n        ],\n        \"semantic_type\": \"\",\n        \"description\": \"\"\n      }\n    },\n    {\n      \"column\": \"\\u041f\\u043e\\u0441\\u043b\\u0435\\u0434\\u043d\\u044f\\u044f/\\u043d\\u044b\\u043d\\u0435\\u0448\\u043d\\u044f\\u044f \\u0434\\u043e\\u043b\\u0436\\u043d\\u043e\\u0441\\u0442\\u044c\",\n      \"properties\": {\n        \"dtype\": \"category\",\n        \"num_unique_values\": 16927,\n        \"samples\": [\n          \"\\u0417\\u0430\\u043c\\u0435\\u0441\\u0442\\u0438\\u0442\\u0435\\u043b\\u044c \\u0440\\u0443\\u043a\\u043e\\u0432\\u043e\\u0434\\u0438\\u0442\\u0435\\u043b\\u044f \\u0441\\u0430\\u043b\\u043e\\u043d\\u0430\",\n          \"\\u041c\\u0435\\u043d\\u0435\\u0434\\u0436\\u0435\\u0440 \\u043f\\u043e \\u0440\\u0430\\u0431\\u043e\\u0442\\u0435 \\u0441 \\u043a\\u043b\\u0438\\u0435\\u043d\\u0442\\u0430\\u043c\\u0438 \\u043e\\u0442\\u0434\\u0435\\u043b\\u0430 \\u043a\\u043e\\u0440\\u043f\\u043e\\u0440\\u0430\\u0442\\u0438\\u0432\\u043d\\u043e\\u0433\\u043e \\u0440\\u0430\\u0437\\u0432\\u0438\\u0442\\u0438\\u044f \\u0438 \\u0430\\u0431\\u043e\\u043d\\u0435\\u043d\\u0442\\u0441\\u043a\\u043e\\u0433\\u043e \\u043e\\u0431\\u0441\\u043b\\u0443\\u0436\\u0438\\u0432\\u0430\\u043d\\u0438\\u044f\",\n          \"\\u0412\\u0435\\u0434\\u0443\\u0449\\u0438\\u0439 \\u0441\\u043f\\u0435\\u0446\\u0438\\u0430\\u043b\\u0441\\u0438\\u0442\"\n        ],\n        \"semantic_type\": \"\",\n        \"description\": \"\"\n      }\n    },\n    {\n      \"column\": \"\\u041e\\u0431\\u043d\\u043e\\u0432\\u043b\\u0435\\u043d\\u0438\\u0435 \\u0440\\u0435\\u0437\\u044e\\u043c\\u0435\",\n      \"properties\": {\n        \"dtype\": \"object\",\n        \"num_unique_values\": 18838,\n        \"samples\": [\n          \"16.04.2019 21:43\",\n          \"09.04.2019 12:38\",\n          \"26.04.2019 06:51\"\n        ],\n        \"semantic_type\": \"\",\n        \"description\": \"\"\n      }\n    },\n    {\n      \"column\": \"\\u0410\\u0432\\u0442\\u043e\",\n      \"properties\": {\n        \"dtype\": \"category\",\n        \"num_unique_values\": 2,\n        \"samples\": [\n          \"\\u041d\\u0435 \\u0443\\u043a\\u0430\\u0437\\u0430\\u043d\\u043e\",\n          \"\\u0418\\u043c\\u0435\\u0435\\u0442\\u0441\\u044f \\u0441\\u043e\\u0431\\u0441\\u0442\\u0432\\u0435\\u043d\\u043d\\u044b\\u0439 \\u0430\\u0432\\u0442\\u043e\\u043c\\u043e\\u0431\\u0438\\u043b\\u044c\"\n        ],\n        \"semantic_type\": \"\",\n        \"description\": \"\"\n      }\n    },\n    {\n      \"column\": \"\\u041e\\u0431\\u0440\\u0430\\u0437\\u043e\\u0432\\u0430\\u043d\\u0438\\u0435\",\n      \"properties\": {\n        \"dtype\": \"category\",\n        \"num_unique_values\": 4,\n        \"samples\": [\n          \"\\u0432\\u044b\\u0441\\u0448\\u0435\\u0435\",\n          \"\\u0441\\u0440\\u0435\\u0434\\u043d\\u0435\\u0435\"\n        ],\n        \"semantic_type\": \"\",\n        \"description\": \"\"\n      }\n    }\n  ]\n}"
            }
          },
          "metadata": {},
          "execution_count": 9
        }
      ],
      "source": [
        "#ваш код здесь\n",
        "def get_education(education):\n",
        "  education = education.lower()\n",
        "  education_spl = education.split(' ')\n",
        "\n",
        "  if education_spl[0] == 'высшее':\n",
        "      return 'высшее'\n",
        "  elif education_spl[0] == 'неоконченное':\n",
        "      return 'неоконченное высшее'\n",
        "  elif education_spl[1] == 'специальное':\n",
        "      return 'среднее специальное'\n",
        "  elif education_spl[0] == 'среднее':\n",
        "      return 'среднее'\n",
        "\n",
        "df = data.copy()\n",
        "df['Образование'] = df['Образование и ВУЗ'].apply(get_education)\n",
        "df.drop(['Образование и ВУЗ'], axis=1)"
      ]
    },
    {
      "cell_type": "markdown",
      "id": "4266f0b6-1646-492a-88b4-2f6a46502135",
      "metadata": {
        "id": "4266f0b6-1646-492a-88b4-2f6a46502135"
      },
      "source": [
        "2. Теперь нас интересует столбец **\"Пол, возраст\"**. Сейчас он представлен в формате **<Пол , возраст , дата рождения >**. Например:\n",
        "* Мужчина , 39 лет , родился 27 ноября 1979\n",
        "* Женщина , 21 год , родилась 13 января 2000\n",
        "Как вы понимаете, нам необходимо выделить каждый параметр в отдельный столбец.\n",
        "\n",
        "Создайте два новых признака **\"Пол\"** и **\"Возраст\"**. При этом важно учесть:\n",
        "* Признак пола должен иметь 2 уникальных строковых значения: 'М' - мужчина, 'Ж' - женщина.\n",
        "* Признак возраста должен быть представлен целыми числами.\n",
        "\n",
        "Выполните преобразование, ответьте на контрольные вопросы и удалите признак **\"Пол, возраст\"** из таблицы.\n",
        "\n",
        "*Совет: обратите внимание на структуру текста в столбце, в части на то, как разделены параметры пола, возраста и даты рождения между собой - символом ' , '.\n",
        "Гарантируется, что структура одинакова для всех строк в таблице. Вы можете воспользоваться этим.*\n"
      ]
    },
    {
      "cell_type": "code",
      "execution_count": 10,
      "id": "0c44b350-72eb-4d65-8b54-a1fc449ba9fd",
      "metadata": {
        "colab": {
          "base_uri": "https://localhost:8080/"
        },
        "id": "0c44b350-72eb-4d65-8b54-a1fc449ba9fd",
        "outputId": "26a5885b-da0a-48ae-b5df-116d6b92275c"
      },
      "outputs": [
        {
          "output_type": "stream",
          "name": "stdout",
          "text": [
            "19.07\n",
            "32.2\n"
          ]
        }
      ],
      "source": [
        "#ваш код здесь\n",
        "df['Пол'] = df['Пол, возраст'].apply(lambda x: x.split(',')[0][0])\n",
        "df['Возраст'] = df['Пол, возраст'].apply(lambda x: int(x.split(',')[1][0:5]))\n",
        "\n",
        "df.drop(\"Пол, возраст\", axis=1, inplace=True)\n",
        "\n",
        "print(round(df['Пол'].value_counts(normalize=True)[1]*100, 2))\n",
        "print(round(df['Возраст'].mean(), 1))"
      ]
    },
    {
      "cell_type": "markdown",
      "id": "635c4d5d-f323-4c66-b428-50a088120aa0",
      "metadata": {
        "id": "635c4d5d-f323-4c66-b428-50a088120aa0"
      },
      "source": [
        "3. Следующим этапом преобразуем признак **\"Опыт работы\"**. Его текущий формат - это: **<Опыт работы: n лет m месяцев, периоды работы в различных компаниях…>**.\n",
        "\n",
        "Из столбца нам необходимо выделить общий опыт работы соискателя в месяцах, новый признак назовем \"Опыт работы (месяц)\"\n",
        "\n",
        "Для начала обсудим условия решения задачи:\n",
        "* Во-первых, в данном признаке есть пропуски. Условимся, что если мы встречаем пропуск, оставляем его как есть (функция-преобразование возвращает NaN)\n",
        "* Во-вторых, в данном признаке есть скрытые пропуски. Для некоторых соискателей в столбце стоит значения \"Не указано\". Их тоже обозначим как NaN (функция-преобразование возвращает NaN)\n",
        "* В-третьих, нас не интересует информация, которая описывается после указания опыта работы (периоды работы в различных компаниях)\n",
        "* В-четвертых, у нас есть проблема: опыт работы может быть представлен только в годах или только месяцах. Например, можно встретить следующие варианты:\n",
        "    * Опыт работы 3 года 2 месяца…\n",
        "    * Опыт работы 4 года…\n",
        "    * Опыт работы 11 месяцев…\n",
        "    * Учитывайте эту особенность в вашем коде\n",
        "\n",
        "Учитывайте эту особенность в вашем коде\n",
        "\n",
        "В результате преобразования у вас должен получиться столбец, содержащий информацию о том, сколько месяцев проработал соискатель.\n",
        "Выполните преобразование, ответьте на контрольные вопросы и удалите столбец **\"Опыт работы\"** из таблицы.\n"
      ]
    },
    {
      "cell_type": "code",
      "execution_count": 11,
      "id": "603cdbe4-0ec3-4106-8eaf-c73fcdd29165",
      "metadata": {
        "id": "603cdbe4-0ec3-4106-8eaf-c73fcdd29165"
      },
      "outputs": [],
      "source": [
        "#ваш код здесь\n",
        "def get_experience(i):\n",
        "  year_list = ['лет', 'года', 'год']\n",
        "  month_list = ['месяц', 'месяца', 'месяцев']\n",
        "  result_year = 0\n",
        "  result_month = 0\n",
        "  if i == \"Не указано\" or i is np.nan:\n",
        "      return np.nan\n",
        "  else:\n",
        "      i = i.split(' ')\n",
        "      for num in range(6):\n",
        "          if i[num] in year_list:\n",
        "              result_year = int(i[num-1])\n",
        "          elif i[num] in month_list:\n",
        "              result_month = int(i[num-1])\n",
        "          else:\n",
        "              continue\n",
        "\n",
        "  return result_year*12 + result_month\n",
        "\n",
        "df['Опыт работы (месяц)'] = df['Опыт работы'].apply(get_experience)\n",
        "hh_data_copy = df.drop(['Опыт работы'], axis=1)"
      ]
    },
    {
      "cell_type": "code",
      "source": [
        "print(f\"{df['Опыт работы (месяц)'].median()}\")"
      ],
      "metadata": {
        "colab": {
          "base_uri": "https://localhost:8080/"
        },
        "id": "XCDpWDpr_WfQ",
        "outputId": "e6e6d386-9fdf-4685-969a-ac6042819e06"
      },
      "id": "XCDpWDpr_WfQ",
      "execution_count": 12,
      "outputs": [
        {
          "output_type": "stream",
          "name": "stdout",
          "text": [
            "100.0\n"
          ]
        }
      ]
    },
    {
      "cell_type": "markdown",
      "id": "f3fdaec9-5fd3-4260-9cf5-1d7406b628a5",
      "metadata": {
        "id": "f3fdaec9-5fd3-4260-9cf5-1d7406b628a5"
      },
      "source": [
        "4. Хорошо идем! Следующий на очереди признак \"Город, переезд, командировки\". Информация в нем представлена в следующем виде: **<Город , (метро) , готовность к переезду (города для переезда) , готовность к командировкам>**. В скобках указаны необязательные параметры строки. Например, можно встретить следующие варианты:\n",
        "\n",
        "* Москва , не готов к переезду , готов к командировкам\n",
        "* Москва , м. Беломорская , не готов к переезду, не готов к командировкам\n",
        "* Воронеж , готов к переезду (Сочи, Москва, Санкт-Петербург) , готов к командировкам\n",
        "\n",
        "Создадим отдельные признаки **\"Город\"**, **\"Готовность к переезду\"**, **\"Готовность к командировкам\"**. При этом важно учесть:\n",
        "\n",
        "* Признак **\"Город\"** должен содержать только 4 категории: \"Москва\", \"Санкт-Петербург\" и \"город-миллионник\" (их список ниже), остальные обозначьте как \"другие\".\n",
        "\n",
        "    Список городов-миллионников:\n",
        "    \n",
        "   <code>million_cities = ['Новосибирск', 'Екатеринбург','Нижний Новгород','Казань', 'Челябинск','Омск', 'Самара', 'Ростов-на-Дону', 'Уфа', 'Красноярск', 'Пермь', 'Воронеж','Волгоград']\n",
        "    </code>\n",
        "    Инфорация о метро, рядом с которым проживает соискатель нас не интересует.\n",
        "* Признак **\"Готовность к переезду\"** должен иметь два возможных варианта: True или False. Обратите внимание, что возможны несколько вариантов описания готовности к переезду в признаке \"Город, переезд, командировки\". Например:\n",
        "    * … , готов к переезду , …\n",
        "    * … , не готова к переезду , …\n",
        "    * … , готова к переезду (Москва, Санкт-Петербург, Ростов-на-Дону)\n",
        "    * … , хочу переехать (США) , …\n",
        "    \n",
        "    Нас интересует только сам факт возможности или желания переезда.\n",
        "* Признак **\"Готовность к командировкам\"** должен иметь два возможных варианта: True или False. Обратите внимание, что возможны несколько вариантов описания готовности к командировкам в признаке \"Город, переезд, командировки\". Например:\n",
        "    * … , готов к командировкам , …\n",
        "    * … , готова к редким командировкам , …\n",
        "    * … , не готов к командировкам , …\n",
        "    \n",
        "    Нас интересует только сам факт готовности к командировке.\n",
        "    \n",
        "    Еще один важный факт: при выгрузки данных у некоторых соискателей \"потерялась\" информация о готовности к командировкам. Давайте по умолчанию будем считать, что такие соискатели не готовы к командировкам.\n",
        "    \n",
        "Выполните преобразования и удалите столбец **\"Город, переезд, командировки\"** из таблицы.\n",
        "\n",
        "*Совет: обратите внимание на то, что структура текста может меняться в зависимости от указания ближайшего метро. Учите это, если будете использовать порядок слов в своей программе.*\n"
      ]
    },
    {
      "cell_type": "code",
      "execution_count": 13,
      "id": "1ea710ec-871b-431e-9462-c7d0fd87011b",
      "metadata": {
        "id": "1ea710ec-871b-431e-9462-c7d0fd87011b"
      },
      "outputs": [],
      "source": [
        "#ваш код здесь\n",
        "def get_city(i):\n",
        "  million_cities = [\n",
        "        'Новосибирск', 'Екатеринбург','Нижний Новгород',\n",
        "        'Казань', 'Челябинск','Омск', 'Самара', 'Ростов-на-Дону',\n",
        "        'Уфа', 'Красноярск', 'Пермь', 'Воронеж','Волгоград'\n",
        "        ]\n",
        "  i = i.split(' ')\n",
        "  if i[0] == 'Москва':\n",
        "      return 'Москва'\n",
        "  elif i[0] == 'Санкт-Петербург':\n",
        "      return 'Санкт-Петербург'\n",
        "  elif i[0] in million_cities:\n",
        "      return 'город-миллионник'\n",
        "  else:\n",
        "      return 'другие'\n",
        "\n",
        "def get_can_relocate(i):\n",
        "    string_with_relocate = [z for z in i.split(\",\") if \"перее\" in z][0]\n",
        "    return \"не\" not in string_with_relocate\n",
        "\n",
        "def get_business_trip(i):\n",
        "  relocate = [z for z in i.split(\",\") if \"командировк\" in z]\n",
        "  if len(relocate) == 0:\n",
        "      return False\n",
        "  return \"не\" not in relocate[0]\n",
        "\n",
        "df[\"Город\"] = df[\"Город, переезд, командировки\"].apply(get_city)\n",
        "df[\"Готовность к переезду\"] = df[\"Город, переезд, командировки\"].apply(get_can_relocate)\n",
        "df[\"Готовность к командировкам\"] = df[\"Город, переезд, командировки\"].apply(get_business_trip)\n",
        "town = df[\"Город, переезд, командировки\"]\n",
        "\n",
        "df.drop(\"Город, переезд, командировки\", axis=1, inplace=True)"
      ]
    },
    {
      "cell_type": "code",
      "source": [
        "(df[\"Город\"] == \"Санкт-Петербург\").mean() * 100"
      ],
      "metadata": {
        "colab": {
          "base_uri": "https://localhost:8080/"
        },
        "id": "a2hGU81vC3oc",
        "outputId": "df0da633-b657-43ff-b338-b431b2d2650f"
      },
      "id": "a2hGU81vC3oc",
      "execution_count": 14,
      "outputs": [
        {
          "output_type": "execute_result",
          "data": {
            "text/plain": [
              "11.033881637761487"
            ]
          },
          "metadata": {},
          "execution_count": 14
        }
      ]
    },
    {
      "cell_type": "code",
      "source": [
        "(df[\"Готовность к командировкам\"] & df[\"Готовность к переезду\"]).mean() * 100"
      ],
      "metadata": {
        "colab": {
          "base_uri": "https://localhost:8080/"
        },
        "id": "fvGwe10cDCag",
        "outputId": "c0789274-3b86-4b96-da87-dbd5811bdf72"
      },
      "id": "fvGwe10cDCag",
      "execution_count": 15,
      "outputs": [
        {
          "output_type": "execute_result",
          "data": {
            "text/plain": [
              "31.818791346325764"
            ]
          },
          "metadata": {},
          "execution_count": 15
        }
      ]
    },
    {
      "cell_type": "markdown",
      "id": "0136ffee-0ead-4a6b-b608-61d1c753a438",
      "metadata": {
        "id": "0136ffee-0ead-4a6b-b608-61d1c753a438"
      },
      "source": [
        "5. Рассмотрим поближе признаки **\"Занятость\"** и **\"График\"**. Сейчас признаки представляют собой набор категорий желаемой занятости (полная занятость, частичная занятость, проектная работа, волонтерство, стажировка) и желаемого графика работы (полный день, сменный график, гибкий график, удаленная работа, вахтовый метод).\n",
        "На сайте hh.ru соискатель может указывать различные комбинации данных категорий, например:\n",
        "* полная занятость, частичная занятость\n",
        "* частичная занятость, проектная работа, волонтерство\n",
        "* полный день, удаленная работа\n",
        "* вахтовый метод, гибкий график, удаленная работа, полная занятость\n",
        "\n",
        "Такой вариант признаков имеет множество различных комбинаций, а значит множество уникальных значений, что мешает анализу. Нужно это исправить!\n",
        "\n",
        "Давайте создадим признаки-мигалки для каждой категории: если категория присутствует в списке желаемых соискателем, то в столбце на месте строки рассматриваемого соискателя ставится True, иначе - False.\n",
        "\n",
        "Такой метод преобразования категориальных признаков называется One Hot Encoding и его схема представлена на рисунке ниже:\n",
        "<img src=https://raw.githubusercontent.com/AndreyRysistov/DatasetsForPandas/main/ohe.jpg>\n",
        "Выполните данное преобразование для признаков \"Занятость\" и \"График\", ответьте на контрольные вопросы, после чего удалите их из таблицы"
      ]
    },
    {
      "cell_type": "code",
      "execution_count": 16,
      "id": "5b3a8e79-f7ab-4008-b767-12aea3a205ea",
      "metadata": {
        "id": "5b3a8e79-f7ab-4008-b767-12aea3a205ea"
      },
      "outputs": [],
      "source": [
        "#ваш код здесь\n",
        "df['полная занятость'] = df['Занятость'].apply(lambda x: True if 'полная занятость' in x else False)\n",
        "df['частичная занятость'] = df['Занятость'].apply(lambda x: True if 'частичная занятость' in x else False)\n",
        "df['проектная работа'] = df['Занятость'].apply(lambda x: True if 'проектная работа' in x else False)\n",
        "df['волонтерство'] = df['Занятость'].apply(lambda x: True if 'волонтерство' in x else False)\n",
        "df['стажировка'] = df['Занятость'].apply(lambda x: True if 'стажировка' in x else False)\n",
        "\n",
        "df['полный день'] = df['График'].apply(lambda x: True if 'полный день' in x else False)\n",
        "df['сменный график'] = df['График'].apply(lambda x: True if 'сменный график' in x else False)\n",
        "df['гибкий график'] = df['График'].apply(lambda x: True if 'гибкий график' in x else False)\n",
        "df['удаленная работа'] = df['График'].apply(lambda x: True if 'удаленная работа' in x else False)\n",
        "df['вахтовый метод'] = df['График'].apply(lambda x: True if 'вахтовый метод' in x else False)"
      ]
    },
    {
      "cell_type": "code",
      "source": [
        "df = df.drop(['Занятость', 'График'], axis=1)"
      ],
      "metadata": {
        "id": "CE1w0M5JDvQi"
      },
      "id": "CE1w0M5JDvQi",
      "execution_count": 17,
      "outputs": []
    },
    {
      "cell_type": "code",
      "source": [
        "np.logical_and(df[\"проектная работа\"], df[\"волонтерство\"]).sum()"
      ],
      "metadata": {
        "colab": {
          "base_uri": "https://localhost:8080/"
        },
        "id": "YL5n3U7tD-zR",
        "outputId": "ff67d248-fe36-4718-b689-7a5bb709711d"
      },
      "id": "YL5n3U7tD-zR",
      "execution_count": 18,
      "outputs": [
        {
          "output_type": "execute_result",
          "data": {
            "text/plain": [
              "436"
            ]
          },
          "metadata": {},
          "execution_count": 18
        }
      ]
    },
    {
      "cell_type": "code",
      "source": [
        "np.logical_and(df[\"вахтовый метод\"], df[\"гибкий график\"]).sum()"
      ],
      "metadata": {
        "colab": {
          "base_uri": "https://localhost:8080/"
        },
        "id": "FfDbfv5YEDoB",
        "outputId": "9e045ff9-228a-45e7-a411-6fc802672786"
      },
      "id": "FfDbfv5YEDoB",
      "execution_count": 19,
      "outputs": [
        {
          "output_type": "execute_result",
          "data": {
            "text/plain": [
              "2311"
            ]
          },
          "metadata": {},
          "execution_count": 19
        }
      ]
    },
    {
      "cell_type": "markdown",
      "id": "344f123c-b63b-43dd-a8a4-809c1f1bb443",
      "metadata": {
        "id": "344f123c-b63b-43dd-a8a4-809c1f1bb443"
      },
      "source": [
        "6. (2 балла) Наконец, мы добрались до самого главного и самого важного - признака заработной платы **\"ЗП\"**.\n",
        "В чем наша беда? В том, что помимо желаемой заработной платы соискатель указывает валюту, в которой он бы хотел ее получать, например:\n",
        "* 30000 руб.\n",
        "* 50000 грн.\n",
        "* 550 USD\n",
        "\n",
        "Нам бы хотелось видеть заработную плату в единой валюте, например, в рублях. Возникает вопрос, а где взять курс валют по отношению к рублю?\n",
        "\n",
        "На самом деле язык Python имеет в арсенале огромное количество возможностей получения данной информации, от обращения к API Центробанка, до использования специальных библиотек, например pycbrf. Однако, это не тема нашего проекта.\n",
        "\n",
        "Поэтому мы пойдем в лоб: обратимся к специальным интернет-ресурсам для получения данных о курсе в виде текстовых файлов. Например, MDF.RU, данный ресурс позволяет удобно экспортировать данные о курсах различных валют и акций за указанные периоды в виде csv файлов. Мы уже сделали выгрузку курсов валют, которые встречаются в наших данных за период с 29.12.2017 по 05.12.2019. Скачать ее вы можете **на платформе**\n",
        "\n",
        "Создайте новый DataFrame из полученного файла. В полученной таблице нас будут интересовать столбцы:\n",
        "* \"currency\" - наименование валюты в ISO кодировке,\n",
        "* \"date\" - дата,\n",
        "* \"proportion\" - пропорция,\n",
        "* \"close\" - цена закрытия (последний зафиксированный курс валюты на указанный день).\n",
        "\n",
        "\n",
        "Перед вами таблица соответствия наименований иностранных валют в наших данных и их общепринятых сокращений, которые представлены в нашем файле с курсами валют. Пропорция - это число, за сколько единиц валюты указан курс в таблице с курсами. Например, для казахстанского тенге курс на 20.08.2019 составляет 17.197 руб. за 100 тенге, тогда итоговый курс равен - 17.197 / 100 = 0.17197 руб за 1 тенге.\n",
        "Воспользуйтесь этой информацией в ваших преобразованиях.\n",
        "\n",
        "<img src=https://raw.githubusercontent.com/AndreyRysistov/DatasetsForPandas/main/table.jpg>\n",
        "\n",
        "\n",
        "Осталось только понять, откуда брать дату, по которой определяется курс? А вот же она - в признаке **\"Обновление резюме\"**, в нем содержится дата и время, когда соискатель выложил текущий вариант своего резюме. Нас интересует только дата, по ней бы и будем сопоставлять курсы валют.\n",
        "\n",
        "Теперь у нас есть вся необходимая информация для того, чтобы создать признак \"ЗП (руб)\" - заработная плата в рублях.\n",
        "\n",
        "После ответа на контрольные вопросы удалите исходный столбец заработной платы \"ЗП\" и все промежуточные столбцы, если вы их создавали."
      ]
    },
    {
      "cell_type": "markdown",
      "id": "6d794257-61f5-4124-956b-67b92b9391a7",
      "metadata": {
        "tags": [],
        "id": "6d794257-61f5-4124-956b-67b92b9391a7"
      },
      "source": [
        "Итак, давайте обсудим возможный алгоритм преобразования:\n",
        "1. Перевести признак \"Обновление резюме\" из таблицы с резюме в формат datetime и достать из него дату. В тот же формат привести признак \"date\" из таблицы с валютами.\n",
        "2. Выделить из столбца \"ЗП\" сумму желаемой заработной платы и наименование валюты, в которой она исчисляется. Наименование валюты перевести в стандарт ISO согласно с таблицей выше.\n",
        "3. Присоединить к таблице с резюме таблицу с курсами по столбцам с датой и названием валюты (подумайте, какой тип объединения надо выбрать, чтобы в таблице с резюме сохранились данные о заработной плате, изначально представленной в рублях). Значение close для рубля заполнить единицей 1 (курс рубля самого к себе)\n",
        "4. Умножить сумму желаемой заработной платы на присоединенный курс валюты (close) и разделить на пропорцию (обратите внимание на пропуски после объединения в этих столбцах), результат занести в новый столбец \"ЗП (руб)\".\n"
      ]
    },
    {
      "cell_type": "code",
      "execution_count": 21,
      "id": "e91f87ed-e25c-4f96-9f92-b642e8c0b4fa",
      "metadata": {
        "id": "e91f87ed-e25c-4f96-9f92-b642e8c0b4fa"
      },
      "outputs": [],
      "source": [
        "#ваш код здесь\n",
        "currency = pd.read_csv(\"ExchangeRates.csv\")[[\"currency\", \"date\", \"proportion\", \"close\"]]\n",
        "currency[\"true_cur\"] = currency.close / currency.proportion\n",
        "currency = currency.set_index([\"currency\", \"date\"])\n",
        "\n",
        "def get_payment_in_rubles(i):\n",
        "    summ, cur = i[\"ЗП\"].split()\n",
        "    summ = float(summ)\n",
        "\n",
        "    if cur == \"руб.\":\n",
        "        return summ\n",
        "\n",
        "    cur_name = cur_dict ={\n",
        "    'руб.':'RUB',\n",
        "    'грн.':'UAH',\n",
        "    'USD':'USD',\n",
        "    'EUR':'EUR',\n",
        "    'бел.руб.':'BYN',\n",
        "    'KGS':'KGS',\n",
        "    'сум':'UZS',\n",
        "    'AZN':'AZN',\n",
        "    'KZT':'KZT'\n",
        "    }\n",
        "\n",
        "    if cur in cur_name.keys():\n",
        "        cur = cur_name[cur]\n",
        "\n",
        "    date = datetime.strptime(i[\"Обновление резюме\"], \"%d.%m.%Y %H:%M\").strftime(\"%d/%m/%y\")\n",
        "    return currency.loc[cur, date].true_cur * summ\n",
        "\n",
        "df[\"ЗП (руб)\"] = df.apply(get_payment_in_rubles, axis=1)\n",
        "df.drop(\"ЗП\", axis=1, inplace=True)"
      ]
    },
    {
      "cell_type": "code",
      "source": [
        "round(df['ЗП (руб)'].median() / 1000)"
      ],
      "metadata": {
        "colab": {
          "base_uri": "https://localhost:8080/"
        },
        "id": "eC8NDuQpIN3i",
        "outputId": "0ee23b04-25b0-4118-e21a-35a360071647"
      },
      "id": "eC8NDuQpIN3i",
      "execution_count": 22,
      "outputs": [
        {
          "output_type": "execute_result",
          "data": {
            "text/plain": [
              "59"
            ]
          },
          "metadata": {},
          "execution_count": 22
        }
      ]
    },
    {
      "cell_type": "markdown",
      "id": "7ea20ab6-04a7-40a0-adec-443a0e5a42c3",
      "metadata": {
        "id": "7ea20ab6-04a7-40a0-adec-443a0e5a42c3"
      },
      "source": [
        "# Исследование зависимостей в данных"
      ]
    },
    {
      "cell_type": "markdown",
      "id": "968aed80-74ef-4ffb-b5bf-c65b84e9caea",
      "metadata": {
        "id": "968aed80-74ef-4ffb-b5bf-c65b84e9caea"
      },
      "source": [
        "1. Постройте распределение признака **\"Возраст\"**. Опишите распределение, отвечая на следующие вопросы: чему равна мода распределения, каковы предельные значения признака, в каком примерном интервале находится возраст большинства соискателей? Есть ли аномалии для признака возраста, какие значения вы бы причислили к их числу?\n",
        "*Совет: постройте гистограмму и коробчатую диаграмму рядом.*"
      ]
    },
    {
      "cell_type": "code",
      "execution_count": 25,
      "id": "f2d62796-d400-4ec1-a675-88112739a50e",
      "metadata": {
        "colab": {
          "base_uri": "https://localhost:8080/",
          "height": 407
        },
        "id": "f2d62796-d400-4ec1-a675-88112739a50e",
        "outputId": "fccf14dd-dc2e-462a-ed43-c4113dcc9a7a"
      },
      "outputs": [
        {
          "output_type": "display_data",
          "data": {
            "text/plain": [
              "<Figure size 1000x400 with 2 Axes>"
            ],
            "image/png": "[encoded data removed]"
          },
          "metadata": {}
        }
      ],
      "source": [
        "# ваш код здесь\n",
        "fig, ax = plt.subplots(1, 2, figsize=(10, 4))\n",
        "\n",
        "sns.histplot(df['Возраст'], bins=20, kde=True, ax=ax[0])\n",
        "ax[0].set_title('Гистограмма распределения возраста')\n",
        "\n",
        "sns.boxplot(x=df['Возраст'], ax=ax[1])\n",
        "ax[1].set_title('Коробчатая диаграмма распределения возраста')\n",
        "\n",
        "plt.tight_layout()\n",
        "plt.show()"
      ]
    },
    {
      "cell_type": "markdown",
      "id": "88967466-5070-4bea-9e71-b3efefdc6e4a",
      "metadata": {
        "id": "88967466-5070-4bea-9e71-b3efefdc6e4a"
      },
      "source": [
        "ваши выводы по графику здесь\n",
        "\n",
        "> Добавить блок с цитатой\n",
        "\n",
        "В целом, распределение возраста характеризуется асимметрией с вытянутым \"хвостом\" вправо.\n",
        "Мода распределения определяется по самому высокому пику на гистограмме, который находится около 30 лет. Пределы возраста колеблются примерно от 14 до 100 лет. Если рассматривать значения справа от максимума коробчатой диаграммы как выбросы, то они достигают до 55 лет.\n",
        "Основная часть соискателей находится в интервале возраста от 20 до 40 лет, что отображается в \"коробке\" коробчатой диаграммы, представляющей интерквартильный размах.\n",
        "Значения, выходящие за пределы 50 на коробчатой диаграмме, могут рассматриваться как аномальные, но лучше ограничить их значениями меньше 80, чтобы улучшить обобщающую способность модели.\n",
        "\n"
      ]
    },
    {
      "cell_type": "code",
      "source": [
        "df[\"Возраст\"].mode()[0]"
      ],
      "metadata": {
        "colab": {
          "base_uri": "https://localhost:8080/"
        },
        "id": "lvZ6xXe7J6wE",
        "outputId": "0712f0ec-4644-45e5-cca1-0298a3ac0ef9"
      },
      "id": "lvZ6xXe7J6wE",
      "execution_count": 26,
      "outputs": [
        {
          "output_type": "execute_result",
          "data": {
            "text/plain": [
              "30"
            ]
          },
          "metadata": {},
          "execution_count": 26
        }
      ]
    },
    {
      "cell_type": "markdown",
      "id": "68377cfc-b378-43dc-ab7d-1195abf2c515",
      "metadata": {
        "id": "68377cfc-b378-43dc-ab7d-1195abf2c515"
      },
      "source": [
        "2. Постройте распределение признака **\"Опыт работы (месяц)\"**. Опишите данное распределение, отвечая на следующие вопросы: чему равна мода распределения, каковы предельные значения признака, в каком примерном интервале находится опыт работы большинства соискателей? Есть ли аномалии для признака опыта работы, какие значения вы бы причислили к их числу?\n",
        "*Совет: постройте гистограмму и коробчатую диаграмму рядом.*"
      ]
    },
    {
      "cell_type": "code",
      "execution_count": 28,
      "id": "dd7df27a-e3e8-412e-a21a-5d389b71e891",
      "metadata": {
        "colab": {
          "base_uri": "https://localhost:8080/",
          "height": 367
        },
        "id": "dd7df27a-e3e8-412e-a21a-5d389b71e891",
        "outputId": "2b81bee8-3f64-4ecb-e746-3f3b278e2f69"
      },
      "outputs": [
        {
          "output_type": "display_data",
          "data": {
            "text/plain": [
              "<Figure size 1300x400 with 2 Axes>"
            ],
            "image/png": "[encoded data removed]"
          },
          "metadata": {}
        }
      ],
      "source": [
        "# ваш код здесь\n",
        "fig, ax = plt.subplots(1, 2, figsize=(13, 4))\n",
        "\n",
        "sns.histplot(df['Опыт работы (месяц)'], bins=20, kde=True, ax=ax[0])\n",
        "ax[0].set_title('Гистограмма распределения опыта работы в месяцах')\n",
        "\n",
        "sns.boxplot(x=df['Опыт работы (месяц)'], ax=ax[1])\n",
        "ax[1].set_title('Коробчатая диаграмма распределения опыта работы в месяцах')\n",
        "\n",
        "plt.tight_layout()\n",
        "plt.show()"
      ]
    },
    {
      "cell_type": "markdown",
      "id": "7305c34b-089d-4986-be9f-5fa1c0ee281c",
      "metadata": {
        "id": "7305c34b-089d-4986-be9f-5fa1c0ee281c"
      },
      "source": [
        "ваши выводы здесь\n",
        "\n",
        "Средняя продолжительность опыта работы составляет 96 месяцев, что является модой распределения. Из анализа коробчатой диаграммы следует, что основная часть данных сконцентрирована в интервале приблизительно от 0 до 250 месяцев. Тем не менее, встречаются отдельные точки, превышающие этот диапазон значительно, с некоторыми достигающими более 250 месяцев. Если исключить необычные значения, такие как 100 лет опыта, весь спектр данных охватывает период до 700 месяцев.\n",
        "\n",
        "На основе коробчатой диаграммы можно сделать вывод, что большинство значений находится в диапазоне от 50 до 150 месяцев. Значения, превышающие 300 месяцев, можно считать аномальными. Особенно выделяются точки, превышающие 1000 месяцев, что сильно выбивается из обычного опыта работы и, вероятно, является результатом ошибок в данных."
      ]
    },
    {
      "cell_type": "code",
      "source": [
        "df[\"Опыт работы (месяц)\"].mode()[0]"
      ],
      "metadata": {
        "colab": {
          "base_uri": "https://localhost:8080/"
        },
        "id": "aadmtNk4NLPa",
        "outputId": "eb284867-6cf2-4f15-bb86-091737f84603"
      },
      "id": "aadmtNk4NLPa",
      "execution_count": 31,
      "outputs": [
        {
          "output_type": "execute_result",
          "data": {
            "text/plain": [
              "81.0"
            ]
          },
          "metadata": {},
          "execution_count": 31
        }
      ]
    },
    {
      "cell_type": "markdown",
      "id": "f2fe0acb-ab1a-4e15-9326-2560e22d73c1",
      "metadata": {
        "id": "f2fe0acb-ab1a-4e15-9326-2560e22d73c1"
      },
      "source": [
        "3. Постройте распределение признака **\"ЗП (руб)\"**. Опишите данное распределение, отвечая на следующие вопросы: каковы предельные значения признака, в каком примерном интервале находится заработная плата большинства соискателей? Есть ли аномалии для признака возраста? Обратите внимание на гигантские размеры желаемой заработной платы.\n",
        "*Совет: постройте гистограмму и коробчатую диаграмму рядом.*\n"
      ]
    },
    {
      "cell_type": "code",
      "execution_count": 30,
      "id": "6271f8ad-bd2e-4196-ae4a-5b39c4c1010e",
      "metadata": {
        "colab": {
          "base_uri": "https://localhost:8080/",
          "height": 320
        },
        "id": "6271f8ad-bd2e-4196-ae4a-5b39c4c1010e",
        "outputId": "80b76cbb-632e-4d64-c68c-f3f3841baa9d"
      },
      "outputs": [
        {
          "output_type": "display_data",
          "data": {
            "text/plain": [
              "<Figure size 1500x400 with 2 Axes>"
            ],
            "image/png": "[encoded data removed]"
          },
          "metadata": {}
        }
      ],
      "source": [
        "# ваш код здесь\n",
        "fig, ax = plt.subplots(1, 2, figsize=(15, 4))\n",
        "\n",
        "sns.histplot(df['ЗП (руб)'], bins=20, kde=True, ax=ax[0], log_scale=True)\n",
        "ax[0].set_title('Гистограмма распределения ожидаемой зарплаты в рублях')\n",
        "\n",
        "sns.boxplot(x=df['ЗП (руб)'], ax=ax[1])\n",
        "ax[1].set_title('Коробчатая диаграмма распределения ожидаемой зарплаты в рублях')\n",
        "ax[1].set_xscale(\"log\")\n",
        "\n",
        "plt.tight_layout()\n",
        "plt.show()"
      ]
    },
    {
      "cell_type": "markdown",
      "id": "6c39ca13-225e-48f7-a85c-ab07a6cc852a",
      "metadata": {
        "id": "6c39ca13-225e-48f7-a85c-ab07a6cc852a"
      },
      "source": [
        "ваши выводы здесь\n",
        "\n",
        "Без учета выбросов, предельные значения признака составляют от 1 до 24 миллионов рублей.\n",
        "Основная часть значений находится в диапазоне от 40 000 до 100 000 рублей.\n",
        "Наблюдается значительное количество аномально высоких значений, превышающих 250 000 рублей, которые следует рассматривать как выбросы в данном контексте."
      ]
    },
    {
      "cell_type": "code",
      "source": [
        "np.percentile(df['ЗП (руб)'], 75)"
      ],
      "metadata": {
        "colab": {
          "base_uri": "https://localhost:8080/"
        },
        "id": "KMH3VV1CNoWN",
        "outputId": "ced67562-4e3c-4d18-fa3c-d278831667f5"
      },
      "id": "KMH3VV1CNoWN",
      "execution_count": 32,
      "outputs": [
        {
          "output_type": "execute_result",
          "data": {
            "text/plain": [
              "95000.0"
            ]
          },
          "metadata": {},
          "execution_count": 32
        }
      ]
    },
    {
      "cell_type": "markdown",
      "id": "eab2206d-d95b-468b-8e5f-34381abf0ce7",
      "metadata": {
        "id": "eab2206d-d95b-468b-8e5f-34381abf0ce7"
      },
      "source": [
        "4. Постройте диаграмму, которая показывает зависимость **медианной** желаемой заработной платы (**\"ЗП (руб)\"**) от уровня образования (**\"Образование\"**). Используйте для диаграммы данные о резюме, где желаемая заработная плата меньше 1 млн рублей.\n",
        "*Сделайте выводы по представленной диаграмме: для каких уровней образования наблюдаются наибольшие и наименьшие уровни желаемой заработной платы? Как вы считаете, важен ли признак уровня образования при прогнозировании заработной платы?*"
      ]
    },
    {
      "cell_type": "code",
      "execution_count": 33,
      "id": "80defb23-bfb1-4a18-8be6-bf36aa7165d5",
      "metadata": {
        "colab": {
          "base_uri": "https://localhost:8080/",
          "height": 521
        },
        "id": "80defb23-bfb1-4a18-8be6-bf36aa7165d5",
        "outputId": "60907bbf-b9db-4611-89eb-99e497beef79"
      },
      "outputs": [
        {
          "output_type": "display_data",
          "data": {
            "text/plain": [
              "<Figure size 1500x600 with 1 Axes>"
            ],
            "image/png": "[encoded data removed]"
          },
          "metadata": {}
        }
      ],
      "source": [
        "# ваш код здесь\n",
        "filtered = df[df['ЗП (руб)'] < 1e6]\n",
        "\n",
        "median_salary = filtered.groupby('Образование')['ЗП (руб)'].median().reset_index()\n",
        "plt.figure(figsize=(15, 6))\n",
        "sns.barplot(x='Образование', y='ЗП (руб)', data=median_salary, order=['среднее', 'среднее специальное', 'неоконченное высшее', 'высшее'])\n",
        "plt.title('Зависимость медианной желаемой ЗП от уровня образования')\n",
        "plt.ylabel('Медианная ЗП (руб)')\n",
        "plt.xlabel('Уровень образования')\n",
        "plt.show()"
      ]
    },
    {
      "cell_type": "markdown",
      "id": "dc463319-3f85-47dd-b66e-aecb0be0c76f",
      "metadata": {
        "id": "dc463319-3f85-47dd-b66e-aecb0be0c76f"
      },
      "source": [
        "ваши выводы здесь\n",
        "\n",
        "Самые высокие ожидания по уровню заработной платы у людей с высшим образованием, в то время как самый низкий уровень ожидаемой заработной платы наблюдается среди людей с средним и средним специальным образованием."
      ]
    },
    {
      "cell_type": "markdown",
      "id": "0112af31-f6b0-4e3b-82ab-71296e752e5e",
      "metadata": {
        "id": "0112af31-f6b0-4e3b-82ab-71296e752e5e"
      },
      "source": [
        "5. Постройте диаграмму, которая показывает распределение желаемой заработной платы (**\"ЗП (руб)\"**) в зависимости от города (**\"Город\"**). Используйте для диаграммы данные о резюме, где желая заработная плата меньше 1 млн рублей.\n",
        "*Сделайте выводы по полученной диаграмме: как соотносятся медианные уровни желаемой заработной платы и их размах в городах? Как вы считаете, важен ли признак города при прогнозировании заработной платы?*"
      ]
    },
    {
      "cell_type": "code",
      "execution_count": 34,
      "id": "973b0cfc-a972-470a-8b4a-68744ef220c4",
      "metadata": {
        "colab": {
          "base_uri": "https://localhost:8080/",
          "height": 398
        },
        "id": "973b0cfc-a972-470a-8b4a-68744ef220c4",
        "outputId": "75ec2d6f-cfda-417d-964b-2fec3dd72f4d"
      },
      "outputs": [
        {
          "output_type": "display_data",
          "data": {
            "text/plain": [
              "<Figure size 1500x500 with 1 Axes>"
            ],
            "image/png": "[encoded data removed]"
          },
          "metadata": {}
        }
      ],
      "source": [
        "# ваш код здесь\n",
        "df['ЗП (руб)'] = df['ЗП (руб)'].replace(r'\\s+', '', regex=True).astype(float)\n",
        "filtered2 = df[df['ЗП (руб)'] < 1e6]\n",
        "\n",
        "plt.figure(figsize=(15, 5))\n",
        "sns.boxplot(x='Город', y='ЗП (руб)', data=filtered2)\n",
        "plt.title('Распределение желаемой заработной платы по городам')\n",
        "plt.ylabel('Желаемая ЗП (руб)')\n",
        "plt.xlabel('Город')\n",
        "plt.tight_layout()\n",
        "plt.show()"
      ]
    },
    {
      "cell_type": "markdown",
      "id": "2710ce73-2e81-4e38-b52f-833cd14ba47a",
      "metadata": {
        "tags": [],
        "id": "2710ce73-2e81-4e38-b52f-833cd14ba47a"
      },
      "source": [
        "ваши выводы здесь\n",
        "\n",
        "По убывающей медианные уровни заработной платы распределяются следующим образом: Москва, Санкт-Петербург и другие города с населением в миллион и более находятся примерно на одном уровне.\n",
        "Город как фактор играет важную роль при прогнозировании заработной платы, так как разброс и величина этого признака для некоторых категорий (особенно для Москвы) существенно отличаются от средних значений по общей выборке."
      ]
    },
    {
      "cell_type": "markdown",
      "id": "3bfcfdaf-755d-4d2b-8ed8-326201dc07ab",
      "metadata": {
        "id": "3bfcfdaf-755d-4d2b-8ed8-326201dc07ab"
      },
      "source": [
        "6. Постройте **многоуровневую столбчатую диаграмму**, которая показывает зависимость медианной заработной платы (**\"ЗП (руб)\"**) от признаков **\"Готовность к переезду\"** и **\"Готовность к командировкам\"**. Проанализируйте график, сравнив уровень заработной платы в категориях."
      ]
    },
    {
      "cell_type": "code",
      "execution_count": 42,
      "id": "ad3f270f-2991-47eb-929b-e8f88a55b0d1",
      "metadata": {
        "colab": {
          "base_uri": "https://localhost:8080/",
          "height": 564
        },
        "id": "ad3f270f-2991-47eb-929b-e8f88a55b0d1",
        "outputId": "d6cb5074-2fc8-4769-e68c-d5d5781fc714"
      },
      "outputs": [
        {
          "output_type": "display_data",
          "data": {
            "text/plain": [
              "<Figure size 1200x600 with 1 Axes>"
            ],
            "image/png": "[encoded data removed]"
          },
          "metadata": {}
        }
      ],
      "source": [
        "# ваш код здесь\n",
        "salary_m = df.groupby(['Готовность к переезду', 'Готовность к командировкам'])['ЗП (руб)'].median().reset_index()\n",
        "\n",
        "plt.figure(figsize=(12, 6))\n",
        "sns.barplot(x = 'Готовность к переезду', y = 'ЗП (руб)', hue = 'Готовность к командировкам', data = salary_m)\n",
        "plt.title('Зависимость медианной заработной платы от готовности к переездам и командировкам')\n",
        "plt.xlabel('Готовность к переезду')\n",
        "plt.ylabel('Медианная заработная плата (руб)')\n",
        "\n",
        "plt.show()"
      ]
    },
    {
      "cell_type": "code",
      "execution_count": null,
      "id": "efcf512a-4918-4c3f-9357-b3035f9e5f5f",
      "metadata": {
        "id": "efcf512a-4918-4c3f-9357-b3035f9e5f5f"
      },
      "outputs": [],
      "source": [
        "ваши выводы здесь"
      ]
    },
    {
      "cell_type": "markdown",
      "source": [
        "Заработная плата изменяется в зависимости от готовности к командировкам и переездам в порядке убывания.\n",
        "\n",
        "1. Готов как к переезду, так и к командировкам.\n",
        "2. Не готов к переезду, но готов к командировкам.\n",
        "3. Готов к переезду, но не готов к командировкам.\n",
        "4. Не готов ни к чему."
      ],
      "metadata": {
        "id": "9ztaA04iRJtd"
      },
      "id": "9ztaA04iRJtd"
    },
    {
      "cell_type": "code",
      "source": [
        "df.groupby(['Готовность к переезду', 'Готовность к командировкам'])['ЗП (руб)'].median().reset_index()"
      ],
      "metadata": {
        "colab": {
          "base_uri": "https://localhost:8080/",
          "height": 174
        },
        "id": "oaJjhKaPRMQp",
        "outputId": "e7944860-3cc9-4705-e612-c9dcd9595a82"
      },
      "id": "oaJjhKaPRMQp",
      "execution_count": 43,
      "outputs": [
        {
          "output_type": "execute_result",
          "data": {
            "text/plain": [
              "   Готовность к переезду  Готовность к командировкам  ЗП (руб)\n",
              "0                  False                       False   40000.0\n",
              "1                  False                        True   60000.0\n",
              "2                   True                       False   50000.0\n",
              "3                   True                        True   66000.0"
            ],
            "text/html": [
              "\n",
              "  <div id=\"df-7139d7ff-1887-43f3-b497-1da52d2a1826\" class=\"colab-df-container\">\n",
              "    <div>\n",
              "<style scoped>\n",
              "    .dataframe tbody tr th:only-of-type {\n",
              "        vertical-align: middle;\n",
              "    }\n",
              "\n",
              "    .dataframe tbody tr th {\n",
              "        vertical-align: top;\n",
              "    }\n",
              "\n",
              "    .dataframe thead th {\n",
              "        text-align: right;\n",
              "    }\n",
              "</style>\n",
              "<table border=\"1\" class=\"dataframe\">\n",
              "  <thead>\n",
              "    <tr style=\"text-align: right;\">\n",
              "      <th></th>\n",
              "      <th>Готовность к переезду</th>\n",
              "      <th>Готовность к командировкам</th>\n",
              "      <th>ЗП (руб)</th>\n",
              "    </tr>\n",
              "  </thead>\n",
              "  <tbody>\n",
              "    <tr>\n",
              "      <th>0</th>\n",
              "      <td>False</td>\n",
              "      <td>False</td>\n",
              "      <td>40000.0</td>\n",
              "    </tr>\n",
              "    <tr>\n",
              "      <th>1</th>\n",
              "      <td>False</td>\n",
              "      <td>True</td>\n",
              "      <td>60000.0</td>\n",
              "    </tr>\n",
              "    <tr>\n",
              "      <th>2</th>\n",
              "      <td>True</td>\n",
              "      <td>False</td>\n",
              "      <td>50000.0</td>\n",
              "    </tr>\n",
              "    <tr>\n",
              "      <th>3</th>\n",
              "      <td>True</td>\n",
              "      <td>True</td>\n",
              "      <td>66000.0</td>\n",
              "    </tr>\n",
              "  </tbody>\n",
              "</table>\n",
              "</div>\n",
              "    <div class=\"colab-df-buttons\">\n",
              "\n",
              "  <div class=\"colab-df-container\">\n",
              "    <button class=\"colab-df-convert\" onclick=\"convertToInteractive('df-7139d7ff-1887-43f3-b497-1da52d2a1826')\"\n",
              "            title=\"Convert this dataframe to an interactive table.\"\n",
              "            style=\"display:none;\">\n",
              "\n",
              "  <svg xmlns=\"http://www.w3.org/2000/svg\" height=\"24px\" viewBox=\"0 -960 960 960\">\n",
              "    <path d=\"M120-120v-720h720v720H120Zm60-500h600v-160H180v160Zm220 220h160v-160H400v160Zm0 220h160v-160H400v160ZM180-400h160v-160H180v160Zm440 0h160v-160H620v160ZM180-180h160v-160H180v160Zm440 0h160v-160H620v160Z\"/>\n",
              "  </svg>\n",
              "    </button>\n",
              "\n",
              "  <style>\n",
              "    .colab-df-container {\n",
              "      display:flex;\n",
              "      gap: 12px;\n",
              "    }\n",
              "\n",
              "    .colab-df-convert {\n",
              "      background-color: #E8F0FE;\n",
              "      border: none;\n",
              "      border-radius: 50%;\n",
              "      cursor: pointer;\n",
              "      display: none;\n",
              "      fill: #1967D2;\n",
              "      height: 32px;\n",
              "      padding: 0 0 0 0;\n",
              "      width: 32px;\n",
              "    }\n",
              "\n",
              "    .colab-df-convert:hover {\n",
              "      background-color: #E2EBFA;\n",
              "      box-shadow: 0px 1px 2px rgba(60, 64, 67, 0.3), 0px 1px 3px 1px rgba(60, 64, 67, 0.15);\n",
              "      fill: #174EA6;\n",
              "    }\n",
              "\n",
              "    .colab-df-buttons div {\n",
              "      margin-bottom: 4px;\n",
              "    }\n",
              "\n",
              "    [theme=dark] .colab-df-convert {\n",
              "      background-color: #3B4455;\n",
              "      fill: #D2E3FC;\n",
              "    }\n",
              "\n",
              "    [theme=dark] .colab-df-convert:hover {\n",
              "      background-color: #434B5C;\n",
              "      box-shadow: 0px 1px 3px 1px rgba(0, 0, 0, 0.15);\n",
              "      filter: drop-shadow(0px 1px 2px rgba(0, 0, 0, 0.3));\n",
              "      fill: #FFFFFF;\n",
              "    }\n",
              "  </style>\n",
              "\n",
              "    <script>\n",
              "      const buttonEl =\n",
              "        document.querySelector('#df-7139d7ff-1887-43f3-b497-1da52d2a1826 button.colab-df-convert');\n",
              "      buttonEl.style.display =\n",
              "        google.colab.kernel.accessAllowed ? 'block' : 'none';\n",
              "\n",
              "      async function convertToInteractive(key) {\n",
              "        const element = document.querySelector('#df-7139d7ff-1887-43f3-b497-1da52d2a1826');\n",
              "        const dataTable =\n",
              "          await google.colab.kernel.invokeFunction('convertToInteractive',\n",
              "                                                    [key], {});\n",
              "        if (!dataTable) return;\n",
              "\n",
              "        const docLinkHtml = 'Like what you see? Visit the ' +\n",
              "          '<a target=\"_blank\" href=https://colab.research.google.com/notebooks/data_table.ipynb>data table notebook</a>'\n",
              "          + ' to learn more about interactive tables.';\n",
              "        element.innerHTML = '';\n",
              "        dataTable['output_type'] = 'display_data';\n",
              "        await google.colab.output.renderOutput(dataTable, element);\n",
              "        const docLink = document.createElement('div');\n",
              "        docLink.innerHTML = docLinkHtml;\n",
              "        element.appendChild(docLink);\n",
              "      }\n",
              "    </script>\n",
              "  </div>\n",
              "\n",
              "\n",
              "<div id=\"df-b02ee06c-781d-4f3e-94a0-8e5926e3948d\">\n",
              "  <button class=\"colab-df-quickchart\" onclick=\"quickchart('df-b02ee06c-781d-4f3e-94a0-8e5926e3948d')\"\n",
              "            title=\"Suggest charts\"\n",
              "            style=\"display:none;\">\n",
              "\n",
              "<svg xmlns=\"http://www.w3.org/2000/svg\" height=\"24px\"viewBox=\"0 0 24 24\"\n",
              "     width=\"24px\">\n",
              "    <g>\n",
              "        <path d=\"M19 3H5c-1.1 0-2 .9-2 2v14c0 1.1.9 2 2 2h14c1.1 0 2-.9 2-2V5c0-1.1-.9-2-2-2zM9 17H7v-7h2v7zm4 0h-2V7h2v10zm4 0h-2v-4h2v4z\"/>\n",
              "    </g>\n",
              "</svg>\n",
              "  </button>\n",
              "\n",
              "<style>\n",
              "  .colab-df-quickchart {\n",
              "      --bg-color: #E8F0FE;\n",
              "      --fill-color: #1967D2;\n",
              "      --hover-bg-color: #E2EBFA;\n",
              "      --hover-fill-color: #174EA6;\n",
              "      --disabled-fill-color: #AAA;\n",
              "      --disabled-bg-color: #DDD;\n",
              "  }\n",
              "\n",
              "  [theme=dark] .colab-df-quickchart {\n",
              "      --bg-color: #3B4455;\n",
              "      --fill-color: #D2E3FC;\n",
              "      --hover-bg-color: #434B5C;\n",
              "      --hover-fill-color: #FFFFFF;\n",
              "      --disabled-bg-color: #3B4455;\n",
              "      --disabled-fill-color: #666;\n",
              "  }\n",
              "\n",
              "  .colab-df-quickchart {\n",
              "    background-color: var(--bg-color);\n",
              "    border: none;\n",
              "    border-radius: 50%;\n",
              "    cursor: pointer;\n",
              "    display: none;\n",
              "    fill: var(--fill-color);\n",
              "    height: 32px;\n",
              "    padding: 0;\n",
              "    width: 32px;\n",
              "  }\n",
              "\n",
              "  .colab-df-quickchart:hover {\n",
              "    background-color: var(--hover-bg-color);\n",
              "    box-shadow: 0 1px 2px rgba(60, 64, 67, 0.3), 0 1px 3px 1px rgba(60, 64, 67, 0.15);\n",
              "    fill: var(--button-hover-fill-color);\n",
              "  }\n",
              "\n",
              "  .colab-df-quickchart-complete:disabled,\n",
              "  .colab-df-quickchart-complete:disabled:hover {\n",
              "    background-color: var(--disabled-bg-color);\n",
              "    fill: var(--disabled-fill-color);\n",
              "    box-shadow: none;\n",
              "  }\n",
              "\n",
              "  .colab-df-spinner {\n",
              "    border: 2px solid var(--fill-color);\n",
              "    border-color: transparent;\n",
              "    border-bottom-color: var(--fill-color);\n",
              "    animation:\n",
              "      spin 1s steps(1) infinite;\n",
              "  }\n",
              "\n",
              "  @keyframes spin {\n",
              "    0% {\n",
              "      border-color: transparent;\n",
              "      border-bottom-color: var(--fill-color);\n",
              "      border-left-color: var(--fill-color);\n",
              "    }\n",
              "    20% {\n",
              "      border-color: transparent;\n",
              "      border-left-color: var(--fill-color);\n",
              "      border-top-color: var(--fill-color);\n",
              "    }\n",
              "    30% {\n",
              "      border-color: transparent;\n",
              "      border-left-color: var(--fill-color);\n",
              "      border-top-color: var(--fill-color);\n",
              "      border-right-color: var(--fill-color);\n",
              "    }\n",
              "    40% {\n",
              "      border-color: transparent;\n",
              "      border-right-color: var(--fill-color);\n",
              "      border-top-color: var(--fill-color);\n",
              "    }\n",
              "    60% {\n",
              "      border-color: transparent;\n",
              "      border-right-color: var(--fill-color);\n",
              "    }\n",
              "    80% {\n",
              "      border-color: transparent;\n",
              "      border-right-color: var(--fill-color);\n",
              "      border-bottom-color: var(--fill-color);\n",
              "    }\n",
              "    90% {\n",
              "      border-color: transparent;\n",
              "      border-bottom-color: var(--fill-color);\n",
              "    }\n",
              "  }\n",
              "</style>\n",
              "\n",
              "  <script>\n",
              "    async function quickchart(key) {\n",
              "      const quickchartButtonEl =\n",
              "        document.querySelector('#' + key + ' button');\n",
              "      quickchartButtonEl.disabled = true;  // To prevent multiple clicks.\n",
              "      quickchartButtonEl.classList.add('colab-df-spinner');\n",
              "      try {\n",
              "        const charts = await google.colab.kernel.invokeFunction(\n",
              "            'suggestCharts', [key], {});\n",
              "      } catch (error) {\n",
              "        console.error('Error during call to suggestCharts:', error);\n",
              "      }\n",
              "      quickchartButtonEl.classList.remove('colab-df-spinner');\n",
              "      quickchartButtonEl.classList.add('colab-df-quickchart-complete');\n",
              "    }\n",
              "    (() => {\n",
              "      let quickchartButtonEl =\n",
              "        document.querySelector('#df-b02ee06c-781d-4f3e-94a0-8e5926e3948d button');\n",
              "      quickchartButtonEl.style.display =\n",
              "        google.colab.kernel.accessAllowed ? 'block' : 'none';\n",
              "    })();\n",
              "  </script>\n",
              "</div>\n",
              "    </div>\n",
              "  </div>\n"
            ],
            "application/vnd.google.colaboratory.intrinsic+json": {
              "type": "dataframe",
              "summary": "{\n  \"name\": \"df\",\n  \"rows\": 4,\n  \"fields\": [\n    {\n      \"column\": \"\\u0413\\u043e\\u0442\\u043e\\u0432\\u043d\\u043e\\u0441\\u0442\\u044c \\u043a \\u043f\\u0435\\u0440\\u0435\\u0435\\u0437\\u0434\\u0443\",\n      \"properties\": {\n        \"dtype\": \"boolean\",\n        \"num_unique_values\": 2,\n        \"samples\": [\n          true,\n          false\n        ],\n        \"semantic_type\": \"\",\n        \"description\": \"\"\n      }\n    },\n    {\n      \"column\": \"\\u0413\\u043e\\u0442\\u043e\\u0432\\u043d\\u043e\\u0441\\u0442\\u044c \\u043a \\u043a\\u043e\\u043c\\u0430\\u043d\\u0434\\u0438\\u0440\\u043e\\u0432\\u043a\\u0430\\u043c\",\n      \"properties\": {\n        \"dtype\": \"boolean\",\n        \"num_unique_values\": 2,\n        \"samples\": [\n          true,\n          false\n        ],\n        \"semantic_type\": \"\",\n        \"description\": \"\"\n      }\n    },\n    {\n      \"column\": \"\\u0417\\u041f (\\u0440\\u0443\\u0431)\",\n      \"properties\": {\n        \"dtype\": \"number\",\n        \"std\": 11430.952132988165,\n        \"min\": 40000.0,\n        \"max\": 66000.0,\n        \"num_unique_values\": 4,\n        \"samples\": [\n          60000.0,\n          66000.0\n        ],\n        \"semantic_type\": \"\",\n        \"description\": \"\"\n      }\n    }\n  ]\n}"
            }
          },
          "metadata": {},
          "execution_count": 43
        }
      ]
    },
    {
      "cell_type": "markdown",
      "id": "7b02bb86-0546-40fb-94a4-242f050a5c57",
      "metadata": {
        "id": "7b02bb86-0546-40fb-94a4-242f050a5c57"
      },
      "source": [
        "7. Постройте сводную таблицу, иллюстрирующую зависимость **медианной** желаемой заработной платы от возраста (**\"Возраст\"**) и образования (**\"Образование\"**). На полученной сводной таблице постройте **тепловую карту**. Проанализируйте тепловую карту, сравнив показатели внутри групп."
      ]
    },
    {
      "cell_type": "code",
      "execution_count": 44,
      "id": "5a0e32a4-e68a-4365-8a39-2fe24c542c36",
      "metadata": {
        "colab": {
          "base_uri": "https://localhost:8080/",
          "height": 577
        },
        "id": "5a0e32a4-e68a-4365-8a39-2fe24c542c36",
        "outputId": "7bc0239e-7caa-4156-98c8-d751dc944323"
      },
      "outputs": [
        {
          "output_type": "display_data",
          "data": {
            "text/plain": [
              "<Figure size 1500x600 with 2 Axes>"
            ],
            "image/png": "[encoded data removed]"
          },
          "metadata": {}
        }
      ],
      "source": [
        "# ваш код здесь\n",
        "pivot_table = df.pivot_table(values='ЗП (руб)', index='Образование', columns='Возраст', aggfunc='median')\n",
        "\n",
        "plt.figure(figsize=(15, 6))\n",
        "sns.heatmap(pivot_table, annot=False, fmt=\".0f\", linewidths=.5, cmap='coolwarm')\n",
        "plt.title('Тепловая карта медианной желаемой ЗП в зависимости от возраста и образования')\n",
        "plt.xlabel('Возраст')\n",
        "plt.ylabel('Образование')\n",
        "plt.show()"
      ]
    },
    {
      "cell_type": "markdown",
      "id": "7aade1c2-16a0-418c-8427-ad93927c7705",
      "metadata": {
        "id": "7aade1c2-16a0-418c-8427-ad93927c7705"
      },
      "source": [
        "ваши выводы здесь\n",
        "\n",
        "С графика видно, что в первую очередь уровень заработной платы возрастает в соответствии с уровнем образования. Однако также наблюдается определенная зависимость от возраста: молодые специалисты с высшим образованием и люди старшего возраста стремятся к значительно более высоким заработным платам. Медианная заработная плата у молодых специалистов с высшим образованием составляет 122 тысячи рублей. У специалистов среднего и пожилого возрастов медианная заработная плата также приближается к этому значению по мере старения."
      ]
    },
    {
      "cell_type": "markdown",
      "id": "d0247088-9003-455b-a591-a44650f487c3",
      "metadata": {
        "id": "d0247088-9003-455b-a591-a44650f487c3"
      },
      "source": [
        "8. Постройте **диаграмму рассеяния**, показывающую зависимость опыта работы (**\"Опыт работы (месяц)\"**) от возраста (**\"Возраст\"**). Опыт работы переведите из месяцев в года, чтобы признаки были в едином масштабе. Постройте на графике дополнительно прямую, проходящую через точки (0, 0) и (100, 100). Данная прямая соответствует значениям, когда опыт работы равен возрасту человека. Точки, лежащие на этой прямой и выше нее - аномалии в наших данных (опыт работы больше либо равен возрасту соискателя)"
      ]
    },
    {
      "cell_type": "code",
      "execution_count": 45,
      "id": "a4143e50-b900-4ec8-9ae9-fc3ec3347287",
      "metadata": {
        "colab": {
          "base_uri": "https://localhost:8080/",
          "height": 564
        },
        "id": "a4143e50-b900-4ec8-9ae9-fc3ec3347287",
        "outputId": "20b12352-eff1-41e2-800f-b00076c1e46d"
      },
      "outputs": [
        {
          "output_type": "display_data",
          "data": {
            "text/plain": [
              "<Figure size 1000x600 with 1 Axes>"
            ],
            "image/png": "[encoded data removed]"
          },
          "metadata": {}
        }
      ],
      "source": [
        "# ваш код здесь\n",
        "df['Опыт работы (года)'] = df['Опыт работы (месяц)'] / 12\n",
        "plt.figure(figsize=(10, 6))\n",
        "plt.scatter(df['Возраст'], df['Опыт работы (года)'], alpha=0.6)\n",
        "\n",
        "max_value = 100\n",
        "plt.plot([0, max_value], [0, max_value], color='red', linestyle='--')\n",
        "\n",
        "plt.title('Зависимость опыта работы от возраста с аномальной линией')\n",
        "plt.xlabel('Возраст (года)')\n",
        "plt.ylabel('Опыт работы (года)')\n",
        "\n",
        "plt.show()"
      ]
    },
    {
      "cell_type": "markdown",
      "id": "6f9218ff-52c7-4742-b328-4db5d4da7262",
      "metadata": {
        "id": "6f9218ff-52c7-4742-b328-4db5d4da7262"
      },
      "source": [
        "ваши выводы здесь\n",
        "В целом, большинство данных находится ниже основной линии тренда. Максимальные значения, которые не являются аномальными, смещены от этой линии примерно на одно и то же значение, соответствующее среднему возрасту начала трудовой карьеры. Также на графике можно заметить наличие точек-аномалий."
      ]
    },
    {
      "cell_type": "code",
      "source": [
        "df[df[\"Опыт работы (года)\"] > df[\"Возраст\"]]"
      ],
      "metadata": {
        "colab": {
          "base_uri": "https://localhost:8080/",
          "height": 838
        },
        "id": "la1gj145SOIT",
        "outputId": "30c837b6-cdfc-45a0-c891-94488ffa47ac"
      },
      "id": "la1gj145SOIT",
      "execution_count": 46,
      "outputs": [
        {
          "output_type": "execute_result",
          "data": {
            "text/plain": [
              "             Ищет работу на должность:  \\\n",
              "4535            Технический специалист   \n",
              "19351  Специалист (Junior-программист)   \n",
              "19872                         Аналитик   \n",
              "26477             Менеджер IT-проектов   \n",
              "29098      Ведущий инженер-программист   \n",
              "40015  Системный администратор Windows   \n",
              "43451   Руководитель отдела разработки   \n",
              "\n",
              "                                             Опыт работы  \\\n",
              "4535   Опыт работы 22 года 7 месяцев  Январь 1996 — И...   \n",
              "19351  Опыт работы 39 лет 2 месяца  Специалист (Junio...   \n",
              "19872  Опыт работы 34 года 8 месяцев  Аналитик 25 000...   \n",
              "26477  Опыт работы 34 года 3 месяца  Октябрь 2017 — п...   \n",
              "29098  Опыт работы 39 лет 9 месяцев  Ведущий инженер-...   \n",
              "40015  Опыт работы 99 лет  Июнь 1920 — по настоящее в...   \n",
              "43451  Опыт работы 36 лет 2 месяца  Руководитель отде...   \n",
              "\n",
              "                         Последнее/нынешнее место работы  \\\n",
              "4535                                                   а   \n",
              "19351                                  Русский свет, ООО   \n",
              "19872                                           Kyivstar   \n",
              "26477  М©й IT'M  (\"Информационные Технологии' Менеджм...   \n",
              "29098                           КБ Аметист, Концерн АГАТ   \n",
              "40015                                     АО ТК Горизонт   \n",
              "43451                                              ЛАНИТ   \n",
              "\n",
              "                     Последняя/нынешняя должность  \\\n",
              "4535                                            а   \n",
              "19351                                    Электрик   \n",
              "19872            Фахівець з опису бізнес процесів   \n",
              "26477                                  Основатель   \n",
              "29098                 Ведущий инженер-программист   \n",
              "40015  Начальник отдела информационных технологий   \n",
              "43451                        Руководитель проекта   \n",
              "\n",
              "                                       Образование и ВУЗ Обновление резюме  \\\n",
              "4535   Среднее специальное образование 2020 Чебоксарс...  11.04.2019 10:46   \n",
              "19351  Высшее образование 2012 АГУ Экономический, Упр...  26.04.2019 11:07   \n",
              "19872  Высшее образование 2007 Черкаський національни...  26.04.2019 14:10   \n",
              "26477  Высшее образование 2013 СГАУ имени ак, С.П. Ко...  08.04.2019 01:01   \n",
              "29098  Высшее образование 1979  Московское высшее тех...  26.04.2019 09:18   \n",
              "40015  Высшее образование 2014  Московский технологич...  16.04.2019 08:09   \n",
              "43451  Высшее образование 2005 Московский Институт Эл...  17.08.2018 12:15   \n",
              "\n",
              "             Авто          Образование Пол  Возраст  ...  проектная работа  \\\n",
              "4535   Не указано  среднее специальное   Ж       18  ...              True   \n",
              "19351  Не указано               высшее   М       28  ...             False   \n",
              "19872  Не указано               высшее   М       34  ...             False   \n",
              "26477  Не указано               высшее   М       34  ...              True   \n",
              "29098  Не указано               высшее   М       14  ...             False   \n",
              "40015  Не указано               высшее   М       48  ...             False   \n",
              "43451  Не указано               высшее   М       36  ...             False   \n",
              "\n",
              "      волонтерство  стажировка  полный день  сменный график  гибкий график  \\\n",
              "4535         False       False        False            True          False   \n",
              "19351        False       False         True           False          False   \n",
              "19872        False       False         True           False          False   \n",
              "26477         True        True         True            True           True   \n",
              "29098        False       False         True           False          False   \n",
              "40015        False       False         True           False           True   \n",
              "43451        False       False         True           False          False   \n",
              "\n",
              "       удаленная работа  вахтовый метод  ЗП (руб)  Опыт работы (года)  \n",
              "4535               True           False   15000.0           22.583333  \n",
              "19351             False           False   20000.0           39.166667  \n",
              "19872             False           False   60740.5           34.666667  \n",
              "26477              True            True   80000.0           34.250000  \n",
              "29098             False           False   60000.0           39.750000  \n",
              "40015              True            True   60000.0           99.000000  \n",
              "43451             False           False  200000.0           36.166667  \n",
              "\n",
              "[7 rows x 26 columns]"
            ],
            "text/html": [
              "\n",
              "  <div id=\"df-792e1353-dd3e-485c-971a-8145a9c4c49a\" class=\"colab-df-container\">\n",
              "    <div>\n",
              "<style scoped>\n",
              "    .dataframe tbody tr th:only-of-type {\n",
              "        vertical-align: middle;\n",
              "    }\n",
              "\n",
              "    .dataframe tbody tr th {\n",
              "        vertical-align: top;\n",
              "    }\n",
              "\n",
              "    .dataframe thead th {\n",
              "        text-align: right;\n",
              "    }\n",
              "</style>\n",
              "<table border=\"1\" class=\"dataframe\">\n",
              "  <thead>\n",
              "    <tr style=\"text-align: right;\">\n",
              "      <th></th>\n",
              "      <th>Ищет работу на должность:</th>\n",
              "      <th>Опыт работы</th>\n",
              "      <th>Последнее/нынешнее место работы</th>\n",
              "      <th>Последняя/нынешняя должность</th>\n",
              "      <th>Образование и ВУЗ</th>\n",
              "      <th>Обновление резюме</th>\n",
              "      <th>Авто</th>\n",
              "      <th>Образование</th>\n",
              "      <th>Пол</th>\n",
              "      <th>Возраст</th>\n",
              "      <th>...</th>\n",
              "      <th>проектная работа</th>\n",
              "      <th>волонтерство</th>\n",
              "      <th>стажировка</th>\n",
              "      <th>полный день</th>\n",
              "      <th>сменный график</th>\n",
              "      <th>гибкий график</th>\n",
              "      <th>удаленная работа</th>\n",
              "      <th>вахтовый метод</th>\n",
              "      <th>ЗП (руб)</th>\n",
              "      <th>Опыт работы (года)</th>\n",
              "    </tr>\n",
              "  </thead>\n",
              "  <tbody>\n",
              "    <tr>\n",
              "      <th>4535</th>\n",
              "      <td>Технический специалист</td>\n",
              "      <td>Опыт работы 22 года 7 месяцев  Январь 1996 — И...</td>\n",
              "      <td>а</td>\n",
              "      <td>а</td>\n",
              "      <td>Среднее специальное образование 2020 Чебоксарс...</td>\n",
              "      <td>11.04.2019 10:46</td>\n",
              "      <td>Не указано</td>\n",
              "      <td>среднее специальное</td>\n",
              "      <td>Ж</td>\n",
              "      <td>18</td>\n",
              "      <td>...</td>\n",
              "      <td>True</td>\n",
              "      <td>False</td>\n",
              "      <td>False</td>\n",
              "      <td>False</td>\n",
              "      <td>True</td>\n",
              "      <td>False</td>\n",
              "      <td>True</td>\n",
              "      <td>False</td>\n",
              "      <td>15000.0</td>\n",
              "      <td>22.583333</td>\n",
              "    </tr>\n",
              "    <tr>\n",
              "      <th>19351</th>\n",
              "      <td>Специалист (Junior-программист)</td>\n",
              "      <td>Опыт работы 39 лет 2 месяца  Специалист (Junio...</td>\n",
              "      <td>Русский свет, ООО</td>\n",
              "      <td>Электрик</td>\n",
              "      <td>Высшее образование 2012 АГУ Экономический, Упр...</td>\n",
              "      <td>26.04.2019 11:07</td>\n",
              "      <td>Не указано</td>\n",
              "      <td>высшее</td>\n",
              "      <td>М</td>\n",
              "      <td>28</td>\n",
              "      <td>...</td>\n",
              "      <td>False</td>\n",
              "      <td>False</td>\n",
              "      <td>False</td>\n",
              "      <td>True</td>\n",
              "      <td>False</td>\n",
              "      <td>False</td>\n",
              "      <td>False</td>\n",
              "      <td>False</td>\n",
              "      <td>20000.0</td>\n",
              "      <td>39.166667</td>\n",
              "    </tr>\n",
              "    <tr>\n",
              "      <th>19872</th>\n",
              "      <td>Аналитик</td>\n",
              "      <td>Опыт работы 34 года 8 месяцев  Аналитик 25 000...</td>\n",
              "      <td>Kyivstar</td>\n",
              "      <td>Фахівець з опису бізнес процесів</td>\n",
              "      <td>Высшее образование 2007 Черкаський національни...</td>\n",
              "      <td>26.04.2019 14:10</td>\n",
              "      <td>Не указано</td>\n",
              "      <td>высшее</td>\n",
              "      <td>М</td>\n",
              "      <td>34</td>\n",
              "      <td>...</td>\n",
              "      <td>False</td>\n",
              "      <td>False</td>\n",
              "      <td>False</td>\n",
              "      <td>True</td>\n",
              "      <td>False</td>\n",
              "      <td>False</td>\n",
              "      <td>False</td>\n",
              "      <td>False</td>\n",
              "      <td>60740.5</td>\n",
              "      <td>34.666667</td>\n",
              "    </tr>\n",
              "    <tr>\n",
              "      <th>26477</th>\n",
              "      <td>Менеджер IT-проектов</td>\n",
              "      <td>Опыт работы 34 года 3 месяца  Октябрь 2017 — п...</td>\n",
              "      <td>М©й IT'M  (\"Информационные Технологии' Менеджм...</td>\n",
              "      <td>Основатель</td>\n",
              "      <td>Высшее образование 2013 СГАУ имени ак, С.П. Ко...</td>\n",
              "      <td>08.04.2019 01:01</td>\n",
              "      <td>Не указано</td>\n",
              "      <td>высшее</td>\n",
              "      <td>М</td>\n",
              "      <td>34</td>\n",
              "      <td>...</td>\n",
              "      <td>True</td>\n",
              "      <td>True</td>\n",
              "      <td>True</td>\n",
              "      <td>True</td>\n",
              "      <td>True</td>\n",
              "      <td>True</td>\n",
              "      <td>True</td>\n",
              "      <td>True</td>\n",
              "      <td>80000.0</td>\n",
              "      <td>34.250000</td>\n",
              "    </tr>\n",
              "    <tr>\n",
              "      <th>29098</th>\n",
              "      <td>Ведущий инженер-программист</td>\n",
              "      <td>Опыт работы 39 лет 9 месяцев  Ведущий инженер-...</td>\n",
              "      <td>КБ Аметист, Концерн АГАТ</td>\n",
              "      <td>Ведущий инженер-программист</td>\n",
              "      <td>Высшее образование 1979  Московское высшее тех...</td>\n",
              "      <td>26.04.2019 09:18</td>\n",
              "      <td>Не указано</td>\n",
              "      <td>высшее</td>\n",
              "      <td>М</td>\n",
              "      <td>14</td>\n",
              "      <td>...</td>\n",
              "      <td>False</td>\n",
              "      <td>False</td>\n",
              "      <td>False</td>\n",
              "      <td>True</td>\n",
              "      <td>False</td>\n",
              "      <td>False</td>\n",
              "      <td>False</td>\n",
              "      <td>False</td>\n",
              "      <td>60000.0</td>\n",
              "      <td>39.750000</td>\n",
              "    </tr>\n",
              "    <tr>\n",
              "      <th>40015</th>\n",
              "      <td>Системный администратор Windows</td>\n",
              "      <td>Опыт работы 99 лет  Июнь 1920 — по настоящее в...</td>\n",
              "      <td>АО ТК Горизонт</td>\n",
              "      <td>Начальник отдела информационных технологий</td>\n",
              "      <td>Высшее образование 2014  Московский технологич...</td>\n",
              "      <td>16.04.2019 08:09</td>\n",
              "      <td>Не указано</td>\n",
              "      <td>высшее</td>\n",
              "      <td>М</td>\n",
              "      <td>48</td>\n",
              "      <td>...</td>\n",
              "      <td>False</td>\n",
              "      <td>False</td>\n",
              "      <td>False</td>\n",
              "      <td>True</td>\n",
              "      <td>False</td>\n",
              "      <td>True</td>\n",
              "      <td>True</td>\n",
              "      <td>True</td>\n",
              "      <td>60000.0</td>\n",
              "      <td>99.000000</td>\n",
              "    </tr>\n",
              "    <tr>\n",
              "      <th>43451</th>\n",
              "      <td>Руководитель отдела разработки</td>\n",
              "      <td>Опыт работы 36 лет 2 месяца  Руководитель отде...</td>\n",
              "      <td>ЛАНИТ</td>\n",
              "      <td>Руководитель проекта</td>\n",
              "      <td>Высшее образование 2005 Московский Институт Эл...</td>\n",
              "      <td>17.08.2018 12:15</td>\n",
              "      <td>Не указано</td>\n",
              "      <td>высшее</td>\n",
              "      <td>М</td>\n",
              "      <td>36</td>\n",
              "      <td>...</td>\n",
              "      <td>False</td>\n",
              "      <td>False</td>\n",
              "      <td>False</td>\n",
              "      <td>True</td>\n",
              "      <td>False</td>\n",
              "      <td>False</td>\n",
              "      <td>False</td>\n",
              "      <td>False</td>\n",
              "      <td>200000.0</td>\n",
              "      <td>36.166667</td>\n",
              "    </tr>\n",
              "  </tbody>\n",
              "</table>\n",
              "<p>7 rows × 26 columns</p>\n",
              "</div>\n",
              "    <div class=\"colab-df-buttons\">\n",
              "\n",
              "  <div class=\"colab-df-container\">\n",
              "    <button class=\"colab-df-convert\" onclick=\"convertToInteractive('df-792e1353-dd3e-485c-971a-8145a9c4c49a')\"\n",
              "            title=\"Convert this dataframe to an interactive table.\"\n",
              "            style=\"display:none;\">\n",
              "\n",
              "  <svg xmlns=\"http://www.w3.org/2000/svg\" height=\"24px\" viewBox=\"0 -960 960 960\">\n",
              "    <path d=\"M120-120v-720h720v720H120Zm60-500h600v-160H180v160Zm220 220h160v-160H400v160Zm0 220h160v-160H400v160ZM180-400h160v-160H180v160Zm440 0h160v-160H620v160ZM180-180h160v-160H180v160Zm440 0h160v-160H620v160Z\"/>\n",
              "  </svg>\n",
              "    </button>\n",
              "\n",
              "  <style>\n",
              "    .colab-df-container {\n",
              "      display:flex;\n",
              "      gap: 12px;\n",
              "    }\n",
              "\n",
              "    .colab-df-convert {\n",
              "      background-color: #E8F0FE;\n",
              "      border: none;\n",
              "      border-radius: 50%;\n",
              "      cursor: pointer;\n",
              "      display: none;\n",
              "      fill: #1967D2;\n",
              "      height: 32px;\n",
              "      padding: 0 0 0 0;\n",
              "      width: 32px;\n",
              "    }\n",
              "\n",
              "    .colab-df-convert:hover {\n",
              "      background-color: #E2EBFA;\n",
              "      box-shadow: 0px 1px 2px rgba(60, 64, 67, 0.3), 0px 1px 3px 1px rgba(60, 64, 67, 0.15);\n",
              "      fill: #174EA6;\n",
              "    }\n",
              "\n",
              "    .colab-df-buttons div {\n",
              "      margin-bottom: 4px;\n",
              "    }\n",
              "\n",
              "    [theme=dark] .colab-df-convert {\n",
              "      background-color: #3B4455;\n",
              "      fill: #D2E3FC;\n",
              "    }\n",
              "\n",
              "    [theme=dark] .colab-df-convert:hover {\n",
              "      background-color: #434B5C;\n",
              "      box-shadow: 0px 1px 3px 1px rgba(0, 0, 0, 0.15);\n",
              "      filter: drop-shadow(0px 1px 2px rgba(0, 0, 0, 0.3));\n",
              "      fill: #FFFFFF;\n",
              "    }\n",
              "  </style>\n",
              "\n",
              "    <script>\n",
              "      const buttonEl =\n",
              "        document.querySelector('#df-792e1353-dd3e-485c-971a-8145a9c4c49a button.colab-df-convert');\n",
              "      buttonEl.style.display =\n",
              "        google.colab.kernel.accessAllowed ? 'block' : 'none';\n",
              "\n",
              "      async function convertToInteractive(key) {\n",
              "        const element = document.querySelector('#df-792e1353-dd3e-485c-971a-8145a9c4c49a');\n",
              "        const dataTable =\n",
              "          await google.colab.kernel.invokeFunction('convertToInteractive',\n",
              "                                                    [key], {});\n",
              "        if (!dataTable) return;\n",
              "\n",
              "        const docLinkHtml = 'Like what you see? Visit the ' +\n",
              "          '<a target=\"_blank\" href=https://colab.research.google.com/notebooks/data_table.ipynb>data table notebook</a>'\n",
              "          + ' to learn more about interactive tables.';\n",
              "        element.innerHTML = '';\n",
              "        dataTable['output_type'] = 'display_data';\n",
              "        await google.colab.output.renderOutput(dataTable, element);\n",
              "        const docLink = document.createElement('div');\n",
              "        docLink.innerHTML = docLinkHtml;\n",
              "        element.appendChild(docLink);\n",
              "      }\n",
              "    </script>\n",
              "  </div>\n",
              "\n",
              "\n",
              "<div id=\"df-e152e741-c64c-4a3b-a34e-91c922bf9e70\">\n",
              "  <button class=\"colab-df-quickchart\" onclick=\"quickchart('df-e152e741-c64c-4a3b-a34e-91c922bf9e70')\"\n",
              "            title=\"Suggest charts\"\n",
              "            style=\"display:none;\">\n",
              "\n",
              "<svg xmlns=\"http://www.w3.org/2000/svg\" height=\"24px\"viewBox=\"0 0 24 24\"\n",
              "     width=\"24px\">\n",
              "    <g>\n",
              "        <path d=\"M19 3H5c-1.1 0-2 .9-2 2v14c0 1.1.9 2 2 2h14c1.1 0 2-.9 2-2V5c0-1.1-.9-2-2-2zM9 17H7v-7h2v7zm4 0h-2V7h2v10zm4 0h-2v-4h2v4z\"/>\n",
              "    </g>\n",
              "</svg>\n",
              "  </button>\n",
              "\n",
              "<style>\n",
              "  .colab-df-quickchart {\n",
              "      --bg-color: #E8F0FE;\n",
              "      --fill-color: #1967D2;\n",
              "      --hover-bg-color: #E2EBFA;\n",
              "      --hover-fill-color: #174EA6;\n",
              "      --disabled-fill-color: #AAA;\n",
              "      --disabled-bg-color: #DDD;\n",
              "  }\n",
              "\n",
              "  [theme=dark] .colab-df-quickchart {\n",
              "      --bg-color: #3B4455;\n",
              "      --fill-color: #D2E3FC;\n",
              "      --hover-bg-color: #434B5C;\n",
              "      --hover-fill-color: #FFFFFF;\n",
              "      --disabled-bg-color: #3B4455;\n",
              "      --disabled-fill-color: #666;\n",
              "  }\n",
              "\n",
              "  .colab-df-quickchart {\n",
              "    background-color: var(--bg-color);\n",
              "    border: none;\n",
              "    border-radius: 50%;\n",
              "    cursor: pointer;\n",
              "    display: none;\n",
              "    fill: var(--fill-color);\n",
              "    height: 32px;\n",
              "    padding: 0;\n",
              "    width: 32px;\n",
              "  }\n",
              "\n",
              "  .colab-df-quickchart:hover {\n",
              "    background-color: var(--hover-bg-color);\n",
              "    box-shadow: 0 1px 2px rgba(60, 64, 67, 0.3), 0 1px 3px 1px rgba(60, 64, 67, 0.15);\n",
              "    fill: var(--button-hover-fill-color);\n",
              "  }\n",
              "\n",
              "  .colab-df-quickchart-complete:disabled,\n",
              "  .colab-df-quickchart-complete:disabled:hover {\n",
              "    background-color: var(--disabled-bg-color);\n",
              "    fill: var(--disabled-fill-color);\n",
              "    box-shadow: none;\n",
              "  }\n",
              "\n",
              "  .colab-df-spinner {\n",
              "    border: 2px solid var(--fill-color);\n",
              "    border-color: transparent;\n",
              "    border-bottom-color: var(--fill-color);\n",
              "    animation:\n",
              "      spin 1s steps(1) infinite;\n",
              "  }\n",
              "\n",
              "  @keyframes spin {\n",
              "    0% {\n",
              "      border-color: transparent;\n",
              "      border-bottom-color: var(--fill-color);\n",
              "      border-left-color: var(--fill-color);\n",
              "    }\n",
              "    20% {\n",
              "      border-color: transparent;\n",
              "      border-left-color: var(--fill-color);\n",
              "      border-top-color: var(--fill-color);\n",
              "    }\n",
              "    30% {\n",
              "      border-color: transparent;\n",
              "      border-left-color: var(--fill-color);\n",
              "      border-top-color: var(--fill-color);\n",
              "      border-right-color: var(--fill-color);\n",
              "    }\n",
              "    40% {\n",
              "      border-color: transparent;\n",
              "      border-right-color: var(--fill-color);\n",
              "      border-top-color: var(--fill-color);\n",
              "    }\n",
              "    60% {\n",
              "      border-color: transparent;\n",
              "      border-right-color: var(--fill-color);\n",
              "    }\n",
              "    80% {\n",
              "      border-color: transparent;\n",
              "      border-right-color: var(--fill-color);\n",
              "      border-bottom-color: var(--fill-color);\n",
              "    }\n",
              "    90% {\n",
              "      border-color: transparent;\n",
              "      border-bottom-color: var(--fill-color);\n",
              "    }\n",
              "  }\n",
              "</style>\n",
              "\n",
              "  <script>\n",
              "    async function quickchart(key) {\n",
              "      const quickchartButtonEl =\n",
              "        document.querySelector('#' + key + ' button');\n",
              "      quickchartButtonEl.disabled = true;  // To prevent multiple clicks.\n",
              "      quickchartButtonEl.classList.add('colab-df-spinner');\n",
              "      try {\n",
              "        const charts = await google.colab.kernel.invokeFunction(\n",
              "            'suggestCharts', [key], {});\n",
              "      } catch (error) {\n",
              "        console.error('Error during call to suggestCharts:', error);\n",
              "      }\n",
              "      quickchartButtonEl.classList.remove('colab-df-spinner');\n",
              "      quickchartButtonEl.classList.add('colab-df-quickchart-complete');\n",
              "    }\n",
              "    (() => {\n",
              "      let quickchartButtonEl =\n",
              "        document.querySelector('#df-e152e741-c64c-4a3b-a34e-91c922bf9e70 button');\n",
              "      quickchartButtonEl.style.display =\n",
              "        google.colab.kernel.accessAllowed ? 'block' : 'none';\n",
              "    })();\n",
              "  </script>\n",
              "</div>\n",
              "    </div>\n",
              "  </div>\n"
            ],
            "application/vnd.google.colaboratory.intrinsic+json": {
              "type": "dataframe"
            }
          },
          "metadata": {},
          "execution_count": 46
        }
      ]
    },
    {
      "cell_type": "code",
      "source": [
        "df.drop(\"Опыт работы (года)\", axis=1, inplace=True)"
      ],
      "metadata": {
        "id": "ChXixy9BSZRL"
      },
      "id": "ChXixy9BSZRL",
      "execution_count": 47,
      "outputs": []
    },
    {
      "cell_type": "markdown",
      "id": "0cc3b0d5-b551-424d-9956-8da18fce17a1",
      "metadata": {
        "id": "0cc3b0d5-b551-424d-9956-8da18fce17a1"
      },
      "source": [
        "**Дополнительные баллы**\n",
        "\n",
        "Для получения 2 дополнительных баллов по разведывательному анализу постройте еще два любых содержательных графика или диаграммы, которые помогут проиллюстрировать влияние признаков/взаимосвязь между признаками/распределения признаков. Приведите выводы по ним. Желательно, чтобы в анализе участвовали признаки, которые мы создавали ранее в разделе \"Преобразование данных\".\n"
      ]
    },
    {
      "cell_type": "code",
      "execution_count": null,
      "id": "e273ec66-b8df-41e5-9b99-bdab93dddd85",
      "metadata": {
        "id": "e273ec66-b8df-41e5-9b99-bdab93dddd85"
      },
      "outputs": [],
      "source": [
        "# ваш код здесь"
      ]
    },
    {
      "cell_type": "markdown",
      "id": "04966e40-3bc3-4dc8-9ba2-e80580ce3abc",
      "metadata": {
        "id": "04966e40-3bc3-4dc8-9ba2-e80580ce3abc"
      },
      "source": [
        "ваши выводы здесь"
      ]
    },
    {
      "cell_type": "markdown",
      "id": "b1ef156a-efcb-49ce-bb23-90763e7f35b2",
      "metadata": {
        "tags": [],
        "id": "b1ef156a-efcb-49ce-bb23-90763e7f35b2"
      },
      "source": [
        "# Очистка данных"
      ]
    },
    {
      "cell_type": "markdown",
      "id": "b9cd50a0-992d-4988-8463-2b2b1c4629b4",
      "metadata": {
        "id": "b9cd50a0-992d-4988-8463-2b2b1c4629b4"
      },
      "source": [
        "1. Начнем с дубликатов в наших данных. Найдите **полные дубликаты** в таблице с резюме и удалите их."
      ]
    },
    {
      "cell_type": "code",
      "execution_count": 48,
      "id": "54ab0e50-c0f1-47cc-a54b-bc5c8bc363f9",
      "metadata": {
        "colab": {
          "base_uri": "https://localhost:8080/"
        },
        "id": "54ab0e50-c0f1-47cc-a54b-bc5c8bc363f9",
        "outputId": "669c8a97-8fcd-4f39-e680-91c4a7504982"
      },
      "outputs": [
        {
          "output_type": "execute_result",
          "data": {
            "text/plain": [
              "(44744, 25)"
            ]
          },
          "metadata": {},
          "execution_count": 48
        }
      ],
      "source": [
        "# ваш код здесь\n",
        "df.shape"
      ]
    },
    {
      "cell_type": "code",
      "source": [
        "df.drop_duplicates(inplace=True)\n",
        "df.shape"
      ],
      "metadata": {
        "colab": {
          "base_uri": "https://localhost:8080/"
        },
        "id": "ih2uuzLzSinF",
        "outputId": "45babc07-9e39-438b-e608-342fa8e99564"
      },
      "id": "ih2uuzLzSinF",
      "execution_count": 49,
      "outputs": [
        {
          "output_type": "execute_result",
          "data": {
            "text/plain": [
              "(44591, 25)"
            ]
          },
          "metadata": {},
          "execution_count": 49
        }
      ]
    },
    {
      "cell_type": "markdown",
      "id": "4dea20cb-a36b-474a-a0b9-e08e8e3857a5",
      "metadata": {
        "id": "4dea20cb-a36b-474a-a0b9-e08e8e3857a5"
      },
      "source": [
        "2. Займемся пропусками. Выведите информацию **о числе пропусков** в столбцах."
      ]
    },
    {
      "cell_type": "code",
      "execution_count": 50,
      "id": "9c61b3c0-bb66-46c9-ae1e-81d3f5752b4a",
      "metadata": {
        "colab": {
          "base_uri": "https://localhost:8080/",
          "height": 121
        },
        "id": "9c61b3c0-bb66-46c9-ae1e-81d3f5752b4a",
        "outputId": "01ca3cae-035a-4dbc-b9dd-c48f75e10e76"
      },
      "outputs": [
        {
          "output_type": "stream",
          "name": "stdout",
          "text": [
            "Пропуски присутствуют в столбцах:\n"
          ]
        },
        {
          "output_type": "display_data",
          "data": {
            "text/plain": [
              "Опыт работы (месяц)                168\n",
              "Опыт работы                        166\n",
              "Последняя/нынешняя должность         2\n",
              "Последнее/нынешнее место работы      1\n",
              "dtype: int64"
            ]
          },
          "metadata": {}
        }
      ],
      "source": [
        "# ваш код здесь\n",
        "col_nan = df.isnull().sum()\n",
        "col = col_nan[col_nan > 0].sort_values(ascending=False)\n",
        "print('Пропуски присутствуют в столбцах:')\n",
        "display(col)"
      ]
    },
    {
      "cell_type": "markdown",
      "id": "eedceb80-c5ca-480e-b27a-278dfb8b4438",
      "metadata": {
        "id": "eedceb80-c5ca-480e-b27a-278dfb8b4438"
      },
      "source": [
        "3. Итак, у нас есть пропуски в 3ех столбцах: **\"Опыт работы (месяц)\"**, **\"Последнее/нынешнее место работы\"**, **\"Последняя/нынешняя должность\"**. Поступим следующим образом: удалите строки, где есть пропуск в столбцах с местом работы и должностью. Пропуски в столбце с опытом работы заполните **медианным** значением."
      ]
    },
    {
      "cell_type": "code",
      "execution_count": 51,
      "id": "69621713-0cc5-4f1b-a1d7-bb144fa6148c",
      "metadata": {
        "colab": {
          "base_uri": "https://localhost:8080/"
        },
        "id": "69621713-0cc5-4f1b-a1d7-bb144fa6148c",
        "outputId": "863f4766-7fdc-4046-e91b-a9771a3f7e68"
      },
      "outputs": [
        {
          "output_type": "execute_result",
          "data": {
            "text/plain": [
              "Ищет работу на должность:            0\n",
              "Опыт работы                        166\n",
              "Последнее/нынешнее место работы      0\n",
              "Последняя/нынешняя должность         0\n",
              "Образование и ВУЗ                    0\n",
              "Обновление резюме                    0\n",
              "Авто                                 0\n",
              "Образование                          0\n",
              "Пол                                  0\n",
              "Возраст                              0\n",
              "Опыт работы (месяц)                  0\n",
              "Город                                0\n",
              "Готовность к переезду                0\n",
              "Готовность к командировкам           0\n",
              "полная занятость                     0\n",
              "частичная занятость                  0\n",
              "проектная работа                     0\n",
              "волонтерство                         0\n",
              "стажировка                           0\n",
              "полный день                          0\n",
              "сменный график                       0\n",
              "гибкий график                        0\n",
              "удаленная работа                     0\n",
              "вахтовый метод                       0\n",
              "ЗП (руб)                             0\n",
              "dtype: int64"
            ]
          },
          "metadata": {},
          "execution_count": 51
        }
      ],
      "source": [
        "# ваш код здесь\n",
        "df = df.dropna(how='any', subset=['Последняя/нынешняя должность', 'Последнее/нынешнее место работы'])\n",
        "df = df.fillna(value={'Опыт работы (месяц)':df['Опыт работы (месяц)'].median()})\n",
        "\n",
        "df.isnull().sum()"
      ]
    },
    {
      "cell_type": "markdown",
      "id": "1be1e9c6-37cf-4a5f-bfeb-04cab799dc80",
      "metadata": {
        "id": "1be1e9c6-37cf-4a5f-bfeb-04cab799dc80"
      },
      "source": [
        "4. Мы добрались до ликвидации выбросов. Сначала очистим данные вручную. Удалите резюме, в которых указана заработная плата либо выше 1 млн. рублей, либо ниже 1 тыс. рублей."
      ]
    },
    {
      "cell_type": "code",
      "execution_count": 52,
      "id": "0036a355-9ccf-4564-8b01-73d8194297e7",
      "metadata": {
        "id": "0036a355-9ccf-4564-8b01-73d8194297e7"
      },
      "outputs": [],
      "source": [
        "# ваш код здесь\n",
        "mask = (df['ЗП (руб)'] > 1e6) | (df['ЗП (руб)'] < 1e3)\n",
        "ind = df[mask].index\n",
        "hh_clear_anom = df.drop(index=ind)"
      ]
    },
    {
      "cell_type": "code",
      "source": [
        "ind.value_counts().sum()"
      ],
      "metadata": {
        "colab": {
          "base_uri": "https://localhost:8080/"
        },
        "id": "EA5nSZl2Tfds",
        "outputId": "40a07758-54de-4066-fd9f-ba3cbfd3f557"
      },
      "id": "EA5nSZl2Tfds",
      "execution_count": 53,
      "outputs": [
        {
          "output_type": "execute_result",
          "data": {
            "text/plain": [
              "89"
            ]
          },
          "metadata": {},
          "execution_count": 53
        }
      ]
    },
    {
      "cell_type": "markdown",
      "id": "ec3c8db7-fa21-4a41-a994-1af63742a642",
      "metadata": {
        "id": "ec3c8db7-fa21-4a41-a994-1af63742a642"
      },
      "source": [
        "5. В процессе разведывательного анализа мы обнаружили резюме, в которых **опыт работы в годах превышал возраст соискателя**. Найдите такие резюме и удалите их из данных\n"
      ]
    },
    {
      "cell_type": "code",
      "execution_count": 56,
      "id": "949132bc-d5b6-4611-8218-0b9a504d74f4",
      "metadata": {
        "id": "949132bc-d5b6-4611-8218-0b9a504d74f4"
      },
      "outputs": [],
      "source": [
        "# ваш код здесь\n",
        "mask = (df['Опыт работы (месяц)'] / 12) > df['Возраст']\n",
        "ind = df[mask].index\n",
        "hh_no_anom = df.drop(index=ind)"
      ]
    },
    {
      "cell_type": "code",
      "source": [
        "ind.value_counts().sum()"
      ],
      "metadata": {
        "colab": {
          "base_uri": "https://localhost:8080/"
        },
        "id": "lYunOlCcTvzh",
        "outputId": "466f94a1-9077-4f4c-d5ee-8ad2c4e44418"
      },
      "id": "lYunOlCcTvzh",
      "execution_count": 57,
      "outputs": [
        {
          "output_type": "execute_result",
          "data": {
            "text/plain": [
              "7"
            ]
          },
          "metadata": {},
          "execution_count": 57
        }
      ]
    },
    {
      "cell_type": "markdown",
      "id": "1041c17a-ca8f-4543-a0ca-32778914fb00",
      "metadata": {
        "id": "1041c17a-ca8f-4543-a0ca-32778914fb00"
      },
      "source": [
        "6. В результате анализа мы обнаружили потенциальные выбросы в признаке **\"Возраст\"**. Это оказались резюме людей чересчур преклонного возраста для поиска работы. Попробуйте построить распределение признака в **логарифмическом масштабе**. Добавьте к графику линии, отображающие **среднее и границы интервала метода трех сигм**. Напомним, сделать это можно с помощью метода axvline. Например, для построение линии среднего будет иметь вид:\n",
        "\n",
        "`histplot.axvline(log_age.mean(), color='k', lw=2)`\n",
        "\n",
        "В какую сторону асимметрично логарифмическое распределение? Напишите об этом в комментарии к графику.\n",
        "Найдите выбросы с помощью метода z-отклонения и удалите их из данных, используйте логарифмический масштаб. Давайте сделаем послабление на **1 сигму** (возьмите 4 сигмы) в **правую сторону**.\n",
        "\n",
        "Выведите таблицу с полученными выбросами и оцените, с каким возрастом соискатели попадают под категорию выбросов?"
      ]
    },
    {
      "cell_type": "code",
      "execution_count": 58,
      "id": "6a743d39-5204-48d3-8271-b9f88e68d40e",
      "metadata": {
        "colab": {
          "base_uri": "https://localhost:8080/",
          "height": 466
        },
        "id": "6a743d39-5204-48d3-8271-b9f88e68d40e",
        "outputId": "746dd9b2-27ef-441b-b342-70daad5c9b54"
      },
      "outputs": [
        {
          "output_type": "execute_result",
          "data": {
            "text/plain": [
              "<matplotlib.lines.Line2D at 0x7bf78c62e2c0>"
            ]
          },
          "metadata": {},
          "execution_count": 58
        },
        {
          "output_type": "display_data",
          "data": {
            "text/plain": [
              "<Figure size 640x480 with 1 Axes>"
            ],
            "image/png": "[encoded data removed]"
          },
          "metadata": {}
        }
      ],
      "source": [
        "# ваш код здесь\n",
        "log_age = np.log(df['Возраст'])\n",
        "histplot = sns.histplot(log_age, kde=False)\n",
        "\n",
        "mean = log_age.mean()\n",
        "std = log_age.std()\n",
        "\n",
        "histplot.axvline(mean, color='k', lw=2)\n",
        "histplot.axvline(mean - 3*std, color='r', lw=2, ls='--')\n",
        "histplot.axvline(mean + 3*std, color='r', lw=2, ls='--')"
      ]
    },
    {
      "cell_type": "code",
      "source": [
        "z_scores = (log_age - mean) / std\n",
        "mask = ((z_scores > 4) | (z_scores < -3))\n",
        "df = df[~mask]"
      ],
      "metadata": {
        "id": "EFu7AdPQUOpu"
      },
      "id": "EFu7AdPQUOpu",
      "execution_count": 59,
      "outputs": []
    },
    {
      "cell_type": "markdown",
      "id": "6a7892b4-4113-4746-adce-18aa2844f18e",
      "metadata": {
        "id": "6a7892b4-4113-4746-adce-18aa2844f18e"
      },
      "source": [
        "ваш коммментарий здесь"
      ]
    }
  ],
  "metadata": {
    "kernelspec": {
      "display_name": "Python 3 (ipykernel)",
      "language": "python",
      "name": "python3"
    },
    "language_info": {
      "codemirror_mode": {
        "name": "ipython",
        "version": 3
      },
      "file_extension": ".py",
      "mimetype": "text/x-python",
      "name": "python",
      "nbconvert_exporter": "python",
      "pygments_lexer": "ipython3",
      "version": "3.9.7"
    },
    "colab": {
      "provenance": []
    }
  },
  "nbformat": 4,
  "nbformat_minor": 5
}